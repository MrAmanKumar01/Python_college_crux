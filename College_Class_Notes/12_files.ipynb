{
 "cells": [
  {
   "cell_type": "code",
   "execution_count": 1,
   "id": "13f8fb8d",
   "metadata": {},
   "outputs": [],
   "source": [
    "''' \n",
    "open() returns a file object, \n",
    "and is most commonly used with two positional arguments \n",
    "and one keyword argument:\n",
    "open(filename, mode, encoding=None)\n",
    "\n",
    "available modes are 'r','w','a','x':\n",
    "========= ====================================================\n",
    "Character  Meaning\n",
    "--------- ----------------------------------------------------\n",
    "'r'       open for reading (default), \n",
    "          error if the file does not exist\n",
    "'w'       open for writing, truncating the file first,\n",
    "          creates the file if it does not exist\n",
    "'x'       create a new file and open it for writing,\n",
    "          returns an error if the file exists\n",
    "'a'       open for writing, appending to the end of the file \n",
    "          if it exists, creates the file if it does not exist\n",
    "'b'       binary mode\n",
    "'t'       text mode (default)\n",
    "'+'       open a disk file for updating (reading and writing)\n",
    "\n",
    "The default mode is 'rt' (open for reading text).\n",
    "Files opened in binary mode return contents as bytes objects \n",
    "without any decoding.\n",
    "In text mode, the contents of the file are returned as strings, \n",
    "the bytes having been first decoded using a platform-dependent encoding \n",
    "or using the specified encoding if given.\n",
    "'''\n",
    "w_file = open('test1.txt','w')\n",
    "for x in range(6):\n",
    "    w_file.write(str(x))        #write 012345 to the file test1.txt\n",
    "w_file.close()   "
   ]
  },
  {
   "cell_type": "code",
   "execution_count": 2,
   "id": "88d74145",
   "metadata": {},
   "outputs": [],
   "source": [
    "# 'with' statement to use context manager to close a file\n",
    "\n",
    "with open('test2.txt','w') as w_file:\n",
    "    # write 0 to 5 each in a separate line to file test2.txt\n",
    "    for x in range(6):\n",
    "        w_file.write(str(x))\n",
    "        w_file.write('\\n')"
   ]
  },
  {
   "cell_type": "code",
   "execution_count": 3,
   "id": "a3e63959",
   "metadata": {},
   "outputs": [
    {
     "name": "stdout",
     "output_type": "stream",
     "text": [
      "0\n",
      "\n",
      "1\n",
      "\n",
      "2\n",
      "\n",
      "3\n",
      "\n",
      "4\n",
      "\n",
      "5\n",
      "\n"
     ]
    }
   ],
   "source": [
    "# reading a file - looping through the file line by line\n",
    "\n",
    "with open('test2.txt','r') as r_file:\n",
    "    for x in r_file:\n",
    "        print(x)"
   ]
  },
  {
   "cell_type": "code",
   "execution_count": 4,
   "id": "6c68c739",
   "metadata": {},
   "outputs": [
    {
     "name": "stdout",
     "output_type": "stream",
     "text": [
      "0\n",
      "1\n",
      "2\n",
      "3\n",
      "4\n",
      "5\n"
     ]
    }
   ],
   "source": [
    "\"\"\" as the line read has a newline at the end of it\n",
    "and also print() provides a newline, there is \n",
    "one extra blank line after each line of output above\"\"\"\n",
    "\n",
    "with open('test2.txt') as r_file:\n",
    "    for x in r_file:\n",
    "        print(x.rstrip())          # get rid of the newline at the end of a line"
   ]
  },
  {
   "cell_type": "code",
   "execution_count": 5,
   "id": "de6a21ad",
   "metadata": {},
   "outputs": [
    {
     "name": "stdout",
     "output_type": "stream",
     "text": [
      "<class 'str'>\n",
      "0\n",
      "1\n",
      "2\n",
      "3\n",
      "4\n",
      "5\n",
      "\n",
      "--------------------\n",
      "<class 'str'>\n",
      "\n"
     ]
    }
   ],
   "source": [
    "# read(n)- read and return a string of n characters, \n",
    "# or the entire file as a single string if n is not provided\n",
    "\n",
    "with open('test2.txt') as r_file:        \n",
    "    x = r_file.read()             # read the entire file as a single string\n",
    "    y = r_file.read()             \n",
    "print(type(x))\n",
    "print(x)\n",
    "print('-'*20)\n",
    "print(type(y))\n",
    "print(y)"
   ]
  },
  {
   "cell_type": "code",
   "execution_count": 6,
   "id": "6ca63f19",
   "metadata": {},
   "outputs": [
    {
     "name": "stdout",
     "output_type": "stream",
     "text": [
      "<class 'str'>\n",
      "0\n",
      "\n",
      "1\n",
      "\n",
      "2\n",
      "\n"
     ]
    }
   ],
   "source": [
    "# readline(n) - return the next line of the file\n",
    "# with all text up to and including the newline character. \n",
    "# if n is provided as a parameter, then only n characters\n",
    "# will be returned if the line is longer than n. \n",
    "\n",
    "with open('test2.txt') as r_file:\n",
    "    x=r_file.readline()\n",
    "    y=r_file.readline()\n",
    "    z=r_file.readline()\n",
    "print(type(x))\n",
    "print(x)\n",
    "print(y)\n",
    "print(z)"
   ]
  },
  {
   "cell_type": "code",
   "execution_count": 7,
   "id": "3a119c57",
   "metadata": {},
   "outputs": [
    {
     "name": "stdout",
     "output_type": "stream",
     "text": [
      "<class 'list'>\n",
      "['0\\n', '1\\n', '2\\n', '3\\n', '4\\n', '5\\n']\n"
     ]
    }
   ],
   "source": [
    "\"\"\" readlines(n) - returns a list of strings, \n",
    "each representing a single line of the file. \n",
    "if n is not provided then all lines of the file are returned. \n",
    "if n provided and the number of bytes returned exceed n, \n",
    "no more lines will be returned \"\"\"\n",
    "\n",
    "with open('test2.txt') as r_file:\n",
    "    x = r_file.readlines()\n",
    "print(type(x))\n",
    "print(x)"
   ]
  },
  {
   "cell_type": "code",
   "execution_count": 8,
   "id": "47fdbc25",
   "metadata": {},
   "outputs": [],
   "source": [
    "# delete a file - import the os module, and run its os.remove()\n",
    "\n",
    "import os\n",
    "\n",
    "if os.path.exists(\"test1.txt\"):\n",
    "    os.remove(\"test1.txt\")\n",
    "else:\n",
    "    print(\"The file does not exist\")"
   ]
  },
  {
   "cell_type": "code",
   "execution_count": 9,
   "id": "2ae7744d",
   "metadata": {},
   "outputs": [],
   "source": [
    "# writing a dictionary to a file using json\n",
    "# json.dump() - serialize an object as a JSON formatted stream \n",
    "\n",
    "import json\n",
    "\n",
    "x = {'name':'Aditi','roll':5, \"marks\":96}\n",
    "\n",
    "with open('test3.txt','w') as w_file:\n",
    "    json.dump(x,w_file)"
   ]
  },
  {
   "cell_type": "code",
   "execution_count": 10,
   "id": "ee71d3fa",
   "metadata": {},
   "outputs": [
    {
     "name": "stdout",
     "output_type": "stream",
     "text": [
      "<class 'dict'>\n",
      "{'name': 'Aditi', 'roll': 5, 'marks': 96}\n"
     ]
    }
   ],
   "source": [
    "# reading the file test3.txt \n",
    "\n",
    "import json\n",
    "\n",
    "with open('test3.txt') as r_file:\n",
    "    x = json.load(r_file)\n",
    "\n",
    "print(type(x))\n",
    "print(x)"
   ]
  },
  {
   "cell_type": "code",
   "execution_count": 11,
   "id": "13f70b9a",
   "metadata": {},
   "outputs": [],
   "source": [
    "\"\"\" writing a dictionary to a file using pickle\n",
    "The pickle module implements binary protocols \n",
    "for serializing and de-serializing a Python object structure. \n",
    "“Pickling” is the process whereby a Python object hierarchy \n",
    "is converted into a byte stream, \n",
    "and “unpickling” is the inverse operation, \n",
    "whereby a byte stream (from a binary file or bytes-like object) \n",
    "is converted back into an object hierarchy\"\"\"\n",
    "\n",
    "import pickle\n",
    "\n",
    "x = {'name':'Aditi','roll':5, 'marks':[96, 100, 83]}\n",
    "\n",
    "with open('test4','wb') as w_file:\n",
    "    pickle.dump(x,w_file)"
   ]
  },
  {
   "cell_type": "code",
   "execution_count": 12,
   "id": "06d53111",
   "metadata": {},
   "outputs": [
    {
     "name": "stdout",
     "output_type": "stream",
     "text": [
      "<class 'dict'>\n",
      "{'name': 'Aditi', 'roll': 5, 'marks': [96, 100, 83]}\n"
     ]
    }
   ],
   "source": [
    "# reading the file test4\n",
    "\n",
    "import pickle\n",
    "\n",
    "with open('test4','rb') as r_file:\n",
    "    x = pickle.load(r_file)\n",
    "\n",
    "print(type(x))\n",
    "print(x)"
   ]
  },
  {
   "cell_type": "code",
   "execution_count": 13,
   "id": "8dab269b",
   "metadata": {},
   "outputs": [
    {
     "name": "stdout",
     "output_type": "stream",
     "text": [
      "0\n",
      "{\"name\"\n",
      "7\n"
     ]
    }
   ],
   "source": [
    "# Some of the other methods on a file object\n",
    "\n",
    "# tell() method returns the current file position in a file stream.\n",
    "\n",
    "with open(\"test3.txt\") as r_file:\n",
    "    print(r_file.tell())\n",
    "    print(r_file.read(7))\n",
    "    print(r_file.tell())\n"
   ]
  },
  {
   "cell_type": "code",
   "execution_count": 14,
   "id": "f63b564c",
   "metadata": {},
   "outputs": [
    {
     "name": "stdout",
     "output_type": "stream",
     "text": [
      "5\n",
      "e\": \"Aditi\", \"roll\": 5, \"marks\": 96}\n"
     ]
    }
   ],
   "source": [
    "# Some of the other methods on a file object\n",
    "\n",
    "# seek() method sets the current file position in a file stream\n",
    "# and also returns the new postion.\n",
    "\n",
    "with open(\"test3.txt\") as r_file:\n",
    "    print(r_file.seek(5))\n",
    "    print(r_file.readline())"
   ]
  },
  {
   "cell_type": "code",
   "execution_count": 16,
   "id": "7ca29c07",
   "metadata": {},
   "outputs": [
    {
     "data": {
      "text/plain": [
       "['_CHUNK_SIZE',\n",
       " '__class__',\n",
       " '__del__',\n",
       " '__delattr__',\n",
       " '__dict__',\n",
       " '__dir__',\n",
       " '__doc__',\n",
       " '__enter__',\n",
       " '__eq__',\n",
       " '__exit__',\n",
       " '__format__',\n",
       " '__ge__',\n",
       " '__getattribute__',\n",
       " '__gt__',\n",
       " '__hash__',\n",
       " '__init__',\n",
       " '__init_subclass__',\n",
       " '__iter__',\n",
       " '__le__',\n",
       " '__lt__',\n",
       " '__ne__',\n",
       " '__new__',\n",
       " '__next__',\n",
       " '__reduce__',\n",
       " '__reduce_ex__',\n",
       " '__repr__',\n",
       " '__setattr__',\n",
       " '__sizeof__',\n",
       " '__str__',\n",
       " '__subclasshook__',\n",
       " '_checkClosed',\n",
       " '_checkReadable',\n",
       " '_checkSeekable',\n",
       " '_checkWritable',\n",
       " '_finalizing',\n",
       " 'buffer',\n",
       " 'close',\n",
       " 'closed',\n",
       " 'detach',\n",
       " 'encoding',\n",
       " 'errors',\n",
       " 'fileno',\n",
       " 'flush',\n",
       " 'isatty',\n",
       " 'line_buffering',\n",
       " 'mode',\n",
       " 'name',\n",
       " 'newlines',\n",
       " 'read',\n",
       " 'readable',\n",
       " 'readline',\n",
       " 'readlines',\n",
       " 'reconfigure',\n",
       " 'seek',\n",
       " 'seekable',\n",
       " 'tell',\n",
       " 'truncate',\n",
       " 'writable',\n",
       " 'write',\n",
       " 'write_through',\n",
       " 'writelines']"
      ]
     },
     "execution_count": 16,
     "metadata": {},
     "output_type": "execute_result"
    }
   ],
   "source": [
    "dir(r_file)"
   ]
  },
  {
   "cell_type": "code",
   "execution_count": null,
   "id": "2025de2d",
   "metadata": {},
   "outputs": [],
   "source": []
  }
 ],
 "metadata": {
  "kernelspec": {
   "display_name": "Python 3 (ipykernel)",
   "language": "python",
   "name": "python3"
  },
  "language_info": {
   "codemirror_mode": {
    "name": "ipython",
    "version": 3
   },
   "file_extension": ".py",
   "mimetype": "text/x-python",
   "name": "python",
   "nbconvert_exporter": "python",
   "pygments_lexer": "ipython3",
   "version": "3.10.9"
  }
 },
 "nbformat": 4,
 "nbformat_minor": 5
}
