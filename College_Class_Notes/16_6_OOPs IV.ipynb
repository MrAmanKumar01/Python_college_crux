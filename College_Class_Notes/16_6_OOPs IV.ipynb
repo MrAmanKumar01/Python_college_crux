{
 "cells": [
  {
   "cell_type": "code",
   "execution_count": 1,
   "id": "a4160874",
   "metadata": {},
   "outputs": [
    {
     "name": "stdout",
     "output_type": "stream",
     "text": [
      "In B\n",
      "In C\n",
      "In D3\n"
     ]
    }
   ],
   "source": [
    "class A:\n",
    "    def f(self):\n",
    "        print(\"In A\")\n",
    "\n",
    "class B(A):\n",
    "    def f(self):\n",
    "        print(\"In B\")\n",
    "\n",
    "class C(A):\n",
    "    def f(self):\n",
    "        print(\"In C\")\n",
    "\n",
    "# Inherits from B, then C; does not override f()\n",
    "class D1(B,C):\n",
    "    pass\n",
    "\n",
    "# Inherits from C, then B; does not override f()\n",
    "class D2(C,B):\n",
    "    pass\n",
    "\n",
    "# Overrides f()\n",
    "class D3(B,C):\n",
    "    def f(self):\n",
    "        print(\"In D3\")\n",
    "        \n",
    "x = D1()\n",
    "x.f()\n",
    "\n",
    "x = D2()\n",
    "x.f()\n",
    "\n",
    "x = D3()\n",
    "x.f()"
   ]
  },
  {
   "cell_type": "code",
   "execution_count": 2,
   "id": "ad0a80da",
   "metadata": {},
   "outputs": [
    {
     "name": "stdout",
     "output_type": "stream",
     "text": [
      "In A\n",
      "In B\n",
      "In A\n",
      "In C\n",
      "In D\n"
     ]
    }
   ],
   "source": [
    "# overridden f() in B and C; invoke A's f() explicitly\n",
    "class A:\n",
    "    def f(self):\n",
    "        print(\"In A\")\n",
    "        \n",
    "class B(A):\n",
    "    def f(self):\n",
    "        A.f(self)\n",
    "        print(\"In B\")\n",
    "        \n",
    "class C(A):\n",
    "    def f(self):\n",
    "        A.f(self)\n",
    "        print(\"In C\")\n",
    "        \n",
    "class D(B,C):\n",
    "    def f(self):\n",
    "        B.f(self)\n",
    "        C.f(self)\n",
    "        print(\"In D\")\n",
    "        \n",
    "x = D()\n",
    "x.f()"
   ]
  },
  {
   "cell_type": "code",
   "execution_count": 3,
   "id": "322f79fe",
   "metadata": {},
   "outputs": [
    {
     "name": "stdout",
     "output_type": "stream",
     "text": [
      "In A\n",
      "In C\n",
      "In B\n",
      "In D\n"
     ]
    }
   ],
   "source": [
    "# using super()\n",
    "\n",
    "class A:\n",
    "    def f(self):\n",
    "        print(\"In A\")\n",
    "        \n",
    "class B(A):\n",
    "    def f(self):\n",
    "        super().f()\n",
    "        print(\"In B\")\n",
    "        \n",
    "class C(A):\n",
    "    def f(self):\n",
    "        super().f()\n",
    "        print(\"In C\")\n",
    "        \n",
    "class D(B,C):\n",
    "    def f(self):\n",
    "        super().f()\n",
    "        print(\"In D\")\n",
    "           \n",
    "x = D()\n",
    "x.f()"
   ]
  },
  {
   "cell_type": "markdown",
   "id": "da40f33e",
   "metadata": {},
   "source": [
    "With super(), A's f() is only run once, because super() uses Method Resolution Order (MRO) to linearize the superclass. \n",
    "So, super() is strongly recommended for multiple inheritance, instead of explicit class call."
   ]
  },
  {
   "cell_type": "code",
   "execution_count": 4,
   "id": "6128fcbf",
   "metadata": {},
   "outputs": [
    {
     "name": "stdout",
     "output_type": "stream",
     "text": [
      "Help on class D in module __main__:\n",
      "\n",
      "class D(B, C)\n",
      " |  Method resolution order:\n",
      " |      D\n",
      " |      B\n",
      " |      C\n",
      " |      A\n",
      " |      builtins.object\n",
      " |  \n",
      " |  Methods defined here:\n",
      " |  \n",
      " |  f(self)\n",
      " |  \n",
      " |  ----------------------------------------------------------------------\n",
      " |  Data descriptors inherited from A:\n",
      " |  \n",
      " |  __dict__\n",
      " |      dictionary for instance variables (if defined)\n",
      " |  \n",
      " |  __weakref__\n",
      " |      list of weak references to the object (if defined)\n",
      "\n"
     ]
    }
   ],
   "source": [
    "help(D)"
   ]
  },
  {
   "cell_type": "code",
   "execution_count": 5,
   "id": "9045ec78",
   "metadata": {},
   "outputs": [
    {
     "name": "stdout",
     "output_type": "stream",
     "text": [
      "In A\n",
      "In C\n",
      "In B\n",
      "In D\n"
     ]
    }
   ],
   "source": [
    "class A:\n",
    "    def __init__(self):\n",
    "        print(\"In A\")\n",
    "        \n",
    "class B(A):\n",
    "    def __init__(self):\n",
    "        super().__init__()\n",
    "        print(\"In B\")\n",
    "        \n",
    "class C(A):\n",
    "    def __init__(self):\n",
    "        super().__init__()\n",
    "        print(\"In C\")\n",
    "        \n",
    "class D(B,C):\n",
    "    def __init__(self):\n",
    "        super().__init__()\n",
    "        print(\"In D\")\n",
    "        \n",
    "x = D()"
   ]
  },
  {
   "cell_type": "code",
   "execution_count": 6,
   "id": "4272be13",
   "metadata": {},
   "outputs": [
    {
     "ename": "TypeError",
     "evalue": "Cannot create a consistent method resolution\norder (MRO) for bases A, B",
     "output_type": "error",
     "traceback": [
      "\u001b[1;31m---------------------------------------------------------------------------\u001b[0m",
      "\u001b[1;31mTypeError\u001b[0m                                 Traceback (most recent call last)",
      "Cell \u001b[1;32mIn[6], line 11\u001b[0m\n\u001b[0;32m      8\u001b[0m \u001b[38;5;28;01mclass\u001b[39;00m \u001b[38;5;21;01mD\u001b[39;00m(B, A):\n\u001b[0;32m      9\u001b[0m     \u001b[38;5;28;01mpass\u001b[39;00m\n\u001b[1;32m---> 11\u001b[0m \u001b[38;5;28;01mclass\u001b[39;00m \u001b[38;5;21;01mD1\u001b[39;00m(C, D):\n\u001b[0;32m     12\u001b[0m     \u001b[38;5;28;01mpass\u001b[39;00m\n",
      "\u001b[1;31mTypeError\u001b[0m: Cannot create a consistent method resolution\norder (MRO) for bases A, B"
     ]
    }
   ],
   "source": [
    "# ???????\n",
    "class A:\n",
    "    pass\n",
    "class B:\n",
    "    pass\n",
    "class C(A, B):\n",
    "    pass\n",
    "class D(B, A):\n",
    "    pass\n",
    "\n",
    "class D1(C, D):\n",
    "    pass"
   ]
  }
 ],
 "metadata": {
  "kernelspec": {
   "display_name": "Python 3 (ipykernel)",
   "language": "python",
   "name": "python3"
  },
  "language_info": {
   "codemirror_mode": {
    "name": "ipython",
    "version": 3
   },
   "file_extension": ".py",
   "mimetype": "text/x-python",
   "name": "python",
   "nbconvert_exporter": "python",
   "pygments_lexer": "ipython3",
   "version": "3.10.9"
  }
 },
 "nbformat": 4,
 "nbformat_minor": 5
}
