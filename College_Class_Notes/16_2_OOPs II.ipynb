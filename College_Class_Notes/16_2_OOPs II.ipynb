{
 "cells": [
  {
   "cell_type": "markdown",
   "id": "6410dbda",
   "metadata": {},
   "source": [
    "#### A class method belongs to the class and is a function of the class.<br><br>It is declared with the @classmethod decorator.<br><br>It accepts the class as its first argument."
   ]
  },
  {
   "cell_type": "code",
   "execution_count": 1,
   "id": "d8a56eec",
   "metadata": {},
   "outputs": [
    {
     "name": "stdout",
     "output_type": "stream",
     "text": [
      "Hello from MyClass\n"
     ]
    }
   ],
   "source": [
    "class MyClass:\n",
    "    \n",
    "    @classmethod\n",
    "    def hello(cls):\n",
    "        print(f'Hello from {cls.__name__}')\n",
    "        \n",
    "MyClass.hello()"
   ]
  },
  {
   "cell_type": "code",
   "execution_count": 2,
   "id": "df97aa14",
   "metadata": {},
   "outputs": [
    {
     "name": "stdout",
     "output_type": "stream",
     "text": [
      "Hello from MyClass\n"
     ]
    }
   ],
   "source": [
    "# Can be invoked via an instance too\n",
    "\n",
    "myinstance = MyClass()\n",
    "myinstance.hello()"
   ]
  },
  {
   "cell_type": "markdown",
   "id": "29ee10a5",
   "metadata": {},
   "source": [
    "#### An instance method is invoked by an instance object (and not a class object). <br><br> It takes the instance (self) as its first argument."
   ]
  },
  {
   "cell_type": "code",
   "execution_count": 3,
   "id": "77284d7c",
   "metadata": {},
   "outputs": [
    {
     "name": "stdout",
     "output_type": "stream",
     "text": [
      "Hello from MyClass1\n"
     ]
    }
   ],
   "source": [
    "class MyClass1:\n",
    "    \n",
    "    def hello(self, msg):\n",
    "        print(f'{msg} {self.__class__.__name__}')\n",
    "        \n",
    "myinstance_1 = MyClass1()\n",
    "myinstance_1.hello(\"Hello from\")"
   ]
  },
  {
   "cell_type": "code",
   "execution_count": 4,
   "id": "e95d9d27",
   "metadata": {},
   "outputs": [
    {
     "name": "stdout",
     "output_type": "stream",
     "text": [
      "Greetings from MyClass1\n"
     ]
    }
   ],
   "source": [
    "# Instance method cannot be invoked via a class object\n",
    "# MyClass1.hello()  # TypeError: hello() missing 1 required positional argument:'self'\n",
    "\n",
    "# To invoke an instance method via a class object\n",
    "# the instance object is passed as the first argument\n",
    "\n",
    "MyClass1.hello(myinstance_1, \"Greetings from\") "
   ]
  },
  {
   "cell_type": "markdown",
   "id": "8a2bff9a",
   "metadata": {},
   "source": [
    "#### A static method is declared with a @staticmethod decorator.<br><br>It \"doesn't know its class\" and is attached to the class for convenience.<br><br>It does not depend on the state of the object and could be a separate function of a module.<br><br>A static method can be invoked via a class object or instance object."
   ]
  },
  {
   "cell_type": "code",
   "execution_count": 5,
   "id": "af5ec20a",
   "metadata": {},
   "outputs": [
    {
     "name": "stdout",
     "output_type": "stream",
     "text": [
      "Greetings\n",
      "Hi\n"
     ]
    }
   ],
   "source": [
    "class MyClass2:\n",
    "    \n",
    "    @staticmethod\n",
    "    def hello(msg):\n",
    "        print(f'{msg}')\n",
    "        \n",
    "myinstance_2 = MyClass2()\n",
    "myinstance_2.hello(\"Greetings\")\n",
    "MyClass2.hello(\"Hi\")  # Don't need argument self"
   ]
  },
  {
   "cell_type": "markdown",
   "id": "5f299d13",
   "metadata": {},
   "source": [
    "#### Providing alternative (multiple) constructors with class methods"
   ]
  },
  {
   "cell_type": "code",
   "execution_count": 6,
   "id": "eaf302a2",
   "metadata": {},
   "outputs": [
    {
     "name": "stdout",
     "output_type": "stream",
     "text": [
      "10 20\n",
      "40 50\n"
     ]
    }
   ],
   "source": [
    "class Point:\n",
    "    \n",
    "    def __init__(self, x, y):\n",
    "        self.x = x\n",
    "        self.y = y\n",
    "    \n",
    "    @classmethod\n",
    "    def fromString(cls, pointStr):\n",
    "        x, y = pointStr.split(',')\n",
    "        return cls(x, y)\n",
    "                      \n",
    "p1 = '10,20'\n",
    "\n",
    "p1 = Point.fromString(p1)\n",
    "p2 = Point(40, 50)\n",
    "\n",
    "print(p1.x, p1.y)\n",
    "print(p2.x, p2.y)"
   ]
  }
 ],
 "metadata": {
  "kernelspec": {
   "display_name": "Python 3 (ipykernel)",
   "language": "python",
   "name": "python3"
  },
  "language_info": {
   "codemirror_mode": {
    "name": "ipython",
    "version": 3
   },
   "file_extension": ".py",
   "mimetype": "text/x-python",
   "name": "python",
   "nbconvert_exporter": "python",
   "pygments_lexer": "ipython3",
   "version": "3.10.9"
  }
 },
 "nbformat": 4,
 "nbformat_minor": 5
}
