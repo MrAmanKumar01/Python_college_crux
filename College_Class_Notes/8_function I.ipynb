{
 "cells": [
  {
   "cell_type": "code",
   "execution_count": 1,
   "metadata": {},
   "outputs": [],
   "source": [
    "# Python has first-class functions, which means:\n",
    "\n",
    "# functions can be passed as arguments to other functions\n",
    "# functions can be returned as values from other functions\n",
    "# functions can be assigned to variables\n",
    "# functions can be stored in data structures\n"
   ]
  },
  {
   "cell_type": "code",
   "execution_count": 2,
   "metadata": {},
   "outputs": [],
   "source": [
    "# Function definition\n",
    "# keyword 'def' introduces a function definition, it must be \n",
    "# followed by the function name and the parenthesized list \n",
    "# of formal parameters.\n",
    "\n",
    "def function_name( parameters ):\n",
    "    statements"
   ]
  },
  {
   "cell_type": "code",
   "execution_count": null,
   "metadata": {},
   "outputs": [],
   "source": [
    "'''The parameter list may be empty, \n",
    "or it may contain any number of parameters\n",
    "separated from one another by commas.\n",
    "\n",
    "first statement of the function body can optionally \n",
    "be a string literal - the function’s documentation \n",
    "string, or docstring.\n",
    "\n",
    "docstrings are used by some tools to automatically \n",
    "produce online or printed documentation, or to let \n",
    "the user interactively browse through code. \n",
    "'''"
   ]
  },
  {
   "cell_type": "code",
   "execution_count": 3,
   "metadata": {
    "scrolled": true
   },
   "outputs": [
    {
     "name": "stdout",
     "output_type": "stream",
     "text": [
      "<class 'function'>\n",
      "Hello\n",
      "Let's function\n",
      "done\n"
     ]
    }
   ],
   "source": [
    "def hi():\n",
    "    \"\"\"Print two strings, Hello and Let's function.\"\"\"\n",
    "    print(\"Hello\")\n",
    "    print(\"Let's function\")\n",
    "\n",
    "print(type(hi))\n",
    "\n",
    "hi()   # function call or function invocation\n",
    "print('done')"
   ]
  },
  {
   "cell_type": "code",
   "execution_count": 4,
   "metadata": {},
   "outputs": [
    {
     "data": {
      "text/plain": [
       "\"Print two strings, Hello and Let's function.\""
      ]
     },
     "execution_count": 4,
     "metadata": {},
     "output_type": "execute_result"
    }
   ],
   "source": [
    "# docstring is available via the __doc__ attribute\n",
    "hi.__doc__"
   ]
  },
  {
   "cell_type": "code",
   "execution_count": null,
   "metadata": {},
   "outputs": [],
   "source": [
    "'''A function definition associates the function name \n",
    "with the function object in the current symbol table. \n",
    "The interpreter recognizes the object pointed to \n",
    "by that name as a user-defined function. \n",
    "Other names can also point to that same function object \n",
    "and can also be used to access the function.\n",
    "\n",
    "https://docs.python.org/3/tutorial/controlflow.html#defining-functions\n",
    "'''"
   ]
  },
  {
   "cell_type": "code",
   "execution_count": 5,
   "metadata": {},
   "outputs": [
    {
     "name": "stdout",
     "output_type": "stream",
     "text": [
      "Hello\n",
      "Let's function\n"
     ]
    }
   ],
   "source": [
    "# Since we can refer to functions like any other object, \n",
    "# we can point a variable to a function\n",
    "\n",
    "def hi():\n",
    "    \"\"\"Print two strings, Hello and Let's function.\"\"\"\n",
    "    print(\"Hello\")\n",
    "    print(\"Let's function\")\n",
    "\n",
    "welcome = hi   \n",
    "welcome()"
   ]
  },
  {
   "cell_type": "code",
   "execution_count": 6,
   "metadata": {},
   "outputs": [
    {
     "name": "stdout",
     "output_type": "stream",
     "text": [
      "Help on function hi in module __main__:\n",
      "\n",
      "hi()\n",
      "    Print two strings, Hello and Let's function.\n",
      "\n"
     ]
    }
   ],
   "source": [
    "# Functions, like any other object, can be passed \n",
    "# as an argument to another function\n",
    "\n",
    "def hi():\n",
    "    \"\"\"Print two strings, Hello and Let's function.\"\"\"\n",
    "    print(\"Hello\")\n",
    "    print(\"Let's function\")\n",
    "\n",
    "help(hi) # hi is passed as an argument to help()"
   ]
  },
  {
   "cell_type": "code",
   "execution_count": 7,
   "metadata": {},
   "outputs": [
    {
     "name": "stdout",
     "output_type": "stream",
     "text": [
      "Hello Aditi\n",
      "Let's function\n",
      "Hello Zahir\n",
      "Let's function\n"
     ]
    }
   ],
   "source": [
    "# function with one parameter\n",
    "\n",
    "def hi(name):\n",
    "    \"\"\"Print Hello name, and Let's function.\"\"\"\n",
    "    print(\"Hello \" + name)\n",
    "    print(\"Let's function\")\n",
    "\n",
    "# arguments are passed using 'call by value', \n",
    "# where the value is always an object reference, \n",
    "# not the value of the object\n",
    "# so 'call by object reference' is a more appropriate term\n",
    "\n",
    "hi('Aditi')  \n",
    "hi('Zahir')"
   ]
  },
  {
   "cell_type": "code",
   "execution_count": 8,
   "metadata": {},
   "outputs": [
    {
     "name": "stdout",
     "output_type": "stream",
     "text": [
      "Bye\n",
      "Good evening\n",
      "Bye\n"
     ]
    }
   ],
   "source": [
    "#function with two parameters\n",
    "\n",
    "def see_you(s1, s2):\n",
    "    if len(s1) > len(s2):\n",
    "        print(s1)\n",
    "    else:\n",
    "        print(s2)\n",
    "\n",
    "see_you(\"Hi\", \"Bye\")\n",
    "see_you(\"Good evening\", \"Good night\")\n",
    "see_you(\"Aye\", \"Bye\")"
   ]
  },
  {
   "cell_type": "code",
   "execution_count": 9,
   "metadata": {},
   "outputs": [
    {
     "name": "stdout",
     "output_type": "stream",
     "text": [
      "done\n",
      "done\n",
      "done\n"
     ]
    }
   ],
   "source": [
    "def print_again(s, n):\n",
    "    \"\"\"n times printing string s\"\"\"\n",
    "    for i in range(n):\n",
    "        print(s)\n",
    "\n",
    "print_again(\"done\", 3)"
   ]
  },
  {
   "cell_type": "code",
   "execution_count": 10,
   "metadata": {},
   "outputs": [
    {
     "name": "stdout",
     "output_type": "stream",
     "text": [
      "The result of -6 squared is 36.\n"
     ]
    }
   ],
   "source": [
    "# returning value(s) from function\n",
    "# fruitful functions\n",
    "\n",
    "def squared(x):\n",
    "    y = x * x\n",
    "    return y\n",
    "\n",
    "num = -6\n",
    "num_square = squared(num)\n",
    "print(f'The result of {num} squared is {num_square}.')"
   ]
  },
  {
   "cell_type": "code",
   "execution_count": 11,
   "metadata": {},
   "outputs": [
    {
     "name": "stdout",
     "output_type": "stream",
     "text": [
      "The result of 5 cubed is None.\n"
     ]
    }
   ],
   "source": [
    "# all Python functions return the value None \n",
    "# unless there is a return statement with a value other than None\n",
    "\n",
    "def cubed(x):\n",
    "    y = x ** 3\n",
    "    \n",
    "num = 5\n",
    "num_cube = cubed(num)\n",
    "print(f'The result of {num} cubed is {num_cube}.')"
   ]
  },
  {
   "cell_type": "code",
   "execution_count": 12,
   "metadata": {},
   "outputs": [
    {
     "name": "stdout",
     "output_type": "stream",
     "text": [
      "The result of 4 cubed is None.\n"
     ]
    }
   ],
   "source": [
    "# all Python functions return the special value None \n",
    "# unless there is a return statement with a value other than None\n",
    "\n",
    "def cubed(x):\n",
    "    y = x ** 3\n",
    "    return\n",
    "    \n",
    "num = 4\n",
    "num_cube = cubed(num)\n",
    "print(f'The result of {num} cubed is {num_cube}.')"
   ]
  },
  {
   "cell_type": "code",
   "execution_count": 13,
   "metadata": {},
   "outputs": [
    {
     "name": "stdout",
     "output_type": "stream",
     "text": [
      "True\n",
      "False\n"
     ]
    }
   ],
   "source": [
    "# To check if any marks in a list is greater than 90\n",
    "\n",
    "def greater_than_ninety(list_marks):\n",
    "    for marks in list_marks: \n",
    "        if marks > 90: \n",
    "            return True\n",
    "    return False # this executes only if no marks is greater than 90\n",
    "  \n",
    "\n",
    "list1 = [56,77,91,88]\n",
    "list2 = [56,77,78,88]\n",
    "\n",
    "print(greater_than_ninety(list1))\n",
    "print(greater_than_ninety(list2))"
   ]
  },
  {
   "cell_type": "code",
   "execution_count": 14,
   "metadata": {},
   "outputs": [
    {
     "name": "stdout",
     "output_type": "stream",
     "text": [
      "[0, 1, 1, 2, 3, 5, 8, 13, 21, 34, 55]\n"
     ]
    }
   ],
   "source": [
    "def fib(n):  # return Fibonacci series up to n\n",
    "    \"\"\"Return a list containing the Fibonacci series up to n.\"\"\"\n",
    "    result = []\n",
    "    a, b = 0, 1\n",
    "    while a < n:\n",
    "        result.append(a)    \n",
    "        a, b = b, a+b\n",
    "    return result\n",
    "\n",
    "print(fib(60))"
   ]
  },
  {
   "cell_type": "code",
   "execution_count": 15,
   "metadata": {},
   "outputs": [
    {
     "name": "stdout",
     "output_type": "stream",
     "text": [
      "12\n"
     ]
    }
   ],
   "source": [
    "# Functions Annotations\n",
    "# indicate the intended type of the function parameters\n",
    "# and the type of the function return value\n",
    "# completely optional metadata information.\n",
    "# they can be used by third party tools such as type checkers, IDEs, linters, etc.\n",
    "\n",
    "def add(x: int, y: int) -> int:\n",
    "    return x + y\n",
    "\n",
    "new_val: int = add(5,7)\n",
    "print(new_val)"
   ]
  },
  {
   "cell_type": "code",
   "execution_count": 16,
   "metadata": {},
   "outputs": [
    {
     "data": {
      "text/plain": [
       "{'x': int, 'y': int, 'return': int}"
      ]
     },
     "execution_count": 16,
     "metadata": {},
     "output_type": "execute_result"
    }
   ],
   "source": [
    "# Annotations are stored in the __annotations__ attribute\n",
    "# of the function as a dictionary \n",
    "# and have no effect on any other part of the function\n",
    "\n",
    "add.__annotations__"
   ]
  },
  {
   "cell_type": "code",
   "execution_count": 17,
   "metadata": {},
   "outputs": [
    {
     "name": "stdout",
     "output_type": "stream",
     "text": [
      "HiMCAs\n"
     ]
    }
   ],
   "source": [
    "def add(x: int, y: int) -> int:\n",
    "    return x + y\n",
    "\n",
    "new_val: int = add('Hi', 'MCAs')\n",
    "print(new_val)"
   ]
  },
  {
   "cell_type": "code",
   "execution_count": 18,
   "metadata": {},
   "outputs": [
    {
     "name": "stdout",
     "output_type": "stream",
     "text": [
      "101\n",
      "19\n",
      "26\n"
     ]
    }
   ],
   "source": [
    "# optional parameters - that can be specified or omitted\n",
    "\n",
    "print(int(\"101\"))\n",
    "print(int(\"23\", 8))\n",
    "print(int(\"101\", 5))"
   ]
  },
  {
   "cell_type": "code",
   "execution_count": 19,
   "metadata": {},
   "outputs": [
    {
     "name": "stdout",
     "output_type": "stream",
     "text": [
      "Sorted in ascending order: [21, 32, 47, 55, 66, 99]\n",
      "Sorted in descending order: [99, 66, 55, 47, 32, 21]\n"
     ]
    }
   ],
   "source": [
    "# optional parameters - that can be specified or omitted\n",
    "\n",
    "marks = [55, 66, 99, 21, 32, 47]\n",
    "marksAscending = sorted(marks)\n",
    "print(f\"Sorted in ascending order: {marksAscending}\")\n",
    "\n",
    "marksDescending = sorted(marks, reverse = True)\n",
    "print(f\"Sorted in descending order: {marksDescending}\")"
   ]
  },
  {
   "cell_type": "code",
   "execution_count": 20,
   "metadata": {},
   "outputs": [
    {
     "name": "stdout",
     "output_type": "stream",
     "text": [
      "1024\n",
      "8\n",
      "32\n"
     ]
    }
   ],
   "source": [
    "# when defining a function, specify a default value for a parameter \n",
    "# that parameter becomes an optional parameter when the function is called\n",
    "# so, the function can be called with fewer arguments than it is defined\n",
    "\n",
    "def f(x, y = 3):\n",
    "    print(x**y)\n",
    "\n",
    "f(2, 10)\n",
    "f(2)\n",
    "f(2, 5)"
   ]
  },
  {
   "cell_type": "code",
   "execution_count": 21,
   "metadata": {},
   "outputs": [
    {
     "name": "stdout",
     "output_type": "stream",
     "text": [
      "[2]\n",
      "[2, 3]\n",
      "[25, 35, 'Hi', 4]\n",
      "[2, 3, 5]\n"
     ]
    }
   ],
   "source": [
    "# Note 1: the default value is evaluated at the time \n",
    "# the function is defined, not at the time that it is invoked\n",
    "\n",
    "# Note 2: THE DEFAULT VALUE IS EVALUATED ONLY ONCE \n",
    "# if the default value is set to a mutable object, \n",
    "# that object will be shared in all invocations of the function.\n",
    "\n",
    "def f(x, y = []):\n",
    "    y.append(x)\n",
    "    return y\n",
    "\n",
    "print(f(2))\n",
    "print(f(3))\n",
    "print(f(4,[25, 35, 'Hi']))\n",
    "print(f(5))"
   ]
  },
  {
   "cell_type": "code",
   "execution_count": 22,
   "metadata": {},
   "outputs": [
    {
     "name": "stdout",
     "output_type": "stream",
     "text": [
      "[2]\n",
      "[3]\n",
      "[25, 35, 'Hi', 4]\n",
      "[5]\n"
     ]
    }
   ],
   "source": [
    "# Workaround: use None\n",
    "# if don’t want the default to be shared between subsequent calls\n",
    "\n",
    "def f(x, y = None):\n",
    "    if y is None:\n",
    "        y = []\n",
    "    y.append(x)\n",
    "    return y\n",
    "\n",
    "print(f(2))\n",
    "print(f(3))\n",
    "print(f(4,[25, 35, 'Hi']))\n",
    "print(f(5))"
   ]
  }
 ],
 "metadata": {
  "kernelspec": {
   "display_name": "Python 3 (ipykernel)",
   "language": "python",
   "name": "python3"
  },
  "language_info": {
   "codemirror_mode": {
    "name": "ipython",
    "version": 3
   },
   "file_extension": ".py",
   "mimetype": "text/x-python",
   "name": "python",
   "nbconvert_exporter": "python",
   "pygments_lexer": "ipython3",
   "version": "3.10.9"
  }
 },
 "nbformat": 4,
 "nbformat_minor": 4
}
