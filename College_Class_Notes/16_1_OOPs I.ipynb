{
 "cells": [
  {
   "cell_type": "code",
   "execution_count": 1,
   "id": "2f94a3ba",
   "metadata": {},
   "outputs": [
    {
     "name": "stdout",
     "output_type": "stream",
     "text": [
      "<__main__.Point object at 0x000001A88A31D690>\n",
      "<__main__.Point object at 0x000001A88A31DDE0>\n",
      "10 20\n",
      "40 50\n",
      "{'x': 10, 'y': 20}\n",
      "{'x': 40, 'y': 50}\n",
      "{'x': 10}\n"
     ]
    }
   ],
   "source": [
    "class Point:\n",
    "    pass\n",
    "\n",
    "p1 = Point()\n",
    "p2 = Point()\n",
    "\n",
    "print(p1)\n",
    "print(p2)\n",
    "\n",
    "p1.x = 10\n",
    "p1.y = 20\n",
    "\n",
    "p2.x = 40\n",
    "p2.y = 50\n",
    "\n",
    "print(p1.x, p1.y)\n",
    "print(p2.x, p2.y)\n",
    "\n",
    "print(p1.__dict__)\n",
    "print(p2.__dict__)\n",
    "\n",
    "del p1.y\n",
    "print(p1.__dict__)"
   ]
  },
  {
   "cell_type": "code",
   "execution_count": 2,
   "id": "6cc56552",
   "metadata": {},
   "outputs": [
    {
     "data": {
      "text/plain": [
       "False"
      ]
     },
     "execution_count": 2,
     "metadata": {},
     "output_type": "execute_result"
    }
   ],
   "source": [
    "p1 is p2"
   ]
  },
  {
   "cell_type": "code",
   "execution_count": 3,
   "id": "4ab5b53d",
   "metadata": {},
   "outputs": [
    {
     "name": "stdout",
     "output_type": "stream",
     "text": [
      "10 20\n",
      "40 50\n"
     ]
    }
   ],
   "source": [
    "class Point:\n",
    "    def __init__(self, x, y):\n",
    "        self.x = x\n",
    "        self.y = y\n",
    "\n",
    "p1 = Point(10, 20)\n",
    "p2 = Point(40, 50)\n",
    "\n",
    "print(p1.x, p1.y)\n",
    "print(p2.x, p2.y)"
   ]
  },
  {
   "cell_type": "code",
   "execution_count": 4,
   "id": "893f24e8",
   "metadata": {},
   "outputs": [
    {
     "name": "stdout",
     "output_type": "stream",
     "text": [
      "(0, 0)\n",
      "(5, 6)\n",
      "(3, 4)\n"
     ]
    }
   ],
   "source": [
    "class Point:    \n",
    "    \"\"\"A Point instance models a 2D point with x and y coordinates\"\"\"\n",
    " \n",
    "    def __init__(self, x = 0, y = 0):\n",
    "        \"\"\"Initializer, which creates the instance variables x and y with default of (0, 0)\"\"\"\n",
    "        self.x = x\n",
    "        self.y = y\n",
    " \n",
    "    def __str__(self):\n",
    "        \"\"\"Return a descriptive string for this instance\"\"\"\n",
    "        return f'({self.x}, {self.y})'\n",
    " \n",
    "    def __repr__(self):\n",
    "        \"\"\"Return a command string to re-create this instance\"\"\"\n",
    "        return f'Point(x={self.x}, y={self.y})'\n",
    "    \n",
    "p1 = Point()\n",
    "print(p1)      # (0, 0)\n",
    "p1.x = 5\n",
    "p1.y = 6\n",
    "print(p1)      # (5, 6)\n",
    "p2 = Point(3, 4)\n",
    "print(p2)      # (3, 4)"
   ]
  },
  {
   "cell_type": "markdown",
   "id": "f836f7eb",
   "metadata": {},
   "source": [
    "#### Class Variable vs. Instance Variables<br><br>Class variables are shared by all the instances,<br>whereas instance variables are specific to a particular instance."
   ]
  },
  {
   "cell_type": "code",
   "execution_count": 5,
   "id": "37a2e5cf",
   "metadata": {},
   "outputs": [
    {
     "name": "stdout",
     "output_type": "stream",
     "text": [
      "0 0 0\n",
      "{'x': 10, 'y': 20}\n",
      "{'x': 40, 'y': 50}\n",
      "{'__module__': '__main__', 'count': 0, '__init__': <function Point.__init__ at 0x000001A88A695C60>, '__dict__': <attribute '__dict__' of 'Point' objects>, '__weakref__': <attribute '__weakref__' of 'Point' objects>, '__doc__': None}\n"
     ]
    }
   ],
   "source": [
    "class Point:\n",
    "    count = 0     # A class variable shared by all the instances\n",
    "    def __init__(self, x, y):\n",
    "        self.x = x\n",
    "        self.y = y\n",
    "          \n",
    "p1 = Point(10, 20)\n",
    "p2 = Point(40, 50)\n",
    "\n",
    "print(Point.count, p1.count, p2.count)\n",
    "\n",
    "print(p1.__dict__)\n",
    "print(p2.__dict__)\n",
    "print(Point.__dict__)"
   ]
  },
  {
   "cell_type": "code",
   "execution_count": 6,
   "id": "60c8176d",
   "metadata": {},
   "outputs": [
    {
     "name": "stdout",
     "output_type": "stream",
     "text": [
      "1 1\n",
      "2 2 2\n",
      "{'x': 10, 'y': 20}\n",
      "{'x': 40, 'y': 50}\n",
      "{'__module__': '__main__', 'count': 2, '__init__': <function Point.__init__ at 0x000001A88A695A20>, '__dict__': <attribute '__dict__' of 'Point' objects>, '__weakref__': <attribute '__weakref__' of 'Point' objects>, '__doc__': None}\n"
     ]
    }
   ],
   "source": [
    "class Point:\n",
    "    count = 0    # class variable\n",
    "    def __init__(self, x, y):\n",
    "        self.x = x\n",
    "        self.y = y\n",
    "        # Update class variable\n",
    "        Point.count += 1 # or, self.__class__.count += 1\n",
    "              \n",
    "p1 = Point(10, 20)\n",
    "print(Point.count, p1.count)\n",
    "\n",
    "p2 = Point(40, 50)\n",
    "\n",
    "print(Point.count, p1.count, p2.count)\n",
    "\n",
    "print(p1.__dict__)\n",
    "print(p2.__dict__)\n",
    "print(Point.__dict__)"
   ]
  },
  {
   "cell_type": "code",
   "execution_count": 7,
   "id": "7d052857",
   "metadata": {},
   "outputs": [
    {
     "name": "stdout",
     "output_type": "stream",
     "text": [
      "0 1\n",
      "0 1 1\n",
      "{'x': 10, 'y': 20, 'count': 1}\n",
      "{'x': 40, 'y': 50, 'count': 1}\n",
      "{'__module__': '__main__', 'count': 0, '__init__': <function Point.__init__ at 0x000001A88A695870>, '__dict__': <attribute '__dict__' of 'Point' objects>, '__weakref__': <attribute '__weakref__' of 'Point' objects>, '__doc__': None}\n"
     ]
    }
   ],
   "source": [
    "class Point:\n",
    "    count = 0    # class variable\n",
    "    def __init__(self, x, y):\n",
    "        self.x = x\n",
    "        self.y = y\n",
    "        self.count += 1  # an instance variable\n",
    "              \n",
    "p1 = Point(10, 20)\n",
    "print(Point.count, p1.count)\n",
    "\n",
    "p2 = Point(40, 50)\n",
    "\n",
    "print(Point.count, p1.count, p2.count)\n",
    "\n",
    "print(p1.__dict__)\n",
    "print(p2.__dict__)\n",
    "print(Point.__dict__)"
   ]
  },
  {
   "cell_type": "code",
   "execution_count": 8,
   "id": "f9bd1414",
   "metadata": {},
   "outputs": [
    {
     "name": "stdout",
     "output_type": "stream",
     "text": [
      "0 0 0\n",
      "{'x': 10, 'y': 20}\n",
      "{'x': 10, 'y': 20, 'count': 1}\n",
      "0 1 0\n",
      "{'x': 40, 'y': 50}\n",
      "{'__module__': '__main__', 'count': 0, '__init__': <function Point.__init__ at 0x000001A88A695FC0>, '__dict__': <attribute '__dict__' of 'Point' objects>, '__weakref__': <attribute '__weakref__' of 'Point' objects>, '__doc__': None}\n"
     ]
    }
   ],
   "source": [
    "class Point:\n",
    "    count = 0    # class variable\n",
    "    def __init__(self, x, y):\n",
    "        self.x = x\n",
    "        self.y = y\n",
    "                      \n",
    "p1 = Point(10, 20)\n",
    "p2 = Point(40, 50)\n",
    "\n",
    "print(Point.count, p1.count, p2.count)\n",
    "\n",
    "print(p1.__dict__)\n",
    "p1.count += 1     # instance variable\n",
    "print(p1.__dict__)\n",
    "\n",
    "print(Point.count, p1.count, p2.count)\n",
    "\n",
    "print(p2.__dict__)\n",
    "print(Point.__dict__)"
   ]
  },
  {
   "cell_type": "markdown",
   "id": "eeba2450",
   "metadata": {},
   "source": [
    "#### __repr__ vs __str__"
   ]
  },
  {
   "cell_type": "code",
   "execution_count": 9,
   "id": "d463fec2",
   "metadata": {},
   "outputs": [],
   "source": [
    "# repr() return a string containing a printable representation of an object. \n",
    "# For many types, this function makes an attempt to return a string that would yield \n",
    "# an object with the same value when passed to eval()\n",
    "# A class can control what this function returns for its instances by defining a __repr__() method\n",
    "\n",
    "# str() when only object is given, returns its nicely printable representation. \n",
    "# For strings, this is the string itself. The difference with repr(object) is that str(object) \n",
    "# does not always attempt to return a string that is acceptable to eval(); its goal is to return a printable string."
   ]
  },
  {
   "cell_type": "code",
   "execution_count": 13,
   "id": "f905414c",
   "metadata": {},
   "outputs": [
    {
     "name": "stdout",
     "output_type": "stream",
     "text": [
      "str(time_now): 2023-12-20 09:47:48.481732\n",
      "repr(time_now): datetime.datetime(2023, 12, 20, 9, 47, 48, 481732)\n"
     ]
    }
   ],
   "source": [
    "import datetime\n",
    "\n",
    "time_now = datetime.datetime.now()\n",
    "\n",
    "print(f'str(time_now): {str(time_now)}')\n",
    "print(f'repr(time_now): {repr(time_now)}')"
   ]
  }
 ],
 "metadata": {
  "kernelspec": {
   "display_name": "Python 3 (ipykernel)",
   "language": "python",
   "name": "python3"
  },
  "language_info": {
   "codemirror_mode": {
    "name": "ipython",
    "version": 3
   },
   "file_extension": ".py",
   "mimetype": "text/x-python",
   "name": "python",
   "nbconvert_exporter": "python",
   "pygments_lexer": "ipython3",
   "version": "3.10.9"
  }
 },
 "nbformat": 4,
 "nbformat_minor": 5
}
