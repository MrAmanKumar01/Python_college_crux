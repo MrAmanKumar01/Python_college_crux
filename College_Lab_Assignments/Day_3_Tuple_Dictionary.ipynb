{
 "cells": [
  {
   "cell_type": "code",
   "execution_count": 1,
   "id": "0bda7a03",
   "metadata": {},
   "outputs": [
    {
     "name": "stdout",
     "output_type": "stream",
     "text": [
      "[('x', 1), ('y', 2), ('z', 3)]\n"
     ]
    }
   ],
   "source": [
    "\"\"\"\n",
    "1. Given a non-empty dictionary, create a list of tuples where each tuple is a (key, value) pair of the \n",
    "dictionary.\n",
    "\"\"\"\n",
    "\n",
    "dictionary = {\"x\": 1, \"y\": 2, \"z\": 3}\n",
    "tuple_list=list(dictionary.items())\n",
    "print(tuple_list)"
   ]
  },
  {
   "cell_type": "code",
   "execution_count": 2,
   "id": "07092f62",
   "metadata": {},
   "outputs": [
    {
     "name": "stdout",
     "output_type": "stream",
     "text": [
      "Enter k: 3\n",
      "Maximum elements: [30, 35, 45]\n",
      "Minimum elements: [3, 5, 9]\n"
     ]
    }
   ],
   "source": [
    "\"\"\"\n",
    "2. Finds the maximum and minimum k elements in a tuple.\n",
    "\"\"\"\n",
    "\n",
    "def find_k_extremes(tuple, k):\n",
    "\n",
    "    # Convert the tuple to a list\n",
    "    elements = list(tuple)\n",
    "\n",
    "    # Sort the list in ascending order\n",
    "    sorted_elements = sorted(elements)\n",
    "\n",
    "    # Extract the maximum and minimum k elements\n",
    "    maximum_elements = sorted_elements[-k:]\n",
    "    minimum_elements = sorted_elements[:k]\n",
    "\n",
    "    return maximum_elements, minimum_elements\n",
    "\n",
    "\n",
    "test_tuple = (10, 5, 20, 15, 30, 12, 25, 35, 9, 45, 3)\n",
    "k=int(input(\"Enter k: \"))\n",
    "maximum_elements, minimum_elements = find_k_extremes(test_tuple, k)\n",
    "\n",
    "print(\"Maximum elements:\", maximum_elements)\n",
    "print(\"Minimum elements:\", minimum_elements)"
   ]
  },
  {
   "cell_type": "code",
   "execution_count": 3,
   "id": "3b0b6778",
   "metadata": {},
   "outputs": [
    {
     "name": "stdout",
     "output_type": "stream",
     "text": [
      "Unique values : {1, 2, 3, 4, 5}\n"
     ]
    }
   ],
   "source": [
    "\"\"\"\n",
    "3. Extract unique values from a dictionary\n",
    "\"\"\"\n",
    "\n",
    "dictionary = {\"x\": 1, \"y\": 2, \"z\": 3,\"a\": 4, \"b\": 5}\n",
    "unique_values=set(dictionary.values())\n",
    "print(\"Unique values :\",unique_values)"
   ]
  },
  {
   "cell_type": "code",
   "execution_count": 4,
   "id": "8832cf82",
   "metadata": {},
   "outputs": [
    {
     "name": "stdout",
     "output_type": "stream",
     "text": [
      "Appended list : [1, 2, 3, 'Jan', 'Feb', 'Mar']\n"
     ]
    }
   ],
   "source": [
    "\"\"\"\n",
    "4. Append dictionary keys and values (in order), all keys before all values. \n",
    "Sample Input: {1: \"Jan\", 2: \"Feb\", 3: \"Mar\"}\n",
    "Output: [1, 2, 3, 'Jan', 'Feb', 'Mar']\n",
    "\"\"\"\n",
    "\n",
    "dict={1: \"Jan\", 2: \"Feb\", 3: \"Mar\"}\n",
    "append_list=list(dict.keys())+list(dict.values())\n",
    "print(\"Appended list :\",append_list)"
   ]
  },
  {
   "cell_type": "code",
   "execution_count": 5,
   "id": "3a8498d6",
   "metadata": {},
   "outputs": [
    {
     "name": "stdout",
     "output_type": "stream",
     "text": [
      "{2: 'bba', 4: 'btech', 22: 'mtech', 25: 'mca', 29: 'bca'}\n",
      "{2: 'bba', 29: 'bca', 4: 'btech', 25: 'mca', 22: 'mtech'}\n"
     ]
    }
   ],
   "source": [
    "\"\"\"\n",
    "5. Sort the items of a dictionary (i) by keys, (ii) by values\n",
    "\"\"\"\n",
    "\n",
    "dict={29:'bca', 22:'mtech', 4:'btech',25:'mca',2:'bba'}\n",
    "\n",
    "#for keys\n",
    "newDict={}\n",
    "for i,j in sorted(dict.items()):\n",
    "    newDict[i]=j\n",
    "print(newDict)\n",
    "\n",
    "#for values\n",
    "newDict={}\n",
    "for i,j in sorted([(v,k) for k,v in dict.items()]):\n",
    "    newDict[j]=i\n",
    "print(newDict)"
   ]
  },
  {
   "cell_type": "code",
   "execution_count": 6,
   "id": "76bf4f10",
   "metadata": {},
   "outputs": [
    {
     "name": "stdout",
     "output_type": "stream",
     "text": [
      "Enter sentence:  Fear leads to anger; Anger leads to hatred; Hatred leads to conflict; Conflict  leads to suffering\n",
      "['anger', 'anger;', 'conflict', 'conflict;', 'fear', 'hatred', 'hatred;', 'leads', 'suffering', 'to']\n"
     ]
    }
   ],
   "source": [
    "\"\"\"\n",
    "6. Remove all duplicates words from a given sentence\n",
    "\"\"\"\n",
    "\n",
    "s=(set(input(\"Enter sentence: \").lower().split()))\n",
    "print(sorted(s))"
   ]
  },
  {
   "cell_type": "code",
   "execution_count": 7,
   "id": "bc184858",
   "metadata": {},
   "outputs": [
    {
     "name": "stdout",
     "output_type": "stream",
     "text": [
      "Enter a string: Fear leads to anger; Anger leads to hatred; Hatred leads to conflict; Conflict  leads to suffering.\n",
      "{'fear': 1, 'leads': 4, 'to': 4, 'anger': 2, 'hatred': 2, 'conflict': 2, 'suffering': 1}\n"
     ]
    }
   ],
   "source": [
    "\"\"\"\n",
    "7. Use a dictionary to count the frequency of words in an input string. Only words should be counted, \n",
    "not blank spaces, numbers, or punctuation. Upper case should be considered the same as lowercase.\n",
    "Sample Input: Fear leads to anger; Anger leads to hatred; Hatred leads to conflict; Conflict \n",
    "leads to suffering.\n",
    "Output: {'fear': 1, 'leads': 4, 'to': 4, 'anger': 2, 'hatred': 2, 'conflict': 2, 'suffering': 1}\n",
    "\"\"\"\n",
    "\n",
    "str=input(\"Enter a string: \").lower()\n",
    "dict={}\n",
    "\n",
    "for i in str.split():\n",
    "    for j in i:\n",
    "        if not j.isalpha():\n",
    "            i=i.replace(j,'')\n",
    "    if i in dict:\n",
    "        dict[i] += 1\n",
    "    else:\n",
    "        dict[i] = 1\n",
    "\n",
    "print(dict)"
   ]
  },
  {
   "cell_type": "code",
   "execution_count": 8,
   "id": "44b199b8",
   "metadata": {},
   "outputs": [
    {
     "name": "stdout",
     "output_type": "stream",
     "text": [
      "['paul.buchheit@gmail.com', 'sanjeev.singh@gmail.com', 'kevin.fox@gmail.com', 'jerry.yang@yahoo.com', 'david.filo@yahoo.com', 'sabeer.bhatia@hotmail.com']\n"
     ]
    }
   ],
   "source": [
    "\"\"\"\n",
    "8. Given a dictionary, which contains domain names as keys, and a list of users as values, generate a list \n",
    "that contains complete email addresses.\n",
    "Sample \n",
    "Input: {\"gmail.com\": [\"paul.buchheit\", \"sanjeev.singh\", \"kevin.fox\"], \"yahoo.com\": \n",
    "[\"jerry.yang\", \"david.filo\"], \"hotmail.com\": [\"sabeer.bhatia\"]}\n",
    "Output: ['paul.buchheit@gmail.com', 'sanjeev.singh@gmail.com', 'kevin.fox@gmail.com', \n",
    "'jerry.yang@yahoo.com', 'david.filo@yahoo.com', 'sabeer.bhatia@hotmail.com']\n",
    "\"\"\"\n",
    "\n",
    "domain={\"gmail.com\": [\"paul.buchheit\", \"sanjeev.singh\", \"kevin.fox\"], \n",
    "     \"yahoo.com\": [\"jerry.yang\", \"david.filo\"], \n",
    "     \"hotmail.com\": [\"sabeer.bhatia\"]}\n",
    "\n",
    "email=[]\n",
    "\n",
    "for i in domain:\n",
    "    for j in domain[i]:\n",
    "        email.append(j+'@'+i)\n",
    "        \n",
    "print(email)"
   ]
  },
  {
   "cell_type": "code",
   "execution_count": 9,
   "id": "7383ac8c",
   "metadata": {},
   "outputs": [
    {
     "name": "stdout",
     "output_type": "stream",
     "text": [
      "{'admin': ['local', 'public', 'administrator'], 'Ananya': ['local'], 'Zahir': ['public']}\n"
     ]
    }
   ],
   "source": [
    "\"\"\"\n",
    "9. Given a dictionary, which contains group names with the list of users (Users can belong to \n",
    "multiple groups), create a dictionary with the users as keys and a list of their groups as values.\n",
    "\"\"\"\n",
    "\n",
    "group={\"local\":[\"admin\", \"Ananya\"],\"public\":[\"admin\", \"Zahir\"], \"administrator\":[\"admin\"] }\n",
    "user={}\n",
    "\n",
    "\n",
    "for i in group:\n",
    "    for j in group[i]:\n",
    "        if j not in user:\n",
    "            user[j]=[i]\n",
    "        else:\n",
    "            user[j].append(i)\n",
    "\n",
    "print(user)"
   ]
  },
  {
   "cell_type": "code",
   "execution_count": 10,
   "id": "b8a682bb",
   "metadata": {},
   "outputs": [
    {
     "name": "stdout",
     "output_type": "stream",
     "text": [
      "(i)  {'roll': 5, 'Name': 'Ananya', 'marks': [79, 88, 92], 'total': 259}\n",
      "(ii)  {'roll': 5, 'Name': 'Ananya', 'marks': [79, 88, 92, 259]}\n",
      "(iii)  {'roll': 5, 'Name': 'Ananya', 'marks': 259}\n"
     ]
    }
   ],
   "source": [
    "\"\"\"\n",
    "10. Given a dictionary that contains a student’s roll, name and a list ofmarks,\n",
    "(i) Update the dictionary with an added item of the total of the student’s marks.\n",
    "Sample\n",
    "Input: {\"roll\": 5, \"Name\": \"Ananya\", \"marks\": [79, 88, 92]}\n",
    " Output: {'roll': 5, 'Name': 'Ananya', 'marks': [79, 88, 92], 'total':259}\n",
    " \n",
    " (ii) Update the dictionary with an added entry of the total of the student’s marks in the list. \n",
    "Sample\n",
    "Input: {\"roll\": 5, \"Name\": \"Ananya\", \"marks\": [79, 88, 92]}\n",
    "Output: {'roll': 5, 'Name': 'Ananya', 'marks': [79, 88, 92, 259]}\n",
    "\n",
    "(iii) Update the dictionary with the students’ marks list replaced by the total marks of the student\n",
    "Sample\n",
    "Input: {\"roll\": 5, \"Name\": \"Ananya\", \"marks\": [79, 88, 92]}\n",
    "Output: {'roll': 5, 'Name': 'Ananya', 'marks': 259}\n",
    "\"\"\"\n",
    "\n",
    "import copy\n",
    "sd = {\"roll\": 5, \"Name\": \"Ananya\", \"marks\": [79, 88, 92]}\n",
    "\n",
    "tm = copy.deepcopy(sd)\n",
    "tm[\"total\"] = sum(tm[\"marks\"])\n",
    "print(\"(i) \", tm)\n",
    "\n",
    "tm = copy.deepcopy(sd)\n",
    "tm[\"marks\"].append(sum(tm[\"marks\"]))\n",
    "print(\"(ii) \",tm)\n",
    "\n",
    "tm = copy.deepcopy(sd)\n",
    "tm[\"marks\"] = sum(tm[\"marks\"])\n",
    "print(\"(iii) \",tm)"
   ]
  },
  {
   "cell_type": "code",
   "execution_count": 13,
   "id": "5a9948e6",
   "metadata": {},
   "outputs": [
    {
     "name": "stdout",
     "output_type": "stream",
     "text": [
      "Enter octal number-- 750\n",
      "rwxr-x---"
     ]
    }
   ],
   "source": [
    "\"\"\"\n",
    "11. Convert a Linux (UNIX) file permission in octal format into a stringformat.\n",
    "[The permissions are split into three sets of three permissions: read, write, and execute for the \n",
    "owner, group, and others. Each of the three values can be expressed as an octal number summing \n",
    "each permission, with 4 corresponding to read, 2 to write, and 1 to execute. Or, it can be written \n",
    "with a string using the letters r, w, and x or - when the permission is notgranted]\n",
    "Sample Input  |  Sample Output\n",
    "---------------------------------\n",
    "  755         |    rwxr-xr-x\n",
    "  750         |    rwxr-x---\n",
    "  642         |    rw-r---w-\n",
    "\"\"\"\n",
    "\n",
    "code = ['---', '--x', '-w-', '-wx', 'r--', 'r-x', 'rw-', 'rwx']\n",
    "perm=input(\"Enter octal number-- \")\n",
    "for i in perm:\n",
    "    print(code[int(i)],end='')"
   ]
  }
 ],
 "metadata": {
  "kernelspec": {
   "display_name": "Python 3 (ipykernel)",
   "language": "python",
   "name": "python3"
  },
  "language_info": {
   "codemirror_mode": {
    "name": "ipython",
    "version": 3
   },
   "file_extension": ".py",
   "mimetype": "text/x-python",
   "name": "python",
   "nbconvert_exporter": "python",
   "pygments_lexer": "ipython3",
   "version": "3.11.5"
  }
 },
 "nbformat": 4,
 "nbformat_minor": 5
}
