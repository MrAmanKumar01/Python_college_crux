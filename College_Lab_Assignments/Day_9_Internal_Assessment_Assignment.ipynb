{
 "cells": [
  {
   "cell_type": "code",
   "execution_count": 1,
   "metadata": {},
   "outputs": [
    {
     "name": "stdout",
     "output_type": "stream",
     "text": [
      "Enter number of rows5\n",
      "        A \n",
      "      B B B \n",
      "    C C C C C \n",
      "  D D D D D D D \n",
      "E E E E E E E E E \n"
     ]
    }
   ],
   "source": [
    "a = 'A'\n",
    "n = int(input(\"Enter number of rows\"))\n",
    "for i in range(1,n+1):\n",
    "    for j in range(n-i):\n",
    "        print('  ',end ='')\n",
    "    for j in range(1,2*i):\n",
    "        print(a+' ',end ='')\n",
    "    a=(chr)(ord(a)+1)\n",
    "    print()"
   ]
  },
  {
   "cell_type": "code",
   "execution_count": 2,
   "metadata": {},
   "outputs": [
    {
     "name": "stdout",
     "output_type": "stream",
     "text": [
      "Enter number of rows5\n",
      "        A \n",
      "      B C D \n",
      "    E F G H I \n",
      "  J K L M N O P \n",
      "Q R S T U V W X Y \n"
     ]
    }
   ],
   "source": [
    "a = 'A'\n",
    "n = int(input(\"Enter number of rows\"))\n",
    "for i in range(1,n+1):\n",
    "    for j in range(n-i):\n",
    "        print('  ',end ='')\n",
    "    for j in range(1,2*i):\n",
    "        print(a+' ',end ='')\n",
    "        a=(chr)(ord(a)+1)\n",
    "    print()"
   ]
  },
  {
   "cell_type": "code",
   "execution_count": 3,
   "metadata": {},
   "outputs": [
    {
     "name": "stdout",
     "output_type": "stream",
     "text": [
      "Enter number of rows5\n",
      "        A \n",
      "      A B A \n",
      "    A B C B A \n",
      "  A B C D C B A \n",
      "A B C D E D C B A \n"
     ]
    }
   ],
   "source": [
    "n = int(input(\"Enter number of rows\"))\n",
    "for i in range(1,n+1):\n",
    "    a = 'A'\n",
    "    for j in range(n-i):\n",
    "        print('  ',end ='')\n",
    "    for j in range(1,2*i):\n",
    "        print(a+' ',end ='')\n",
    "        if(j<(2*i)//2):\n",
    "            a=(chr)(ord(a)+1)\n",
    "        else:\n",
    "            a=(chr)(ord(a)-1)               \n",
    "    print()"
   ]
  },
  {
   "cell_type": "code",
   "execution_count": 4,
   "metadata": {},
   "outputs": [
    {
     "name": "stdout",
     "output_type": "stream",
     "text": [
      "Enter number of rows5\n",
      "        E \n",
      "      E D E \n",
      "    E D C D E \n",
      "  E D C B C D E \n",
      "E D C B A B C D E \n"
     ]
    }
   ],
   "source": [
    "n = int(input(\"Enter number of rows\"))\n",
    "for i in range(1,n+1):\n",
    "    a = (chr)(ord('A')+n-1)\n",
    "    for j in range(n-i):\n",
    "        print('  ',end ='')\n",
    "    for j in range(1,2*i):\n",
    "        print(a+' ',end ='')\n",
    "        if(j<(2*i)//2):\n",
    "            a=(chr)(ord(a)-1)\n",
    "        else:\n",
    "            a=(chr)(ord(a)+1)               \n",
    "    print()"
   ]
  },
  {
   "cell_type": "code",
   "execution_count": 5,
   "metadata": {},
   "outputs": [
    {
     "name": "stdout",
     "output_type": "stream",
     "text": [
      "   roll  marks\n",
      "4     5     38\n",
      "   roll  marks\n",
      "8     9     19\n"
     ]
    }
   ],
   "source": [
    "import pandas as pd\n",
    "\n",
    "students = {\n",
    "'roll' : [1, 2, 3, 4, 5, 6, 7, 8, 9, 10, 11, 12],\n",
    "'marks' : [25, 25, 20, 26, 38, 32, 36, 32, 19, 23, 25, 32]\n",
    "}\n",
    "\n",
    "\n",
    "sf = pd.DataFrame(students)\n",
    "mask = sf['marks'] == max(sf['marks'])\n",
    "print(sf[mask])\n",
    "mask = sf['marks'] == min(sf['marks'])\n",
    "print(sf[mask])"
   ]
  },
  {
   "cell_type": "code",
   "execution_count": 6,
   "metadata": {},
   "outputs": [
    {
     "name": "stdout",
     "output_type": "stream",
     "text": [
      "Average marks is  27.75\n",
      "Number of students scored avove average are  5\n",
      "    roll  marks\n",
      "4      5     38\n",
      "5      6     32\n",
      "6      7     36\n",
      "7      8     32\n",
      "11    12     32\n"
     ]
    }
   ],
   "source": [
    "avrg = sum(sf['marks'])/sf['marks'].size\n",
    "print(\"Average marks is \", avrg)\n",
    "mask = sf['marks'] > avrg\n",
    "goodStudents = sf[mask]\n",
    "print('Number of students scored avove average are ', goodStudents['marks'].size)\n",
    "print(goodStudents)"
   ]
  },
  {
   "cell_type": "code",
   "execution_count": 7,
   "metadata": {},
   "outputs": [
    {
     "name": "stdout",
     "output_type": "stream",
     "text": [
      "    roll  marks\n",
      "0      1     25\n",
      "1      2     25\n",
      "10    11     25\n"
     ]
    }
   ],
   "source": [
    "import statistics as st\n",
    "mask = sf['marks']==st.mode(sf['marks'])\n",
    "print(sf[mask])"
   ]
  },
  {
   "cell_type": "code",
   "execution_count": 8,
   "metadata": {},
   "outputs": [
    {
     "name": "stdout",
     "output_type": "stream",
     "text": [
      "   roll  marks\n",
      "4     5     38\n",
      "   roll  marks\n",
      "6     7     36\n",
      "    roll  marks\n",
      "5      6     32\n",
      "7      8     32\n",
      "11    12     32\n"
     ]
    }
   ],
   "source": [
    "sf = pd.DataFrame(students)\n",
    "ndf = sorted(sf['marks'].unique(), reverse=True)\n",
    "# print(ndf)\n",
    "\n",
    "fh = sf['marks'] == ndf[0]\n",
    "sh = sf['marks'] == ndf[1]\n",
    "th = sf['marks'] == ndf[2]\n",
    "print(sf[fh])\n",
    "print(sf[sh])\n",
    "print(sf[th])\n",
    "# print(sf)"
   ]
  },
  {
   "cell_type": "code",
   "execution_count": 9,
   "metadata": {},
   "outputs": [
    {
     "name": "stdout",
     "output_type": "stream",
     "text": [
      "A string and a int can not br concatenated\n",
      "cant xevide a number by zero\n",
      "Index of the list is outof bounds\n",
      "jklm is not defined\n",
      "The key age does not exist in the dictionary\n"
     ]
    }
   ],
   "source": [
    "#Exception handling\n",
    "\n",
    "#Type error:\n",
    "\n",
    "a = 10\n",
    "b = \"Hello\"\n",
    "try:\n",
    "    c = a+b\n",
    "except TypeError:\n",
    "    print(\"A string and a int can not br concatenated\")\n",
    "\n",
    "try:\n",
    "    c = 10/0\n",
    "except ZeroDivisionError:\n",
    "    print(\"cant xevide a number by zero\")\n",
    "\n",
    "arr = [1,2,3,4]\n",
    "try:\n",
    "    print(arr[5])\n",
    "except IndexError:\n",
    "    print(\"Index of the list is outof bounds\")\n",
    "\n",
    "try:\n",
    "    print(jklm)\n",
    "except NameError:\n",
    "    print('jklm is not defined')\n",
    "\n",
    "student= {'Name' : 'Aman', 'Subject':'Python', 'Roll':9}\n",
    "try:\n",
    "    print(student['Age'])\n",
    "except KeyError:\n",
    "    print(\"The key age does not exist in the dictionary\")\n"
   ]
  }
 ],
 "metadata": {
  "kernelspec": {
   "display_name": "Python 3 (ipykernel)",
   "language": "python",
   "name": "python3"
  },
  "language_info": {
   "codemirror_mode": {
    "name": "ipython",
    "version": 3
   },
   "file_extension": ".py",
   "mimetype": "text/x-python",
   "name": "python",
   "nbconvert_exporter": "python",
   "pygments_lexer": "ipython3",
   "version": "3.11.5"
  }
 },
 "nbformat": 4,
 "nbformat_minor": 2
}
