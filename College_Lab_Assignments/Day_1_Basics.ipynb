{
 "cells": [
  {
   "cell_type": "code",
   "execution_count": null,
   "id": "fe84db03",
   "metadata": {},
   "outputs": [],
   "source": [
    "\"\"\"\n",
    "1. i) Write a script that reads two integers, and prints the average of the two numbers.\n",
    "ii) Modify i) to print the larger of the two numbers. \n",
    "\n",
    "2. Write a script that reads three floating point numbers, and does the following: \n",
    "i) It prints the smallest and largest among the three.\n",
    "ii) It prints the average of the three numbers up to 2 decimal places.\n",
    "\"\"\""
   ]
  },
  {
   "cell_type": "code",
   "execution_count": 19,
   "id": "8b174132",
   "metadata": {},
   "outputs": [
    {
     "name": "stdout",
     "output_type": "stream",
     "text": [
      "Enter a year: 2024\n",
      "leap year\n"
     ]
    }
   ],
   "source": [
    "\"\"\"\n",
    "3. Write a script that prompts the user to input a year and determine whether that year is a leap year or \n",
    "not.\n",
    "\"\"\"\n",
    "\n",
    "year=int(input(\"Enter a year: \"))\n",
    "if(year%4==0 and year%100 != 0 or year%400 == 0):\n",
    "    print(\"leap year\")\n",
    "else:\n",
    "    print(\"Not a leap year\")"
   ]
  },
  {
   "cell_type": "code",
   "execution_count": 1,
   "id": "13d47d16",
   "metadata": {},
   "outputs": [
    {
     "name": "stdout",
     "output_type": "stream",
     "text": [
      "Enter the Number: 5\n",
      "*    \n",
      "**   \n",
      "***  \n",
      "**** \n",
      "*****\n"
     ]
    }
   ],
   "source": [
    "\"\"\"\n",
    "4. Write scripts to print each of the following output pattern. The number of rows to be printed is to be \n",
    "accepted as user input.\n",
    "\"\"\"\n",
    "# i)\n",
    "\n",
    "n = int(input(\"Enter the Number: \"))\n",
    "\n",
    "for x in range(n):\n",
    "    for y in range(n):\n",
    "        if(x>=y):\n",
    "            print(\"*\", end=\"\")\n",
    "        else:\n",
    "            print(\" \", end=\"\")\n",
    "    print()"
   ]
  },
  {
   "cell_type": "code",
   "execution_count": 2,
   "id": "0618b88f",
   "metadata": {},
   "outputs": [
    {
     "name": "stdout",
     "output_type": "stream",
     "text": [
      "Enter the Number: 5\n",
      "*****\n",
      " ****\n",
      "  ***\n",
      "   **\n",
      "    *\n"
     ]
    }
   ],
   "source": [
    "n = int(input(\"Enter the Number: \"))\n",
    "\n",
    "for x in range(n):\n",
    "    for y in range(n):\n",
    "        if(x<=y):\n",
    "            print(\"*\", end=\"\")\n",
    "        else:\n",
    "            print(\" \", end=\"\")\n",
    "    print()"
   ]
  },
  {
   "cell_type": "code",
   "execution_count": 3,
   "id": "1b863ead",
   "metadata": {},
   "outputs": [
    {
     "name": "stdout",
     "output_type": "stream",
     "text": [
      "Enter the Number: 5\n",
      "*****\n",
      "**** \n",
      "***  \n",
      "**   \n",
      "*    \n"
     ]
    }
   ],
   "source": [
    "n = int(input(\"Enter the Number: \"))\n",
    "\n",
    "for x in range(n):\n",
    "    for y in range(n):\n",
    "        if(x+y<n):\n",
    "            print(\"*\", end=\"\")\n",
    "        else:\n",
    "            print(\" \", end=\"\")\n",
    "    print()"
   ]
  },
  {
   "cell_type": "code",
   "execution_count": 4,
   "id": "8ad7485e",
   "metadata": {},
   "outputs": [
    {
     "name": "stdout",
     "output_type": "stream",
     "text": [
      "Enter the Number: 5\n",
      "          \n",
      "        * \n",
      "      * * \n",
      "    * * * \n",
      "  * * * * \n",
      "* * * * * \n"
     ]
    }
   ],
   "source": [
    "n = int(input(\"Enter the Number: \"))\n",
    "\n",
    "for x in range(n+1):\n",
    "    for y in range(n):\n",
    "        if(x+y>=n):\n",
    "            print(\"*\", end=\" \")\n",
    "        else:\n",
    "            print(\" \", end=\" \")\n",
    "    print()"
   ]
  },
  {
   "cell_type": "code",
   "execution_count": 8,
   "id": "798438f5",
   "metadata": {},
   "outputs": [
    {
     "name": "stdout",
     "output_type": "stream",
     "text": [
      "Enter the Number: 3\n",
      "*             \n",
      "* *           \n",
      "* * *         \n",
      "* * * *       \n",
      "* * *         \n",
      "* *           \n",
      "*             \n"
     ]
    }
   ],
   "source": [
    "n = int(input(\"Enter the Number: \"))\n",
    "\n",
    "for x in range((2*n)+1):\n",
    "    for y in range((2*n)+1):\n",
    "        if((x+y<=2*n) and (x>=y)) :\n",
    "            print(\"*\", end=\" \")\n",
    "        else:\n",
    "            print(\" \", end=\" \")\n",
    "    print()"
   ]
  },
  {
   "cell_type": "code",
   "execution_count": 9,
   "id": "696641cb",
   "metadata": {},
   "outputs": [
    {
     "name": "stdout",
     "output_type": "stream",
     "text": [
      "Enter the Number: 3\n",
      "            * \n",
      "          * * \n",
      "        * * * \n",
      "      * * * * \n",
      "        * * * \n",
      "          * * \n",
      "            * \n"
     ]
    }
   ],
   "source": [
    "n = int(input(\"Enter the Number: \"))\n",
    "\n",
    "for x in range((2*n)+1):\n",
    "    for y in range((2*n)+1):\n",
    "        if((x+y>=2*n) and (x<=y)):\n",
    "            print(\"*\", end=\" \")\n",
    "        else:\n",
    "           print(\" \", end=\" \")\n",
    "    print()"
   ]
  },
  {
   "cell_type": "code",
   "execution_count": 10,
   "id": "bc68bc63",
   "metadata": {},
   "outputs": [
    {
     "name": "stdout",
     "output_type": "stream",
     "text": [
      "Enter the Number: 3\n",
      "* * * * \n",
      "  * *   \n",
      "        \n",
      "        \n"
     ]
    }
   ],
   "source": [
    "# INCORRECT Ans. Try correcting this\n",
    "\n",
    "n = int(input(\"Enter the Number: \"))\n",
    "\n",
    "for x in range(n+1):\n",
    "    for y in range(n+1):\n",
    "        if((y>=x) and (x+y<=n)):\n",
    "            print(\"*\", end=\" \")\n",
    "        else:\n",
    "            print(\" \", end=\" \")\n",
    "    print()"
   ]
  },
  {
   "cell_type": "code",
   "execution_count": 11,
   "id": "7fa9db52",
   "metadata": {},
   "outputs": [
    {
     "name": "stdout",
     "output_type": "stream",
     "text": [
      "Enter the Number: 3\n",
      "*           * \n",
      "* *       * * \n",
      "* * *   * * * \n",
      "* * * * * * * \n",
      "* * *   * * * \n",
      "* *       * * \n",
      "*           * \n"
     ]
    }
   ],
   "source": [
    "# ix)\n",
    "\n",
    "n = int(input(\"Enter the Number: \"))\n",
    "\n",
    "for x in range((2*n)+1):\n",
    "    for y in range((2*n)+1):\n",
    "        if((x+y<=2*n) and (x>=y) or (x+y>=2*n) and (x<=y)):\n",
    "            print(\"*\", end=\" \")\n",
    "        else:\n",
    "            print(\" \", end=\" \")\n",
    "    print()"
   ]
  },
  {
   "cell_type": "code",
   "execution_count": 14,
   "id": "f61ccda1",
   "metadata": {},
   "outputs": [
    {
     "name": "stdout",
     "output_type": "stream",
     "text": [
      "Enter the Number: 5\n",
      "* * * * *   \n",
      "  * * *     \n",
      "    *       \n",
      "    *       \n",
      "  * * *     \n",
      "* * * * *   \n"
     ]
    }
   ],
   "source": [
    "# x)\n",
    "\n",
    "n = int(input(\"Enter the Number: \"))\n",
    "\n",
    "for x in range(n+1):\n",
    "    for y in range(n+1):\n",
    "        if((y>=x) and (x+y<n) or (y<x) and (x+y>=n)):\n",
    "            print(\"*\", end=\" \")\n",
    "        else:\n",
    "            print(\" \", end=\" \")\n",
    "    print()"
   ]
  },
  {
   "cell_type": "code",
   "execution_count": 15,
   "id": "f17fe82c",
   "metadata": {},
   "outputs": [
    {
     "name": "stdout",
     "output_type": "stream",
     "text": [
      "Enter the number of rows9\n",
      "* * * * * * * * *               * \n",
      "  * * * * * * * *             * * \n",
      "    * * * * * * *           * * * \n",
      "      * * * * * *         * * * * \n",
      "        * * * * *       * * * * * \n",
      "          * * * *     * * * * * * \n",
      "            * * *   * * * * * * * \n",
      "              * * * * * * * * * * \n",
      "* * * * * * * * * * * * * * * * * \n",
      "* * * * * * * * * *               \n",
      "* * * * * * *   * * *             \n",
      "* * * * * *     * * * *           \n",
      "* * * * *       * * * * *         \n",
      "* * * *         * * * * * *       \n",
      "* * *           * * * * * * *     \n",
      "* *             * * * * * * * *   \n",
      "*               * * * * * * * * * \n"
     ]
    }
   ],
   "source": [
    "# xv) --> Ranvir\n",
    "\n",
    "n = int(input(\"Enter the number of rows\"))\n",
    "for x in range(2*n-1):\n",
    "    for y in range(2*n-1):\n",
    "        if(x<=y and y<n-1) or (x+y>=2*n-2 and x<n) or (x>y-1 and y>n-1) or (x+y<2*n-1 and x>n-2) or (y==n-1):\n",
    "            print(\"*\",end=' ')\n",
    "        else:\n",
    "            print(\" \",end=' ')\n",
    "    print()"
   ]
  },
  {
   "cell_type": "code",
   "execution_count": 18,
   "id": "caeba8eb",
   "metadata": {},
   "outputs": [
    {
     "name": "stdout",
     "output_type": "stream",
     "text": [
      "Enter the Number: 7\n",
      "* * * * * * * \n",
      "* * * * * * * \n",
      "* * * * * * * \n",
      "* * * * * * * \n",
      "* * * * * * * \n",
      "* * * * * * * \n",
      "* * * * * * * \n"
     ]
    }
   ],
   "source": [
    "# Square\n",
    "num = int(input(\"Enter the Number: \"))\n",
    "\n",
    "for i in range(num):\n",
    "    for j in range(num):\n",
    "        print('* ', end=\"\")\n",
    "    print()"
   ]
  },
  {
   "cell_type": "code",
   "execution_count": 20,
   "id": "37135dcd",
   "metadata": {},
   "outputs": [
    {
     "name": "stdout",
     "output_type": "stream",
     "text": [
      "Enter a marks:85\n",
      "A\n"
     ]
    }
   ],
   "source": [
    "# Grading System\n",
    "\n",
    "marks=int(input(\"Enter a marks:\"))\n",
    "if(marks>=91):\n",
    "    print(\"O\")\n",
    "elif(marks>=81 and marks<=90):\n",
    "    print(\"A\")\n",
    "elif(marks>=71 and marks<=80):\n",
    "    print(\"B\")\n",
    "elif(marks>=61 and marks<=70):\n",
    "    print(\"C\")\n",
    "elif(marks>=51 and marks<=60):\n",
    "    print(\"D\")\n",
    "elif(marks>=41 and marks<=50):\n",
    "    print(\"E\")\n",
    "else:\n",
    "    print(\"F\")"
   ]
  }
 ],
 "metadata": {
  "kernelspec": {
   "display_name": "Python 3 (ipykernel)",
   "language": "python",
   "name": "python3"
  },
  "language_info": {
   "codemirror_mode": {
    "name": "ipython",
    "version": 3
   },
   "file_extension": ".py",
   "mimetype": "text/x-python",
   "name": "python",
   "nbconvert_exporter": "python",
   "pygments_lexer": "ipython3",
   "version": "3.11.5"
  }
 },
 "nbformat": 4,
 "nbformat_minor": 5
}
