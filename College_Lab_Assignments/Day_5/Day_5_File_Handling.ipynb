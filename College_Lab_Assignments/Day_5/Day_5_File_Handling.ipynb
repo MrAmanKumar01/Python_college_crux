{
 "cells": [
  {
   "cell_type": "code",
   "execution_count": 1,
   "id": "9cd8c1d9",
   "metadata": {},
   "outputs": [
    {
     "name": "stdout",
     "output_type": "stream",
     "text": [
      "File copied successfully!😎\n",
      "\n",
      "Apple\n",
      "Ball\n",
      "Cat\n",
      "Dog\n",
      "Elephant\n"
     ]
    }
   ],
   "source": [
    "\"\"\"\n",
    "1. Write a Python script to copy a text file.\n",
    "\"\"\"\n",
    "\n",
    "# w_file = open('org.txt','w')\n",
    "# w_file.write(\"Apple...Ball...\\nCat...\\nDog...Elephant...\")        \n",
    "# w_file.close() \n",
    "\n",
    "# Specify the source and destination file path\n",
    "source_file_path = \"org.txt\"\n",
    "destination_file_path = \"copy.txt\"\n",
    "\n",
    "# Read the entire contents of the source file\n",
    "with open(source_file_path, \"r\") as source_file:\n",
    "    source_file_contents = source_file.read()\n",
    "\n",
    "# Open the destination file in write mode\n",
    "with open(destination_file_path, \"w\") as destination_file:\n",
    "    for line in source_file_contents:\n",
    "        destination_file.write(line) \n",
    "\n",
    "print(\"File copied successfully!😎\\n\")\n",
    "with open(destination_file_path, \"r\") as destination_file:\n",
    "    for x in destination_file:\n",
    "        print(x.rstrip())"
   ]
  },
  {
   "cell_type": "code",
   "execution_count": 2,
   "id": "9ab38b13",
   "metadata": {},
   "outputs": [
    {
     "name": "stdout",
     "output_type": "stream",
     "text": [
      "Characters: 9\n",
      "Words: 2\n",
      "Lines: 2\n"
     ]
    }
   ],
   "source": [
    "\"\"\" \n",
    "2. Write a Python script to find number of characters, words and lines in a file.\n",
    "\"\"\"\n",
    "\n",
    "def count_characters_words_lines(file_path):\n",
    "    # Initialize counters\n",
    "    character_count = 0\n",
    "    word_count = 0\n",
    "    line_count = 0\n",
    "\n",
    "    # Open the file in read mode\n",
    "    with open(file_path, \"r\") as r_file:\n",
    "        for line in r_file:\n",
    "            # Count characters\n",
    "            character_count += len(line.strip())  #used strip() to remove \"\\n\"\n",
    "\n",
    "            # Count words\n",
    "            words = line.split()\n",
    "            word_count += len(words)\n",
    "\n",
    "            # Count lines\n",
    "            line_count += 1\n",
    "\n",
    "    return character_count, word_count, line_count\n",
    "\n",
    "# Specify the file path\n",
    "file_path = \"prob2.txt\"\n",
    "\n",
    "# Count characters, words, and lines\n",
    "character_count, word_count, line_count = count_characters_words_lines(file_path)\n",
    "\n",
    "# Print the results\n",
    "print(\"Characters:\", character_count)\n",
    "print(\"Words:\", word_count)\n",
    "print(\"Lines:\", line_count)"
   ]
  },
  {
   "cell_type": "code",
   "execution_count": 3,
   "id": "f9c663be",
   "metadata": {},
   "outputs": [
    {
     "name": "stdout",
     "output_type": "stream",
     "text": [
      "Enter a word: discover\n",
      "Word 'discover' found on line: 3\n"
     ]
    }
   ],
   "source": [
    "\"\"\"\n",
    "3. Write a Python script to obtain the line number in a file in which a given word is present.\n",
    "\"\"\"\n",
    "\n",
    "def find_word_line_number(file_path, word):\n",
    "    line_number = 0\n",
    "\n",
    "    with open(file_path, \"r\") as r_file:\n",
    "        for line in r_file:\n",
    "            line_number += 1\n",
    "            if word in line:\n",
    "                return line_number\n",
    "\n",
    "    # return None\n",
    "\n",
    "# Specify the file path and word to search for\n",
    "file_path = \"prob3.txt\"\n",
    "word = input(\"Enter a word: \")\n",
    "\n",
    "# Find the line number where the word is present\n",
    "line_number = find_word_line_number(file_path, word)\n",
    "\n",
    "if line_number:\n",
    "    print(\"Word '{}' found on line: {}\".format(word, line_number))\n",
    "else:\n",
    "    print(\"Word '{}' not found in the file\".format(word))"
   ]
  },
  {
   "cell_type": "code",
   "execution_count": 5,
   "id": "9c72d08d",
   "metadata": {},
   "outputs": [
    {
     "name": "stdout",
     "output_type": "stream",
     "text": [
      "Enter a sentence or END to stop: My name is Aman Kumar\n",
      "Enter a sentence or END to stop: Tiger is big cat\n",
      "Enter a sentence or END to stop: END\n",
      "\n",
      "Sentences starting with 'T':\n",
      "Tiger is big cat\n"
     ]
    }
   ],
   "source": [
    "\"\"\"\n",
    "4. Write a Python script to accept string/sentences from the user till the user enters “END”.\n",
    "Save the data in a text file and then display only those sentences which begin with ‘T’.\n",
    "\"\"\"\n",
    "\n",
    "def save_and_filter_sentences():\n",
    "    # Initialize an empty list to store sentences\n",
    "    sentences = []\n",
    "\n",
    "    # Prompt the user to enter sentences\n",
    "    while True:\n",
    "        sentence = input(\"Enter a sentence or END to stop: \")\n",
    "\n",
    "        # Check if the user entered \"END\"\n",
    "        if sentence == \"END\":\n",
    "            break\n",
    "\n",
    "        # Add the sentence to the list\n",
    "        sentences.append(sentence)\n",
    "\n",
    "    # Write the sentences to a text fileS\n",
    "    with open(\"sentences.txt\", \"w\") as w_file:\n",
    "        for sentence in sentences:\n",
    "            w_file.write(sentence + \"\\n\")    #\"\\n\" adds a new line character at the end of every sentence\n",
    "\n",
    "    # Filter and display sentences starting with 'T'\n",
    "    filtered_sentences = [sentence for sentence in sentences if sentence.startswith(\"T\")]\n",
    "    print(\"\\nSentences starting with 'T':\")\n",
    "    for sentence in filtered_sentences:\n",
    "        print(sentence)\n",
    "\n",
    "# Call the function to save and filter sentences\n",
    "save_and_filter_sentences()\n"
   ]
  },
  {
   "cell_type": "code",
   "execution_count": 6,
   "id": "a00556f6",
   "metadata": {},
   "outputs": [
    {
     "name": "stdout",
     "output_type": "stream",
     "text": [
      "Students who scored more than 500 are: \n",
      "Ramesh  =  556, Jessica  =  545, Jennifer  =  587, "
     ]
    }
   ],
   "source": [
    "\"\"\"\n",
    "5. The sample file student.txt contains one line for each student. The student’s name is the first\n",
    "entry on each line, followed by some exam scores. The number of scores might be different\n",
    "for each student. Using the text file student.txt, write a Python script that prints out the\n",
    "names of students those have a total score more than 500.\n",
    "\"\"\"\n",
    "\n",
    "with open(\"student.txt\",\"r\") as r:\n",
    "    text=r.read()\n",
    "    lines=text.split(\"\\n\")\n",
    "    print(\"Students who scored more than 500 are: \")\n",
    "    for i in lines:\n",
    "        text=i.split()\n",
    "        marks=text[1:]\n",
    "        sum=0\n",
    "        for i in marks:\n",
    "            sum+=int(i)\n",
    "        # print(sum)\n",
    "        if(sum>500):\n",
    "            print(text[0],\" = \",sum,end=\", \")"
   ]
  },
  {
   "cell_type": "code",
   "execution_count": 7,
   "id": "bc6bcfdf",
   "metadata": {},
   "outputs": [
    {
     "name": "stdout",
     "output_type": "stream",
     "text": [
      "Enter input file name: src.txt\n",
      "Enter output file name: prob_6.txt\n"
     ]
    }
   ],
   "source": [
    "\"\"\"\n",
    "6. Write a Python script that reads lines from a file, adds line numbers to them, and then\n",
    "stores the numbered lines into a new file. The name of the input file and also the new file\n",
    "will be read from the user. Each line in the output file should begin with the line number,\n",
    "followed by a colon and a space, followed by the line from the input file.\n",
    "\"\"\"\n",
    "input_file = input(\"Enter input file name: \")\n",
    "output_file = input(\"Enter output file name: \")\n",
    "\n",
    "with open(input_file, 'r') as r_input_file:\n",
    "    input_file_contents = r_input_file.read()\n",
    "\n",
    "with open(output_file, 'w') as w_output_file:\n",
    "    linenum = 0\n",
    "    for line in input_file_contents.splitlines():\n",
    "        linenum += 1\n",
    "        line = str(linenum) + ': ' + line.strip() + '\\n'\n",
    "        w_output_file.write(line)"
   ]
  },
  {
   "cell_type": "code",
   "execution_count": 8,
   "id": "a72d8aed",
   "metadata": {},
   "outputs": [
    {
     "name": "stdout",
     "output_type": "stream",
     "text": [
      "Longest word(s) is of length: 15\n",
      "sententiousness\n"
     ]
    }
   ],
   "source": [
    "\"\"\"\n",
    "7. Write a script that identifies the longest word(s) in a file and \n",
    "output a message that includes the length of the longest word, \n",
    "along with all of the words of that length that occurred in the file.\n",
    "\"\"\"\n",
    "\n",
    "with open('file.txt','w') as fname:\n",
    "    fname.write(\"The critic accused the author of excessive sententiousness in his writing\")\n",
    "with open ('file.txt', 'r') as fp:\n",
    "           content=fp.read().replace('\\n',' ')\n",
    "           l_words=content.split(' ')\n",
    "fp.close()\n",
    "l_words.sort(key=lambda x: len(x), reverse=True)\n",
    "print(\"Longest word(s) is of length:\",len(l_words[0]))\n",
    "index=0\n",
    "while(len(l_words[index])==len(l_words[0])):\n",
    "          print(l_words[index])\n",
    "          index+=1"
   ]
  },
  {
   "cell_type": "code",
   "execution_count": 10,
   "id": "6c360399",
   "metadata": {},
   "outputs": [
    {
     "name": "stdout",
     "output_type": "stream",
     "text": [
      "Enter name of the python file to remove comments: source.py\n",
      "Enter name of the new file to save the modified code: comments_removed.txt\n"
     ]
    }
   ],
   "source": [
    "'''\n",
    "8. Create a script that removes all of the comments from a Python source file and save the \n",
    "modified file with a new name.\n",
    "'''\n",
    "\n",
    "source=input(\"Enter name of the python file to remove comments: \")\n",
    "dest=input(\"Enter name of the new file to save the modified code: \")\n",
    "\n",
    "with open(source,\"r\") as r:\n",
    "    text=r.readlines()\n",
    "\n",
    "modified=[]\n",
    "for i in text:\n",
    "    line=i.strip()\n",
    "    if (line.startswith(\"#\") or line.startswith(\"'''\") or line.startswith('\"\"\"')):\n",
    "        continue\n",
    "    else:\n",
    "        modified.append(i)\n",
    "\n",
    "with open(dest,\"w\") as w:\n",
    "    w.writelines(modified)"
   ]
  }
 ],
 "metadata": {
  "kernelspec": {
   "display_name": "Python 3 (ipykernel)",
   "language": "python",
   "name": "python3"
  },
  "language_info": {
   "codemirror_mode": {
    "name": "ipython",
    "version": 3
   },
   "file_extension": ".py",
   "mimetype": "text/x-python",
   "name": "python",
   "nbconvert_exporter": "python",
   "pygments_lexer": "ipython3",
   "version": "3.11.5"
  }
 },
 "nbformat": 4,
 "nbformat_minor": 5
}
