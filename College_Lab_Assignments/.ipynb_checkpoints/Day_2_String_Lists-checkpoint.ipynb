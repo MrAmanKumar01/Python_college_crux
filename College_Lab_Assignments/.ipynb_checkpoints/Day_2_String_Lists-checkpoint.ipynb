{
 "cells": [
  {
   "cell_type": "code",
   "execution_count": 1,
   "id": "44663681",
   "metadata": {},
   "outputs": [
    {
     "name": "stdout",
     "output_type": "stream",
     "text": [
      "Enter the String to be checked: \n",
      "Was it a car or a cat I saw\n",
      "Palindrome\n"
     ]
    }
   ],
   "source": [
    "# 1.\n",
    "\n",
    "a=input(\"Enter the String to be checked: \\n\")\n",
    "# string = Was it a car or a cat I saw\n",
    "# string = Never odd or even\n",
    "# string = Students of MCA\n",
    "a= a.lower().replace(\" \", \"\")\n",
    "\n",
    "rev=a[::-1]\n",
    "\n",
    "if(rev==a):\n",
    "    print(\"Palindrome\")\n",
    "\n",
    "else:\n",
    "    print(\"Not a Palindrome\")"
   ]
  },
  {
   "cell_type": "code",
   "execution_count": 2,
   "id": "71fb421a",
   "metadata": {},
   "outputs": [
    {
     "name": "stdout",
     "output_type": "stream",
     "text": [
      "Enter the string to be checked: Never odd or even\n",
      "Duplicate characters in given string: \n",
      "e\n",
      "v\n",
      "r\n",
      "o\n",
      "d\n"
     ]
    }
   ],
   "source": [
    "\"\"\"\n",
    "2. Find all duplicate characters in a string.\n",
    "\"\"\"\n",
    "\n",
    "string = input(\"Enter the string to be checked: \")\n",
    "# string = \"Never odd or even\"\n",
    "   \n",
    "print(\"Duplicate characters in given string: \");  \n",
    "\n",
    "for i in range(0, len(string)):  \n",
    "    count = 1;  \n",
    "    for j in range(i+1, len(string)):  \n",
    "        if(string[i] == string[j] and string[i] != ' '):  \n",
    "            count = count + 1;  \n",
    "            string = string[:j] + '0' + string[j+1:];  \n",
    "   \n",
    "    if(count > 1 and string[i] != '0'):  \n",
    "        print(string[i]);  "
   ]
  },
  {
   "cell_type": "code",
   "execution_count": 3,
   "id": "15747058",
   "metadata": {},
   "outputs": [
    {
     "name": "stdout",
     "output_type": "stream",
     "text": [
      "Enter the string to be checked: If debugging is the process of removing bugs, then programming must be the process of putting them in.\n",
      "Enter the value of k: 7\n",
      "Words in the string which are greater than length 7:  ['debugging', 'removing', 'programming']\n"
     ]
    }
   ],
   "source": [
    "\"\"\"\n",
    "3. Find words in a string which are greater than some given length k.\n",
    "Sample Input: “If debugging is the process of removing bugs, then programming \n",
    "must be the process of putting them in.”, k=7\n",
    "Output: debugging, removing, programming, putting\n",
    "\"\"\"\n",
    "\n",
    "string = input(\"Enter the string to be checked: \")\n",
    "# string = \"If debugging is the process of removing bugs, then programming must be the process of putting them in.\"\n",
    "k = int(input(\"Enter the value of k: \"))\n",
    "\n",
    "words = string.split()\n",
    "long_words = []\n",
    "for word in words:\n",
    "    if len(word) > k:\n",
    "        long_words.append(word)\n",
    "        \n",
    "print(f\"Words in the string which are greater than length {k}: \", long_words)"
   ]
  },
  {
   "cell_type": "code",
   "execution_count": null,
   "id": "c16ea32f",
   "metadata": {},
   "outputs": [],
   "source": [
    "# 4."
   ]
  },
  {
   "cell_type": "code",
   "execution_count": 4,
   "id": "97be24c6",
   "metadata": {},
   "outputs": [
    {
     "name": "stdout",
     "output_type": "stream",
     "text": [
      "Enter the string to be checked: mba, bca, btech, mca\n",
      "Sorted string: bca, btech, mba, mca\n"
     ]
    }
   ],
   "source": [
    "\"\"\"\n",
    "5. Accept a string of comma separated words as input and generate a string of comma \n",
    "separated words (from the input string) sorted alphabetically.\n",
    "Sample Input: ‘mba, bca, btech, mca’ \n",
    "Output: ‘bca, btech, mba, mca’\n",
    "\"\"\"\n",
    "\n",
    "string = input(\"Enter the string to be checked: \")\n",
    "#string = \"mba, bca, btech, mca\"\n",
    "\n",
    "str1 = string.split(\", \")\n",
    "\n",
    "str1.sort()\n",
    "\n",
    "str2_string = \", \".join(str1)\n",
    "\n",
    "print(\"Sorted string:\", str2_string)"
   ]
  },
  {
   "cell_type": "code",
   "execution_count": 5,
   "id": "f37333fc",
   "metadata": {},
   "outputs": [
    {
     "name": "stdout",
     "output_type": "stream",
     "text": [
      "['0011', '1001']\n"
     ]
    }
   ],
   "source": [
    "\"\"\"\n",
    "6. Accept a string of comma separated 4-digit binary numbers as input and print a comma \n",
    "separated string containing the numbers that are divisible by3.\n",
    "Sample Input: “0100, 0011, 1010, 1001”\n",
    "Output: “0011,1001”\n",
    "\"\"\"\n",
    "\n",
    "bi_Num1 = [\"0100\", \"0011\", \"1010\", \"1001\"]\n",
    "\n",
    "div_by_3 = []\n",
    "\n",
    "for bi_Num in bi_Num1:\n",
    "# converted to integer number\n",
    "    integer_number = int(bi_Num, 2) \n",
    "    if integer_number % 3 == 0:\n",
    "        div_by_3.append(bi_Num)\n",
    "\n",
    "print(div_by_3)"
   ]
  },
  {
   "cell_type": "code",
   "execution_count": 6,
   "id": "9d362637",
   "metadata": {},
   "outputs": [
    {
     "name": "stdout",
     "output_type": "stream",
     "text": [
      "The list is not sorted\n"
     ]
    }
   ],
   "source": [
    "\"\"\"\n",
    "7. Check if the items in a list are sorted in ascending order, or descending order, or not sorted.\n",
    "\"\"\"\n",
    "\n",
    "list=[1,2,3,4,9,6,0]\n",
    "\n",
    "if list==sorted(list):\n",
    "    print(\"The list is sorted in ascending order.\")\n",
    "elif list==sorted(list,reverse=True):\n",
    "    print(\"The list is sorted in descending oreder\")\n",
    "else:\n",
    "    print(\"The list is not sorted\")"
   ]
  },
  {
   "cell_type": "code",
   "execution_count": 7,
   "id": "7c95b10f",
   "metadata": {},
   "outputs": [
    {
     "name": "stdout",
     "output_type": "stream",
     "text": [
      "[9, 8, 7]\n"
     ]
    }
   ],
   "source": [
    "\"\"\"\n",
    "8. Find N largest elements from a list\n",
    "\"\"\"\n",
    "\n",
    "list = [1, 5, 3, 7, 2, 9, 4, 6, 8]\n",
    "n = 3\n",
    "\n",
    "largest_elements = []\n",
    "\n",
    "for i in range(n):\n",
    "    largest_element = max(list)\n",
    "    largest_elements.append(largest_element)\n",
    "    list.remove(largest_element)\n",
    "\n",
    "print(largest_elements)"
   ]
  },
  {
   "cell_type": "code",
   "execution_count": 8,
   "id": "1b7e3c27",
   "metadata": {},
   "outputs": [
    {
     "name": "stdout",
     "output_type": "stream",
     "text": [
      "Org list: [19, 22, 87, 98, 23]\n",
      "Sum of Individual elements in the list: [10, 4, 15, 17, 5]\n"
     ]
    }
   ],
   "source": [
    "\"\"\"\n",
    "10. Sum the digits of individual elements in a list of numbers. \n",
    "Sample Input: [21, 77, 76, 232]\n",
    "Output: [3, 14, 13, 7]\n",
    "\"\"\"\n",
    "\n",
    "num_list = [19,22,87,98,23]\n",
    "\n",
    "print(\"Org list: \" + str(num_list))\n",
    "x = []\n",
    "for i in num_list:\n",
    "    sum = 0\n",
    "    for digit in str(i):\n",
    "        sum += int(digit)\n",
    "    x.append(sum)\n",
    "print (\"Sum of Individual elements in the list: \" + str(x))"
   ]
  },
  {
   "cell_type": "code",
   "execution_count": 9,
   "id": "de83dd3c",
   "metadata": {},
   "outputs": [
    {
     "name": "stdout",
     "output_type": "stream",
     "text": [
      "Enter any string: Banana\n",
      "['B', 'Ba', 'Ban', 'Bana', 'Banan', 'Banana']\n"
     ]
    }
   ],
   "source": [
    "\"\"\"\n",
    "11. Given a string, generate a list of nonempty prefixes of the string, ordered from shortest to \n",
    "longest.\n",
    "Sample Input: “Banana”\n",
    "Output: ['B', 'Ba', 'Ban', 'Bana', 'Banan','Banana']\n",
    "\"\"\"\n",
    "\n",
    "string = input(\"Enter any string: \")\n",
    "\n",
    "prefixes = []\n",
    "\n",
    "for i in range(len(string) + 1):\n",
    "    prefix = string[:i]\n",
    "    if prefix:\n",
    "        prefixes.append(prefix)\n",
    "\n",
    "print(prefixes)"
   ]
  },
  {
   "cell_type": "code",
   "execution_count": 10,
   "id": "7917addb",
   "metadata": {},
   "outputs": [
    {
     "name": "stdout",
     "output_type": "stream",
     "text": [
      "['program.c', 'a.out', 'cpp.out']\n"
     ]
    }
   ],
   "source": [
    "\"\"\"\n",
    "12. Given a list of filenames, generate a new list to rename all the files with extension ‘cpp’ to \n",
    "the extension ‘h’.\n",
    "Sample Input: [\"program.c\", \"stdio.cpp\", \"sample.cpp\", \"a.out\", \"math.cpp\", \"cpp.out\"]\n",
    "Output: ['program.c', 'stdio.h', 'sample.h', 'a.out', 'math.h', 'cpp.out']\n",
    "\n",
    "\"\"\"\n",
    "\n",
    "filenames = [\"program.c\", \"stdio.cpp\", \"sample.cpp\", \"a.out\", \"math.cpp\", \"cpp.out\"]\n",
    "\n",
    "renamed_filenames = []\n",
    "for filename in filenames:\n",
    "    if filename.endswith(\".cpp\"):\n",
    "        renamed_filename = filename.replace(\".cpp\", \".h\")\n",
    "    else:\n",
    "        renamed_filename = filename\n",
    "        renamed_filenames.append(renamed_filename)\n",
    "\n",
    "print(renamed_filenames)"
   ]
  },
  {
   "cell_type": "code",
   "execution_count": 11,
   "id": "ef06093a",
   "metadata": {},
   "outputs": [
    {
     "name": "stdout",
     "output_type": "stream",
     "text": [
      "['MCA1205', 'MCA2125', 'MCA1295']\n"
     ]
    }
   ],
   "source": [
    "\"\"\"\n",
    "13. Given a list of courses, create a new list of courses that are offered by the department of \n",
    "Computer Applications (i.e., courses that start with MCA]\n",
    "Sample Input: [‘MCA1205’, ‘MCA2125’, ’HUM2191’, ’MTH2102’, ’MCA1295’]\n",
    "Output: [‘MCA1205’, ‘MCA2125’, ’MCA1295’]\n",
    "\"\"\"\n",
    "\n",
    "courses = [\"MCA1205\", \"MCA2125\", \"HUM2191\", \"MTH2102\", \"MCA1295\"]\n",
    "\n",
    "mca_courses = []\n",
    "for course in courses:\n",
    "    if course.startswith(\"MCA\"):\n",
    "        mca_courses.append(course)\n",
    "\n",
    "print(mca_courses)"
   ]
  },
  {
   "cell_type": "code",
   "execution_count": 12,
   "id": "c3aab4a9",
   "metadata": {},
   "outputs": [
    {
     "name": "stdout",
     "output_type": "stream",
     "text": [
      "[2182001, 2182023, 2182049, 2182053]\n",
      "[2282022, 2282056, 2282036]\n"
     ]
    }
   ],
   "source": [
    "\"\"\"\n",
    "14. A list contains the roll nos. of students of MCA 1st and 2nd year who enrolled in the debate \n",
    "club. The roll no. of the students is prefixed with the year (2 digits) of admission. From that \n",
    "given list, create two separate lists for 1st year students and 2nd year students.\n",
    "Sample Input: [2182001, 2182023, 2282022, 2282056, 2182049, 2282036, 2182053]\n",
    "Output: [2182001, 2182023, 2182049, 2182053]\n",
    " [2282022, 2282056, 2282036]\"\"\"\n",
    "\n",
    "roll_numbers=[2182001, 2182023, 2282022, 2282056, 2182049, 2282036, 2182053]\n",
    "\n",
    "first_year_students=[]\n",
    "second_year_students=[]\n",
    "for i in roll_numbers:\n",
    "    if i//100000==21:\n",
    "        first_year_students.append(i)\n",
    "    else:\n",
    "        second_year_students.append(i)\n",
    "print(first_year_students)\n",
    "print(second_year_students)"
   ]
  },
  {
   "cell_type": "code",
   "execution_count": null,
   "id": "3319d45a",
   "metadata": {},
   "outputs": [],
   "source": [
    "\"\"\"\n",
    "15. Given a list of names, generate a list where each element is the surname of the \n",
    "corresponding element in the input list.\n",
    "Sample Input: [‘A Prasad Sen’, ‘Ananth B Chand’, ’Heera Juhuri’, ’Tapasi Das’, ’Gambhir \n",
    "Mudi’]\n",
    "Output: [‘Sen’, ‘Chand’, ’Juhuri’, ‘Das’, ‘Mudi’]\n",
    "\n",
    "16. Break a list into chunks of size N.\n",
    "\n",
    "17. Pair up consecutive elements of a given list.\n",
    "Sample Input: [1, 3, 2, 5, 4]\n",
    "Output: [[1, 3], [3, 2], [2, 5], [5, 4]]\n",
    "\n",
    "18. The str.count() counts the number of non-overlapping occurrences of a specified substring\n",
    "in a string. E.g., if myStr = ‘Banana’, myStr.count(‘an’) returns 2, but myStr.count(‘ana’) \n",
    "returns 1. Write a Python script that includes the overlapping cases also.\n",
    "\n",
    "19.\n",
    "\"\"\""
   ]
  }
 ],
 "metadata": {
  "kernelspec": {
   "display_name": "Python 3 (ipykernel)",
   "language": "python",
   "name": "python3"
  },
  "language_info": {
   "codemirror_mode": {
    "name": "ipython",
    "version": 3
   },
   "file_extension": ".py",
   "mimetype": "text/x-python",
   "name": "python",
   "nbconvert_exporter": "python",
   "pygments_lexer": "ipython3",
   "version": "3.11.5"
  }
 },
 "nbformat": 4,
 "nbformat_minor": 5
}
