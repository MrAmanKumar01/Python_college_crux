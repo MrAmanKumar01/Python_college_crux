{
 "cells": [
  {
   "cell_type": "code",
   "execution_count": 1,
   "id": "a7bb0a91",
   "metadata": {},
   "outputs": [
    {
     "name": "stdout",
     "output_type": "stream",
     "text": [
      "9:Aman Kumar\n"
     ]
    }
   ],
   "source": [
    "'''Problem 1) Write a function attached() that takes three parameters, the first an integer (required\n",
    "parameter), the second a string (required parameter), and the third an optional parameter\n",
    "whose default vale is “:”. Returned value will be the first parameter, concatenated with the\n",
    "second, using the third.'''\n",
    "\n",
    "def attached(num, st1, st2=\":\"):\n",
    "    return f\"{num}{st2}{st1}\"        # st2 used to concatenate as asked\n",
    "\n",
    "print(attached(9, \"Aman Kumar\"))"
   ]
  },
  {
   "cell_type": "code",
   "execution_count": 2,
   "id": "834ded00",
   "metadata": {},
   "outputs": [
    {
     "name": "stdout",
     "output_type": "stream",
     "text": [
      "  50\n",
      "  30\n",
      "- 50\n",
      "- 30\n"
     ]
    }
   ],
   "source": [
    "'''Problem 2) Give an implementation of a function called nums() that has three parameters, the first, an\n",
    "integer, is required, the second parameter multInt, an integer, is optional with a default value of\n",
    "10, the final parameter switch, is also optional with a default value of False. The function should\n",
    "multiply the two integers together, and if switch is True, should change the sign of the product\n",
    "before returning it.'''\n",
    "\n",
    "def nums(x, mult_int = 10, switch = False):\n",
    "    product = x*mult_int\n",
    "    if switch==True:\n",
    "        return print(\"-\", product)\n",
    "    else:\n",
    "        return print(f\"{product:>4}\") # right alligned\n",
    "\n",
    "nums(5)       # 2nd & 3rd parameter optional\n",
    "nums(5,mult_int=6)     # 3rd parameter optional\n",
    "nums(5,switch=True)    # 2nd parameter optional\n",
    "nums(5,mult_int=6,switch=True)"
   ]
  },
  {
   "cell_type": "code",
   "execution_count": null,
   "id": "2515d968",
   "metadata": {},
   "outputs": [],
   "source": [
    "# 3."
   ]
  },
  {
   "cell_type": "code",
   "execution_count": 3,
   "id": "56eec885",
   "metadata": {},
   "outputs": [
    {
     "name": "stdout",
     "output_type": "stream",
     "text": [
      "Sum of even integers: 30\n",
      "Sum of odd integers: 25\n"
     ]
    }
   ],
   "source": [
    "'''Problem 4) Define a function to return a tuple containing a pair, the sum of all the even integers and odd\n",
    "integers respectively, in a list of integers passed as an argument to the function.'''\n",
    "\n",
    "def sum_even_odd(numbers_list):\n",
    "    even_sum = 0\n",
    "    odd_sum = 0\n",
    "\n",
    "    for number in numbers_list:\n",
    "        if number % 2 == 0:       # picks all even nos. and adds them up\n",
    "            even_sum += number    \n",
    "        else:\n",
    "            odd_sum += number     # picks all odd nos. and adds them up\n",
    "\n",
    "    return even_sum, odd_sum\n",
    "\n",
    "numbers_list = [1, 2, 3, 4, 5, 6, 7, 8, 9, 10]\n",
    "\n",
    "# assigns the return value of the sum_even_odd() function to two variables, even_sum and odd_sum\n",
    "even_sum, odd_sum = sum_even_odd(numbers_list)\n",
    "\n",
    "print(\"Sum of even integers:\", even_sum)\n",
    "print(\"Sum of odd integers:\", odd_sum)"
   ]
  },
  {
   "cell_type": "code",
   "execution_count": 4,
   "id": "9081a104",
   "metadata": {},
   "outputs": [
    {
     "name": "stdout",
     "output_type": "stream",
     "text": [
      "{1, 2, 3, 4, 5, 9}\n"
     ]
    }
   ],
   "source": [
    "'''Problem 5) Write a function that accepts a list and returns a new list with unique elements of that list.'''\n",
    "\n",
    "def uniList(myList):\n",
    "    uniq = set(myList)\n",
    "    return uniq\n",
    "\n",
    "print(uniList([1,2,3,2,4,1,2,5,9]))"
   ]
  },
  {
   "cell_type": "code",
   "execution_count": 5,
   "id": "794bda10",
   "metadata": {},
   "outputs": [
    {
     "name": "stdout",
     "output_type": "stream",
     "text": [
      "List sorted in reverse order considering last characters :\n",
      " ['19', '3478', '9817', '96', '9005', '84', '23', '12', '781', '150']\n"
     ]
    }
   ],
   "source": [
    "\"\"\" Problem 6) Write a function lastChar() that takes a string as input, and returns only its last character.\n",
    "Use this function to sort list of strings by the last character of each string, from highest to lowest.\n",
    "Sample Input: ['150', '23', '781', '19', '3478', '12', '9005', '84', '9817', '96']\n",
    "Output: ['19', '3478', '9817', '96', '9005', '84', '23', '12', '781','150'] \"\"\"\n",
    "\n",
    "# takes a single argument named arg\n",
    "# argument s is expected to be a string\n",
    "def last_char(s:str):   \n",
    "    return s[len(s)-1]   # last character\n",
    "\n",
    "myList=['150', '23', '781', '19', '3478', '12', '9005', '84', '9817', '96']\n",
    "\n",
    "sortedList=sorted(myList, key=last_char, reverse=True)\n",
    "print(\"List sorted in reverse order considering last characters :\\n\",sortedList)\n"
   ]
  },
  {
   "cell_type": "code",
   "execution_count": 6,
   "id": "03beace1",
   "metadata": {},
   "outputs": [
    {
     "name": "stdout",
     "output_type": "stream",
     "text": [
      "List sorted in reverse order considering last characters :\n",
      " ['19', '3478', '9817', '96', '9005', '84', '23', '12', '781', '150']\n"
     ]
    }
   ],
   "source": [
    "\"\"\" Problem 7) Redo assignment #6 with lambda.\"\"\"\n",
    "\n",
    "#def last_char(s:str):\n",
    "  #return s[len(s)-1]\n",
    "\n",
    "myList=['150', '23', '781', '19', '3478', '12', '9005', '84', '9817', '96']\n",
    "\n",
    "#sortedList = sorted(myList, key=lambda x:last_char(x), reverse=True)  \n",
    "sortedList = sorted(myList, key=lambda x:x[-1], reverse=True)\n",
    "print(\"List sorted in reverse order considering last characters :\\n\",sortedList)"
   ]
  },
  {
   "cell_type": "code",
   "execution_count": 7,
   "id": "750926c0",
   "metadata": {},
   "outputs": [
    {
     "name": "stdout",
     "output_type": "stream",
     "text": [
      "Sorted list with lambda :  [-2, 4, -5, -7, -9]\n",
      "Sorted list without lambda :  [-2, 4, -5, -7, -9]\n"
     ]
    }
   ],
   "source": [
    "'''\n",
    "Problem 8) Sort a list of numbers based on their absolute values, writing your own function for calculating\n",
    "absolute value of a number and (i) using it in sorted() without lambda, (ii) using it in sorted()\n",
    "with lambda.\n",
    "Sample Input: [-5, -7, 4, -2, -9]\n",
    "Output: [-2, 4, -5, -7, -9]\n",
    "'''\n",
    "\n",
    "def absValue(x:int):\n",
    "    if(x<0):\n",
    "        x = -x\n",
    "    return x\n",
    "\n",
    "myList=[-5, -7, 4, -2, -9]\n",
    "\n",
    "myList_lambda_sorted=sorted(myList, key=lambda x:absValue(x))\n",
    "\n",
    "sortedList=sorted(myList, key=absValue)\n",
    "print(\"Sorted list with lambda : \",myList_lambda_sorted)\n",
    "print(\"Sorted list without lambda : \",sortedList)"
   ]
  },
  {
   "cell_type": "code",
   "execution_count": 8,
   "id": "c2c40fe9",
   "metadata": {},
   "outputs": [
    {
     "name": "stdout",
     "output_type": "stream",
     "text": [
      "['bca', 'dsc', 'mca', 'btech', 'mtech', 'diploma']\n"
     ]
    }
   ],
   "source": [
    "\"\"\"Problem 9) Sort a list of words first by their length, smallest to largest, and then alphabetically to break ties\n",
    "among words of the same length (using sorted() and lambda).\n",
    "Sample Input: ['mtech', 'btech', 'mca', 'bca', 'diploma', 'dsc']\n",
    "Output: ['bca', 'dsc', 'mca', 'btech', 'mtech','diploma'] \"\"\"\n",
    "\n",
    "myList= ['mtech', 'btech', 'mca', 'bca', 'diploma', 'dsc']\n",
    "sorted_lambda=sorted(myList,key=lambda x: (len(x),x))\n",
    "print(sorted_lambda)"
   ]
  },
  {
   "cell_type": "code",
   "execution_count": 9,
   "id": "70885d7c",
   "metadata": {},
   "outputs": [
    {
     "name": "stdout",
     "output_type": "stream",
     "text": [
      "['diploma', 'btech', 'mtech', 'bca', 'dsc', 'mca']\n"
     ]
    }
   ],
   "source": [
    "\"\"\" Problem 10) Sort a list of words first by their length, largest to smallest, and then \n",
    "alphabetically to break ties among words of the same length (using sorted() and lambda).\n",
    "Sample Input: ['mtech', 'btech', 'mca', 'bca', 'diploma', 'dsc']\n",
    "Output: ['diploma', 'btech', 'mtech', 'bca', 'dsc','mca'] \"\"\"\n",
    "\n",
    "myList= ['mtech', 'btech', 'mca', 'bca', 'diploma', 'dsc']\n",
    "sorted_lambda=sorted(myList,key=lambda x: (-len(x),x))\n",
    "print(sorted_lambda)"
   ]
  },
  {
   "cell_type": "code",
   "execution_count": 10,
   "id": "265370e7",
   "metadata": {},
   "outputs": [
    {
     "name": "stdout",
     "output_type": "stream",
     "text": [
      "['West Bengal', 'Maharastra', 'Kerala']\n",
      "['Maharastra', 'Kerala', 'West Bengal']\n"
     ]
    }
   ],
   "source": [
    "'''Problem 11) (i) sort the states in order by the first city name. (Sample Output: ['West Bengal',\n",
    "'Maharastra','Kerala'])'''\n",
    " \n",
    "state_city={\"Kerala\": [\"Kannur\", \"Palakkad\", \"Thalassery\"],\n",
    "\"Maharastra\": [\"Bhandara\", \"Nagpur\",\"Wardha\"],\n",
    "\"West Bengal\": [\"Asansol\", \"Basirhat\",\"Bardhaman\"]}\n",
    "sorted_state=sorted(state_city.keys(),key=lambda state :state_city[state][0])  \n",
    "print(sorted_state) \n",
    "\n",
    "'''(ii) sort the states by the length of the second city name, break ties of equal length by name \n",
    "of the second cities. (Sample Output: ['Maharastra', 'West Bengal', 'Kerala'])'''\n",
    "\n",
    "'''(iii) sort the states in order by the number of cities having length greater than 6. (Sample\n",
    "Output: ['Maharastra', 'Kerala', 'West Bengal']) '''\n",
    "\n",
    "state_city={\"Kerala\": [\"Kannur\", \"Palakkad\", \"Thalassery\"],\n",
    "\"Maharastra\": [\"Bhandara\", \"Nagpur\",\"Wardha\"],\n",
    "\"West Bengal\": [\"Asansol\", \"Basirhat\",\"Bardhaman\"]}\n",
    "sorted_state=sorted(state_city.keys(),key=lambda state :len(state_city[state][1]))  \n",
    "print(sorted_state) "
   ]
  },
  {
   "cell_type": "code",
   "execution_count": 11,
   "id": "eb06d750",
   "metadata": {},
   "outputs": [
    {
     "name": "stdout",
     "output_type": "stream",
     "text": [
      "Enter a string : Anger leads to hatred\n",
      "Five most frequent characters are : \n",
      "e\n",
      " \n",
      "r\n",
      "a\n",
      "d\n"
     ]
    }
   ],
   "source": [
    "\"\"\"\n",
    "Problem 12) Write a function that takes a string as a parameter and returns a list of the five most frequent\n",
    "characters in the string.\n",
    "\"\"\"\n",
    "\n",
    "def five_freq_char(s:str):\n",
    "    dict={}\n",
    "    for x in s:\n",
    "        if x not in dict.keys():\n",
    "            dict[x]=1\n",
    "        else:\n",
    "            dict[x]+=1\n",
    "    dict_sorted=sorted(dict.items(), key=lambda x:x[1], reverse=True)\n",
    "    return dict_sorted\n",
    "\n",
    "st=five_freq_char(input(\"Enter a string : \"))\n",
    "print(\"Five most frequent characters are : \")\n",
    "c=0\n",
    "for x in st:\n",
    "    print(x[0])\n",
    "    c+=1\n",
    "    if c==5:\n",
    "        break"
   ]
  },
  {
   "cell_type": "code",
   "execution_count": 12,
   "id": "bfdfc7c4",
   "metadata": {},
   "outputs": [
    {
     "name": "stdout",
     "output_type": "stream",
     "text": [
      "[20229000, 20220002, 20223005, 20229329, 20222342, 20222345]\n"
     ]
    }
   ],
   "source": [
    "'''Problem 13) Sort a list of roll numbers by the last three digits of the roll number.\n",
    "Sample Input: [20223005, 20222342, 20229000, 20220002, 20222345, 20229329]\n",
    "Output: [20229000, 20220002, 20223005, 20229329, 20222342,20222345]'''\n",
    "\n",
    "roll_num=[20223005, 20222342, 20229000, 20220002, 20222345, 20229329]\n",
    "sorted_roll_num=sorted(roll_num,key=lambda x:str(x)[-3:])\n",
    "print(sorted_roll_num)"
   ]
  }
 ],
 "metadata": {
  "kernelspec": {
   "display_name": "Python 3 (ipykernel)",
   "language": "python",
   "name": "python3"
  },
  "language_info": {
   "codemirror_mode": {
    "name": "ipython",
    "version": 3
   },
   "file_extension": ".py",
   "mimetype": "text/x-python",
   "name": "python",
   "nbconvert_exporter": "python",
   "pygments_lexer": "ipython3",
   "version": "3.11.5"
  }
 },
 "nbformat": 4,
 "nbformat_minor": 5
}
