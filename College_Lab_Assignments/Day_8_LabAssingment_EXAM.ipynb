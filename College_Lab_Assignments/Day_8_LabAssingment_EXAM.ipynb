{
 "cells": [
  {
   "cell_type": "code",
   "execution_count": 1,
   "id": "41cd7790",
   "metadata": {},
   "outputs": [],
   "source": [
    "# 1. With appropriate example(s) implement\n",
    "# (i) Hierarchical inheritance\n",
    "# (ii) Multilevel inheritance\n",
    "# (iii) Multiple inheritance"
   ]
  },
  {
   "cell_type": "code",
   "execution_count": 2,
   "id": "4868dd60",
   "metadata": {},
   "outputs": [
    {
     "name": "stdout",
     "output_type": "stream",
     "text": [
      "Tommy bark...\n",
      "Bully bark...\n",
      "Jimmy bark...\n"
     ]
    }
   ],
   "source": [
    "# (i) Hierarchical inheritance\n",
    "\n",
    "class Dog:\n",
    "    def __init__(self):\n",
    "        self.voice = \"bark...\"\n",
    "class Retriver(Dog):\n",
    "    def __init__(self,name):\n",
    "        self.name = name\n",
    "        Dog.__init__(self)\n",
    "class German(Dog):\n",
    "    def __init__(self,name):\n",
    "        self.name = name\n",
    "        Dog.__init__(self)\n",
    "class Pug(Dog):\n",
    "    def __init__(self,name):\n",
    "        self.name = name\n",
    "        Dog.__init__(self)\n",
    "        \n",
    "ret = Retriver(\"Tommy\")\n",
    "print(ret.name, ret.voice)\n",
    "\n",
    "ger = German(\"Bully\")\n",
    "print(ger.name,ger.voice)\n",
    "\n",
    "pug = Pug(\"Jimmy\")\n",
    "print(pug.name, pug.voice)"
   ]
  },
  {
   "cell_type": "code",
   "execution_count": 3,
   "id": "ea276057",
   "metadata": {},
   "outputs": [
    {
     "name": "stdout",
     "output_type": "stream",
     "text": [
      "44\n",
      "100\n"
     ]
    }
   ],
   "source": [
    "# (ii) Multilevel inheritance\n",
    "\n",
    "class Shape:\n",
    "    def __init__(self,color = 'Saffron'):\n",
    "        self.color = color\n",
    "class Rectangle(Shape):\n",
    "    def __init__(self,length,breadth):\n",
    "        self.length = length\n",
    "        self.breadth = breadth\n",
    "    def area(self):\n",
    "        return self.length*self.breadth\n",
    "class Square(Rectangle):\n",
    "    def __init__(self, side):\n",
    "        self.side = side\n",
    "    def area(self):\n",
    "        return self.side**2\n",
    "    \n",
    "rec = Rectangle(11,4)\n",
    "print(rec.area())\n",
    "\n",
    "square = Square(10)\n",
    "print(square.area())"
   ]
  },
  {
   "cell_type": "code",
   "execution_count": 4,
   "id": "74875ff8",
   "metadata": {},
   "outputs": [
    {
     "name": "stdout",
     "output_type": "stream",
     "text": [
      "King 120\n"
     ]
    }
   ],
   "source": [
    "# (iii) Multiple inheritance\n",
    "\n",
    "class Bed:\n",
    "    def __init__(self, size = \"Queen\"):\n",
    "        self.size = size\n",
    "class Sofa:\n",
    "    def __init__(self, weight = 50):\n",
    "        self.weight = weight\n",
    "class BedCumSofa(Bed,Sofa):\n",
    "    def __init__(self,size,weight):\n",
    "        Bed.__init__(self,size)\n",
    "        Sofa.__init__(self,weight)\n",
    "\n",
    "bcs = BedCumSofa(\"King\", 120)\n",
    "print(bcs.size, bcs.weight)"
   ]
  },
  {
   "cell_type": "code",
   "execution_count": 5,
   "id": "b1de64a3",
   "metadata": {},
   "outputs": [],
   "source": [
    "# 2. Import re and write scripts to achieve the following:\n",
    "# (i) accept a 6-digit roll number as input, and if it starts with 22, replace the 22 with 23\n",
    "# (ii) takes a word as input and satisfy the requirements that it should be of 5 letters,\n",
    "# starts with ‘c’ and ends with ‘r’\n",
    "# (iii) assume a product cataloging system has the following requirements:\n",
    "# first symbol: an uppercase character\n",
    "# second symbol: a digit\n",
    "# third symbol: the special character @\n",
    "# fourth symbol: a lowercase character\n",
    "# write a script that accepts an id and checks whether it is in correct format ornot\n",
    "# (iv) check whether a given email id is in valid format or not."
   ]
  },
  {
   "cell_type": "code",
   "execution_count": 6,
   "id": "7576e52f",
   "metadata": {},
   "outputs": [
    {
     "name": "stdout",
     "output_type": "stream",
     "text": [
      "Enter your roll number: 220909\n",
      "230909\n"
     ]
    }
   ],
   "source": [
    "# (i) accept a 6-digit roll number as input, and if it starts with 22, replace the 22 with 23\n",
    "\n",
    "import re\n",
    "pat = r\"^22(\\d{4})$\"\n",
    "roll = input(\"Enter your roll number: \")\n",
    "match = re.search(pat,roll)\n",
    "if match:\n",
    "    roll = \"23\"+roll[2:]\n",
    "    print(roll)\n",
    "else:\n",
    "    print(\"Roll is either not starting with 22 or its not of 6 letters\")"
   ]
  },
  {
   "cell_type": "code",
   "execution_count": 7,
   "id": "7276a753",
   "metadata": {},
   "outputs": [
    {
     "name": "stdout",
     "output_type": "stream",
     "text": [
      "Enter a text chair\n",
      "chair\n"
     ]
    }
   ],
   "source": [
    "# (ii) takes a word as input and satisfy the requirements that it should be of 5 letters,\n",
    "# starts with ‘c’ and ends with ‘r’\n",
    "\n",
    "pat = r'^c\\w{3}r$'\n",
    "txt = input(\"Enter a text \")\n",
    "match = re.search(pat,txt)\n",
    "if match:\n",
    "    print(txt)\n",
    "else:\n",
    "    print(\"not satisfying the conditions\")"
   ]
  },
  {
   "cell_type": "code",
   "execution_count": 8,
   "id": "77f8b560",
   "metadata": {},
   "outputs": [
    {
     "name": "stdout",
     "output_type": "stream",
     "text": [
      "Enter a text K7@p\n",
      "K7@p is a valid product Id\n"
     ]
    }
   ],
   "source": [
    "# (iii) assume a product cataloging system has the following requirements:\n",
    "# first symbol: an uppercase character\n",
    "# second symbol: a digit\n",
    "# third symbol: the special character @\n",
    "# fourth symbol: a lowercase character\n",
    "# write a script that accepts an id and checks whether it is in correct format or not\n",
    "\n",
    "pat = r'^[A-Z]\\d@[a-z]'\n",
    "txt = input(\"Enter a text \")\n",
    "match = re.search(pat,txt)\n",
    "if match:\n",
    "    print(txt, 'is a valid product Id' )\n",
    "else:\n",
    "    print(txt,\"is not a valid product Id\")"
   ]
  },
  {
   "cell_type": "code",
   "execution_count": 9,
   "id": "303eb819",
   "metadata": {},
   "outputs": [
    {
     "name": "stdout",
     "output_type": "stream",
     "text": [
      "Enter a email id amankr.101@gmail.com\n",
      "amankr.101@gmail.com is a valid email Id\n"
     ]
    }
   ],
   "source": [
    "# (iv) check whether a given email id is in valid format or not.\n",
    "pat = r'^[a-zA-Z0-9._%+-]+@[a-zA-Z0-9.-]+\\.[a-zA-Z]{2,}$'\n",
    "txt = input(\"Enter a email id \")\n",
    "match = re.search(pat,txt)\n",
    "if match:\n",
    "    print(txt, 'is a valid email Id' )\n",
    "else:\n",
    "    print(txt,\"is not a valid email Id\")"
   ]
  },
  {
   "cell_type": "code",
   "execution_count": 11,
   "id": "0d2b079e",
   "metadata": {},
   "outputs": [
    {
     "name": "stdout",
     "output_type": "stream",
     "text": [
      "Name is not Unique\n",
      "Age is not valid\n",
      "Age is under 18\n",
      "Age is not valid\n",
      "{'Aman': (24, 'amankr.101@gmail.com'), 'Anand': (22, 'anand12@gmail.com'), 'Binod': (20, 'binod215@gmail.com'), 'Anas': (49, 'anas301@gmail.com')}\n"
     ]
    }
   ],
   "source": [
    "# 3. Write a program which can iterate through a list of users (tuples comprising of a name, email\n",
    "# and age) and if the user is at least 18 years old, adds her/him to a dictionary. Write an\n",
    "# exception hierarchy which defines a different exception for each of these error conditions:\n",
    "\n",
    "# (i) the name is not unique\n",
    "# (ii) the age is not a positive integer\n",
    "# (iii) the user is under 18\n",
    "# (iv) the email format is not valid\n",
    "\n",
    "# Raise these exceptions where appropriate. Whenever an exception occurs, your program\n",
    "# should move onto the next set of data in the list. Print different error messages for each\n",
    "# different kind of exception.\n",
    "\n",
    "class Rejected(Exception):\n",
    "    def __init__(self,value):\n",
    "        self.value = value\n",
    "    def __str__(self):\n",
    "        return self.value\n",
    "class NotUnique(Rejected):\n",
    "    def __init__(self):\n",
    "        Rejected.__init__(self, \"Name is not Unique\")\n",
    "class NegetiveAge(Rejected):\n",
    "    def __init__(self):\n",
    "        Rejected.__init__(self,\"Age is not valid\")\n",
    "class UnderAge(Rejected):\n",
    "    def __init__(self):\n",
    "        Rejected.__init__(self,\"Age is under 18\")\n",
    "class InvalidEmail(Rejected):\n",
    "    def __init__(self):\n",
    "        Rejected.__init__(self,\"email Id is invalid\")\n",
    "\n",
    "users = [('Aman', 24, 'amankr.101@gmail.com'),('Anand', 22, 'anand12@gmail.com'),\n",
    "        ('Aman',25,'chandan91@gmail.com'),('Akash',-20,'akashwani@gmail.com'),\n",
    "        ('Binod',20,'binod215@gmail.com'),('Kamal', 17, 'kuntalkamal'),\n",
    "        ('Anas',49,'anas301@gmail.com'),('Shatvik',-21,'notsatvik@gmail.com')]\n",
    "\n",
    "finalUsers = dict()\n",
    "\n",
    "pat = r'^[a-zA-Z0-9._%+-]+@[a-zA-Z0-9.-]+\\.[a-zA-Z]{2,}$'\n",
    "\n",
    "for user in users:\n",
    "    try:\n",
    "        if user[0] in finalUsers:\n",
    "            raise NotUnique()\n",
    "        elif user[1]<0:\n",
    "            raise NegetiveAge()\n",
    "        elif user[1]<18:\n",
    "            raise UnderAge()\n",
    "        elif (not re.search(pat,user[2])):\n",
    "            raise InvalidEmail()\n",
    "        else:\n",
    "            finalUsers[user[0]] = (user[1],user[2])\n",
    "    except NotUnique as error :\n",
    "        print(error.value)\n",
    "        continue\n",
    "    except NegetiveAge as error :\n",
    "        print(error.value)\n",
    "        continue\n",
    "    except UnderAge as error :\n",
    "        print(error.value)\n",
    "        continue\n",
    "    except InvalidEmail as error:\n",
    "        print(error.value)\n",
    "        continue\n",
    "print(finalUsers)"
   ]
  },
  {
   "cell_type": "code",
   "execution_count": 12,
   "id": "51861d08",
   "metadata": {},
   "outputs": [
    {
     "name": "stdout",
     "output_type": "stream",
     "text": [
      "2024-01-16 19:43:14.027882\n",
      "2024-01-16\n",
      "2024\n",
      "January\n",
      "02\n",
      "Tuesday\n",
      "16\n",
      "2\n",
      "19:43:14.027882\n",
      "19\n",
      "43\n",
      "PM\n"
     ]
    }
   ],
   "source": [
    "# 4. Write a Python script to display the following Date Time String formats:\n",
    "# (i) Current date and time, (ii) Current Date, (iii) Current year, (iv) Month of year, (v) Week\n",
    "# number of the year, (vi) Weekday of the week, (vii) Day of the month, (viii) Day of week, (ix)\n",
    "# Current Time, (x) Current Hour, (xi) Current Minute, (xii) Current PM / AM\n",
    "\n",
    "import datetime as dt\n",
    "\n",
    "# (i) Current date and time\n",
    "x = dt.datetime.now()\n",
    "print(x)\n",
    "\n",
    "# (ii) Current Date\n",
    "print(x.date())\n",
    "\n",
    "# (iii) Current year\n",
    "print(x.year)\n",
    "\n",
    "# (iv) Month of year\n",
    "print(x.strftime('%B'))\n",
    "\n",
    "# (v) Week number of the year\n",
    "print(x.strftime('%U'))\n",
    "\n",
    "# (vi) Weekday of the week\n",
    "print(x.strftime('%A'))\n",
    "\n",
    "#(vii) Day of the month\n",
    "print(x.day)\n",
    "\n",
    "# (viii) Day of week\n",
    "print(x.weekday()+1)\n",
    "\n",
    "# (ix)Current Time\n",
    "print(x.time())\n",
    "\n",
    "# (x) Current Hour\n",
    "print(x.hour)\n",
    "\n",
    "# (xi) Current Minute\n",
    "print(x.minute)\n",
    "\n",
    "# (xii) Current PM / AM\n",
    "print(x.strftime('%p'))"
   ]
  },
  {
   "cell_type": "code",
   "execution_count": 13,
   "id": "48078733",
   "metadata": {},
   "outputs": [
    {
     "name": "stdout",
     "output_type": "stream",
     "text": [
      "enter first date space separated in format yyyy mm dd2024 01 16\n",
      "enter second date space separated in format yyyy mm dd2024 02 19\n",
      "2024-01-16 00:00:00\n",
      "2024-02-19 00:00:00\n",
      "34 days, 0:00:00\n"
     ]
    }
   ],
   "source": [
    "# 5. Write a script to get the number of days between two dates\n",
    "\n",
    "year1 = input(\"enter first date space separated in format yyyy mm dd\")\n",
    "year2 = input(\"enter second date space separated in format yyyy mm dd\")\n",
    "y1,m1,d1 = year1.split()\n",
    "start = dt.datetime(int(y1),int(m1),int(d1))\n",
    "y2,m2,d2 = year2.split()\n",
    "end = dt.datetime(int(y2),int(m2),int(d2))\n",
    "print(start)\n",
    "print(end)\n",
    "print(end - start)"
   ]
  },
  {
   "cell_type": "code",
   "execution_count": 15,
   "id": "ce53e28a",
   "metadata": {},
   "outputs": [
    {
     "name": "stdout",
     "output_type": "stream",
     "text": [
      "enter dob space separated in format yyyy mm dd: 1999 02 11\n",
      "Thursday\n",
      "I am 24 year and 345 days old\n"
     ]
    }
   ],
   "source": [
    "# 6. Write a script, that, given your date of birth, finds the weekday you were born and also\n",
    "# your age in years and days.\n",
    "\n",
    "yr = input(\"enter dob space separated in format yyyy mm dd: \")\n",
    "y,m,d = yr.split()\n",
    "dob = dt.datetime(int(y),int(m),int(d))\n",
    "curr = dt.datetime.now()\n",
    "print(dob.strftime('%A'))\n",
    "daysOld = curr - dob\n",
    "yo = daysOld.days // 365\n",
    "do = daysOld.days % 365\n",
    "print(f'I am {yo} year and {do} days old')"
   ]
  },
  {
   "cell_type": "code",
   "execution_count": 16,
   "id": "b3055add",
   "metadata": {},
   "outputs": [
    {
     "name": "stdout",
     "output_type": "stream",
     "text": [
      "first argument is not int\n"
     ]
    }
   ],
   "source": [
    "# 7. Write a script that accepts two command line arguments and checks whether exactly two\n",
    "# command line arguments are passed, no less or no more, and that the first argument is an\n",
    "# integer and the second is a string. Make useful feedback if they arenot.\n",
    "\n",
    "import sys\n",
    "arg = sys.argv\n",
    "if len(arg)!=3:\n",
    "    print(\"No of arguments are not 2\")\n",
    "elif not isinstance(arg[1], int):\n",
    "    print(\"first argument is not int\")\n",
    "elif not isinstance(arg[2], str):\n",
    "    print(\"Second argument is not string\")\n"
   ]
  }
 ],
 "metadata": {
  "kernelspec": {
   "display_name": "Python 3 (ipykernel)",
   "language": "python",
   "name": "python3"
  },
  "language_info": {
   "codemirror_mode": {
    "name": "ipython",
    "version": 3
   },
   "file_extension": ".py",
   "mimetype": "text/x-python",
   "name": "python",
   "nbconvert_exporter": "python",
   "pygments_lexer": "ipython3",
   "version": "3.11.5"
  }
 },
 "nbformat": 4,
 "nbformat_minor": 5
}
