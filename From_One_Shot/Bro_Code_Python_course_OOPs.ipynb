{
 "cells": [
  {
   "cell_type": "code",
   "execution_count": null,
   "id": "34c65db0",
   "metadata": {},
   "outputs": [],
   "source": [
    "# python OOPs\n",
    "\n",
    "#-----------------------------------------------------------------\n",
    "from Car import Car\n",
    "\n",
    "car_1 = Car(\"Chevy\",\"Corvette\",2021,\"blue\")\n",
    "car_2 = Car(\"Ford\",\"Mustang\",2022,\"red\")\n",
    "\n",
    "car_1.drive()\n",
    "car_2.stop()\n",
    "#-----------------------------------------------------------------\n",
    "class Car:\n",
    "\n",
    "    def __init__(self,make,model,year,color):\n",
    "        self.make = make\n",
    "        self.model = model\n",
    "        self.year = year\n",
    "        self.color = color\n",
    "\n",
    "    def drive(self):\n",
    "        print(\"This \"+self.model+\" is driving\")\n",
    "\n",
    "    def stop(self):\n",
    "        print(\"This \"+self.model+\" is stopped\")\n",
    "#-----------------------------------------------------------------"
   ]
  },
  {
   "cell_type": "code",
   "execution_count": null,
   "id": "813c67a6",
   "metadata": {},
   "outputs": [],
   "source": [
    "#python class variables\n",
    "\n",
    "#---------------------------------------------------------------------\n",
    "from car import Car\n",
    "\n",
    "car_1 = Car(\"Chevy\",\"Corvette\",2021,\"blue\")\n",
    "car_2 = Car(\"Ford\",\"Mustang\",2022,\"red\")\n",
    "\n",
    "#Car.wheels = 2\n",
    "\n",
    "print(car_1.wheels)\n",
    "print(car_2.wheels)\n",
    "#---------------------------------------------------------------------\n",
    "class Car:\n",
    "\n",
    "    wheels = 4 #class variable\n",
    "\n",
    "    def __init__(self,make,model,year,color):\n",
    "        self.make = make    #instance variable\n",
    "        self.model = model  #instance variable\n",
    "        self.year = year    #instance variable\n",
    "        self.color = color  #instance variable\n",
    "#---------------------------------------------------------------------"
   ]
  },
  {
   "cell_type": "code",
   "execution_count": 1,
   "id": "72e5794b",
   "metadata": {},
   "outputs": [
    {
     "name": "stdout",
     "output_type": "stream",
     "text": [
      "True\n",
      "This animal is eating\n",
      "This animal is sleeping\n",
      "This rabbit is running\n",
      "This fish is swimming\n",
      "This hawk is flying\n"
     ]
    }
   ],
   "source": [
    "#python inheritance tutorial\n",
    "\n",
    "class Animal:\n",
    "\n",
    "    alive = True\n",
    "\n",
    "    def eat(self):\n",
    "        print(\"This animal is eating\")\n",
    "\n",
    "    def sleep(self):\n",
    "        print(\"This animal is sleeping\")\n",
    "\n",
    "class Rabbit(Animal):\n",
    "\n",
    "    def run(self):\n",
    "        print(\"This rabbit is running\")\n",
    "\n",
    "class Fish(Animal):\n",
    "\n",
    "    def swim(self):\n",
    "        print(\"This fish is swimming\")\n",
    "\n",
    "class Hawk(Animal):\n",
    "\n",
    "    def fly(self):\n",
    "        print(\"This hawk is flying\")\n",
    "\n",
    "\n",
    "rabbit = Rabbit()\n",
    "fish = Fish()\n",
    "hawk = Hawk()\n",
    "\n",
    "print(rabbit.alive)\n",
    "fish.eat()\n",
    "hawk.sleep()\n",
    "\n",
    "rabbit.run()\n",
    "fish.swim()\n",
    "hawk.fly()"
   ]
  },
  {
   "cell_type": "code",
   "execution_count": 2,
   "id": "b92ed0ea",
   "metadata": {},
   "outputs": [
    {
     "name": "stdout",
     "output_type": "stream",
     "text": [
      "True\n",
      "This animal is eating\n",
      "This dog is barking\n"
     ]
    }
   ],
   "source": [
    "# multi-level inheritance = when a derived (child) class inherits another derived (child) class\n",
    "\n",
    "class Organism:\n",
    "\n",
    "    alive = True\n",
    "\n",
    "class Animal(Organism):\n",
    "\n",
    "    def eat(self):\n",
    "        print(\"This animal is eating\")\n",
    "\n",
    "class Dog(Animal):\n",
    "\n",
    "    def bark(self):\n",
    "        print(\"This dog is barking\")\n",
    "\n",
    "\n",
    "dog = Dog()\n",
    "print(dog.alive)    # inherited from the Organism class\n",
    "dog.eat()           # inherited from the Animal class\n",
    "dog.bark()          # defined in Dog class"
   ]
  },
  {
   "cell_type": "code",
   "execution_count": 3,
   "id": "f3addf70",
   "metadata": {},
   "outputs": [
    {
     "name": "stdout",
     "output_type": "stream",
     "text": [
      "This animal flees\n",
      "This animal is hunting\n"
     ]
    }
   ],
   "source": [
    "# multiple inheritance = when a child class is derived from more than one parent class\n",
    "\n",
    "class Prey:\n",
    "\n",
    "    def flee(self):\n",
    "        print(\"This animal flees\")\n",
    "\n",
    "class Predator:\n",
    "\n",
    "    def hunt(self):\n",
    "        print(\"This animal is hunting\")\n",
    "\n",
    "class Rabbit(Prey):\n",
    "    pass\n",
    "\n",
    "class Hawk(Predator):\n",
    "    pass\n",
    "\n",
    "class Fish(Prey, Predator):\n",
    "    pass\n",
    "\n",
    "\n",
    "rabbit = Rabbit()\n",
    "hawk = Hawk()\n",
    "fish = Fish()\n",
    "\n",
    "# rabbit.flee()\n",
    "# hawk.hunt()\n",
    "fish.flee()\n",
    "fish.hunt()"
   ]
  },
  {
   "cell_type": "code",
   "execution_count": 4,
   "id": "c98bf6c4",
   "metadata": {},
   "outputs": [
    {
     "name": "stdout",
     "output_type": "stream",
     "text": [
      "This rabbit is eating a carrot\n"
     ]
    }
   ],
   "source": [
    "#python method override\n",
    "\n",
    "class Animal:\n",
    "\n",
    "    def eat(self):\n",
    "        print(\"This animal is eating\")\n",
    "\n",
    "class Rabbit(Animal):\n",
    "\n",
    "    def eat(self):\n",
    "        print(\"This rabbit is eating a carrot\")\n",
    "\n",
    "\n",
    "rabbit = Rabbit()\n",
    "rabbit.eat()"
   ]
  },
  {
   "cell_type": "code",
   "execution_count": 5,
   "id": "770c51c8",
   "metadata": {},
   "outputs": [
    {
     "name": "stdout",
     "output_type": "stream",
     "text": [
      "You start the engine\n",
      "You drive the car\n",
      "You step on the brakes\n",
      "You turn off the engine\n",
      "You start the engine\n",
      "You drive the car\n",
      "You step on the brakes\n",
      "You turn off the engine\n"
     ]
    },
    {
     "data": {
      "text/plain": [
       "<__main__.Car at 0x24c87acbe50>"
      ]
     },
     "execution_count": 5,
     "metadata": {},
     "output_type": "execute_result"
    }
   ],
   "source": [
    "# method chaining = calling multiple methods sequentially\n",
    "#                   each call performs an action on the same object and returns self\n",
    "\n",
    "class Car:\n",
    "\n",
    "    def turn_on(self):\n",
    "        print(\"You start the engine\")\n",
    "        return self\n",
    "\n",
    "    def drive(self):\n",
    "        print(\"You drive the car\")\n",
    "        return self\n",
    "\n",
    "    def brake(self):\n",
    "        print(\"You step on the brakes\")\n",
    "        return self\n",
    "\n",
    "    def turn_off(self):\n",
    "        print(\"You turn off the engine\")\n",
    "        return self\n",
    "\n",
    "\n",
    "car = Car()\n",
    "\n",
    "car.turn_on().drive()\n",
    "car.brake().turn_off()\n",
    "#car.turn_on().drive().brake().turn_off()  --> below is better representation when \n",
    "#                                              you chain numerous methods\n",
    "\n",
    "car.turn_on()\\\n",
    "    .drive()\\\n",
    "    .brake()\\\n",
    "    .turn_off()"
   ]
  },
  {
   "cell_type": "code",
   "execution_count": 6,
   "id": "0a5369d2",
   "metadata": {},
   "outputs": [
    {
     "name": "stdout",
     "output_type": "stream",
     "text": [
      "9\n",
      "27\n"
     ]
    }
   ],
   "source": [
    "# super() = Function used to give access to the methods of a parent class.\n",
    "#           Returns a temporary object of a parent class when used\n",
    "\n",
    "class Rectangle:\n",
    "\n",
    "    def __init__(self, length, width):\n",
    "        self.length = length\n",
    "        self.width = width\n",
    "\n",
    "class Square(Rectangle):\n",
    "\n",
    "    def __init__(self, length, width):\n",
    "        super().__init__(length,width)\n",
    "\n",
    "    def area(self):\n",
    "        return self.length*self.width\n",
    "\n",
    "class Cube(Rectangle):\n",
    "\n",
    "    def __init__(self, length, width, height):\n",
    "        super().__init__(length,width)\n",
    "        self.height = height\n",
    "\n",
    "    def volume(self):\n",
    "        return self.length*self.width*self.height\n",
    "\n",
    "\n",
    "square = Square(3, 3)\n",
    "cube = Cube(3, 3, 3)\n",
    "\n",
    "print(square.area())\n",
    "print(cube.volume())"
   ]
  },
  {
   "cell_type": "code",
   "execution_count": 7,
   "id": "7222518e",
   "metadata": {},
   "outputs": [
    {
     "name": "stdout",
     "output_type": "stream",
     "text": [
      "You drive the car\n",
      "You ride the motorcycle\n",
      "This car is stopped\n",
      "This motorcycle is stopped\n"
     ]
    }
   ],
   "source": [
    "#abstract class = a class which contains one or more abstract methods.\n",
    "#abstract method = a method that has a declaration but does not have an implementation.\n",
    "\n",
    "# prevents a user from creating an object of that class\n",
    "#       + compels a user to override abstract methods in a child class\n",
    "\n",
    "from abc import ABC, abstractmethod\n",
    "\n",
    "class Vehicle(ABC):\n",
    "\n",
    "    @abstractmethod\n",
    "    def go(self):\n",
    "        pass\n",
    "\n",
    "    @abstractmethod\n",
    "    def stop(self):\n",
    "        pass\n",
    "\n",
    "class Car(Vehicle):\n",
    "\n",
    "    def go(self):\n",
    "        print(\"You drive the car\")\n",
    "\n",
    "    def stop(self):\n",
    "        print(\"This car is stopped\")\n",
    "\n",
    "class Motorcycle(Vehicle):\n",
    "\n",
    "    def go(self):\n",
    "        print(\"You ride the motorcycle\")\n",
    "\n",
    "    def stop(self):\n",
    "        print(\"This motorcycle is stopped\")\n",
    "\n",
    "\n",
    "#vehicle = Vehicle()\n",
    "car = Car()\n",
    "motorcycle = Motorcycle()\n",
    "\n",
    "#vehicle.go()\n",
    "car.go()\n",
    "motorcycle.go()\n",
    "\n",
    "#vehicle.stop()\n",
    "car.stop()\n",
    "motorcycle.stop()"
   ]
  },
  {
   "cell_type": "code",
   "execution_count": 8,
   "id": "9ffd56e2",
   "metadata": {},
   "outputs": [
    {
     "name": "stdout",
     "output_type": "stream",
     "text": [
      "red\n",
      "white\n",
      "blue\n",
      "black\n"
     ]
    }
   ],
   "source": [
    "#python objects as arguments\n",
    "\n",
    "class Car:\n",
    "\n",
    "    color = None\n",
    "\n",
    "class Motorcycle:\n",
    "\n",
    "    color = None\n",
    "\n",
    "def change_color(vehicle,color):\n",
    "\n",
    "    vehicle.color = color\n",
    "\n",
    "\n",
    "car_1 = Car()\n",
    "car_2 = Car()\n",
    "car_3 = Car()\n",
    "\n",
    "bike_1 = Motorcycle()\n",
    "\n",
    "change_color(car_1,\"red\")\n",
    "change_color(car_2,\"white\")\n",
    "change_color(car_3,\"blue\")\n",
    "change_color(bike_1,\"black\")\n",
    "\n",
    "print(car_1.color)\n",
    "print(car_2.color)\n",
    "print(car_3.color)\n",
    "print(bike_1.color)"
   ]
  },
  {
   "cell_type": "code",
   "execution_count": 9,
   "id": "5477ebbe",
   "metadata": {},
   "outputs": [
    {
     "name": "stdout",
     "output_type": "stream",
     "text": [
      "This chicken is walking\n",
      "This chicken is clucking\n",
      "You caught the critter!\n"
     ]
    }
   ],
   "source": [
    "# duck typing = concept where the class of an object is less important than the methods/attributes\n",
    "# class type is not checked if minimum methods/attributes are present\n",
    "# “If it walks like a duck, and it quacks like a duck, then it must be a duck.”\n",
    "\n",
    "class Duck:\n",
    "\n",
    "    def walk(self):\n",
    "        print(\"This duck is walking\")\n",
    "\n",
    "    def talk(self):\n",
    "        print(\"This duck is qwuacking\")\n",
    "\n",
    "class Chicken:\n",
    "\n",
    "    def walk(self):\n",
    "        print(\"This chicken is walking\")\n",
    "\n",
    "    def talk(self):\n",
    "        print(\"This chicken is clucking\")\n",
    "\n",
    "class Person():\n",
    "\n",
    "    def catch(self, duck):\n",
    "        duck.walk()\n",
    "        duck.talk()\n",
    "        print(\"You caught the critter!\")\n",
    "\n",
    "\n",
    "duck = Duck()\n",
    "chicken = Chicken()\n",
    "person = Person()\n",
    "\n",
    "person.catch(chicken)"
   ]
  },
  {
   "cell_type": "code",
   "execution_count": 10,
   "id": "be29a5f7",
   "metadata": {},
   "outputs": [
    {
     "name": "stdout",
     "output_type": "stream",
     "text": [
      "What food do you like?: Rajma\n",
      "What food do you like?: Sattu\n",
      "What food do you like?: Dahi\n",
      "What food do you like?: Kabuli\n",
      "What food do you like?: Poha\n",
      "What food do you like?: quit\n"
     ]
    }
   ],
   "source": [
    "# walrus operator :=\n",
    "# new to Python 3.8\n",
    "# assignment expression aka walrus operator\n",
    "# assigns values to variables as part of a larger expression\n",
    "\n",
    "# happy = True\n",
    "# print(happy)\n",
    "\n",
    "# print(happy := True)\n",
    "\n",
    "# foods = list()\n",
    "# while True:\n",
    "#   food = input(\"What food do you like?: \")\n",
    "#       if food == \"quit\":\n",
    "#           break\n",
    "#   foods.append(food)\n",
    "\n",
    "foods = list()\n",
    "while food := input(\"What food do you like?: \") != \"quit\":\n",
    "    foods.append(food)\n"
   ]
  },
  {
   "cell_type": "code",
   "execution_count": 11,
   "id": "4d1658b0",
   "metadata": {},
   "outputs": [
    {
     "name": "stdout",
     "output_type": "stream",
     "text": [
      "Hello\n",
      "Whoa! I can't believe this works! :O\n"
     ]
    }
   ],
   "source": [
    "# assigning functions to variables\n",
    "\n",
    "def hello():\n",
    "    print(\"Hello\")\n",
    "\n",
    "\n",
    "hi = hello\n",
    "hi()\n",
    "\n",
    "say = print\n",
    "say(\"Whoa! I can't believe this works! :O\")"
   ]
  },
  {
   "cell_type": "code",
   "execution_count": 12,
   "id": "5d3d44d6",
   "metadata": {},
   "outputs": [
    {
     "name": "stdout",
     "output_type": "stream",
     "text": [
      "HELLO\n",
      "hello\n"
     ]
    }
   ],
   "source": [
    "#  Higher Order Function =  a function that either:\n",
    "#                           1. accepts a function as an argument\n",
    "#                               or\n",
    "#                           2. returns a function\n",
    "#                           (In python, functions are also treated as objects)\n",
    "\n",
    "# ----- 1. accepts a function as an argument -----\n",
    "def loud(text):\n",
    "   return text.upper()\n",
    "\n",
    "def quiet(text):\n",
    "   return text.lower()\n",
    "\n",
    "def hello(func):\n",
    "   text = func(\"Hello\")\n",
    "   print(text)\n",
    "\n",
    "\n",
    "hello(loud)\n",
    "hello(quiet)\n",
    "# ------------ 2. returns a function -------------\n",
    "#def divisor(x):\n",
    "   #def dividend(y):\n",
    "       #return y / x\n",
    "   #return dividend\n",
    "\n",
    "\n",
    "#divide = divisor(2)\n",
    "#print(divide(10))"
   ]
  },
  {
   "cell_type": "code",
   "execution_count": 13,
   "id": "622cd50e",
   "metadata": {},
   "outputs": [
    {
     "name": "stdout",
     "output_type": "stream",
     "text": [
      "2\n",
      "2\n",
      "6\n",
      "Bro Code\n",
      "True\n"
     ]
    }
   ],
   "source": [
    "# lambda function = function written in 1 line using lambda keyword\n",
    "#                   accepts any number of arguments, but only has one expression.\n",
    "#                   (think of it as a shortcut)\n",
    "#                   (useful if needed for a short period of time, throw-away)\n",
    "#\n",
    "# lambda parameters:expression\n",
    "\n",
    "double = lambda x: x * 2\n",
    "print(double(1))\n",
    "\n",
    "multiply = lambda x, y: x * y\n",
    "print(multiply(1,2))\n",
    "\n",
    "add = lambda x, y, z: x + y + z\n",
    "print(add(1,2,3))\n",
    "\n",
    "full_name = lambda first_name, last_name: first_name+\" \"+last_name\n",
    "print(full_name(\"Bro\",\"Code\"))\n",
    "\n",
    "age_check = lambda age: True if age >= 18 else False\n",
    "print(age_check(18))"
   ]
  },
  {
   "cell_type": "code",
   "execution_count": 14,
   "id": "c97901e5",
   "metadata": {},
   "outputs": [
    {
     "name": "stdout",
     "output_type": "stream",
     "text": [
      "('Sandy', 'A', 33)\n",
      "('Spongebob', 'B', 20)\n",
      "('Mr.Krabs', 'C', 78)\n",
      "('Patrick', 'D', 36)\n",
      "('Squidward', 'F', 60)\n"
     ]
    }
   ],
   "source": [
    "# sort() method   = used with lists\n",
    "# sort() function = used with iterables\n",
    "\n",
    "students = ((\"Squidward\", \"F\", 60),\n",
    "            (\"Sandy\", \"A\", 33),\n",
    "            (\"Patrick\",\"D\", 36),\n",
    "            (\"Spongebob\",\"B\", 20),\n",
    "            (\"Mr.Krabs\",\"C\", 78))\n",
    "\n",
    "grade = lambda grades:grades[1]\n",
    "# students.sort(key=age)                                       # sorts current list\n",
    "sorted_students = sorted(students,key=grade) # sorts and creates a new list\n",
    "\n",
    "for i in sorted_students:\n",
    "    print(i)"
   ]
  },
  {
   "cell_type": "code",
   "execution_count": 15,
   "id": "12f67c4b",
   "metadata": {},
   "outputs": [
    {
     "name": "stdout",
     "output_type": "stream",
     "text": [
      "('shirt', 16.4)\n",
      "('pants', 20.5)\n",
      "('jacket', 41.0)\n",
      "('socks', 8.2)\n"
     ]
    }
   ],
   "source": [
    "# map() =   applies a function to each item in an iterable (list, tuple, etc.)\n",
    "#\n",
    "# map(function,iterable)\n",
    "\n",
    "store = [(\"shirt\",20.00),\n",
    "         (\"pants\",25.00),\n",
    "         (\"jacket\",50.00),\n",
    "         (\"socks\",10.00)]\n",
    "\n",
    "to_euros = lambda data: (data[0],data[1]*0.82)\n",
    "# to_dollars = lambda data: (data[0],data[1]/0.82)\n",
    "\n",
    "store_euros = list(map(to_euros, store))\n",
    "\n",
    "for i in store_euros:\n",
    "    print(i)"
   ]
  },
  {
   "cell_type": "code",
   "execution_count": 16,
   "id": "779ed7ae",
   "metadata": {},
   "outputs": [
    {
     "name": "stdout",
     "output_type": "stream",
     "text": [
      "('Rachel', 19)\n",
      "('Monica', 18)\n",
      "('Chandler', 21)\n",
      "('Ross', 20)\n"
     ]
    }
   ],
   "source": [
    "# filter() =    creates a collection of elements from an iterable,\n",
    "#               for which a function returns true\n",
    "#\n",
    "#               filter(function, iterable)\n",
    "\n",
    "friends = [(\"Rachel\",19),\n",
    "           (\"Monica\",18),\n",
    "           (\"Phoebe\",17),\n",
    "           (\"Joey\",16),\n",
    "           (\"Chandler\",21),\n",
    "           (\"Ross\",20)]\n",
    "\n",
    "age = lambda data:data[1] >= 18\n",
    "\n",
    "drinking_buddies = list(filter(age, friends))\n",
    "\n",
    "for i in drinking_buddies:\n",
    "    print(i)"
   ]
  },
  {
   "cell_type": "code",
   "execution_count": 17,
   "id": "1396ee2c",
   "metadata": {},
   "outputs": [
    {
     "name": "stdout",
     "output_type": "stream",
     "text": [
      "HELLO\n"
     ]
    }
   ],
   "source": [
    "# reduce() = apply a function to an iterable and reduce it to a single cumulative value.\n",
    "#            performs function on first two elements and repeats process until 1 value remains\n",
    "#\n",
    "# reduce(function, iterable)\n",
    "\n",
    "import functools\n",
    "\n",
    "letters = [\"H\",\"E\",\"L\",\"L\",\"O\"]\n",
    "word = functools.reduce(lambda x, y,:x + y,letters)\n",
    "print(word)\n",
    "\n",
    "# factorial = [5,4,3,2,1]\n",
    "# result = functools.reduce(lambda x, y,:x * y,factorial)\n",
    "# print(result)"
   ]
  },
  {
   "cell_type": "code",
   "execution_count": 18,
   "id": "15a03bf4",
   "metadata": {},
   "outputs": [
    {
     "name": "stdout",
     "output_type": "stream",
     "text": [
      "[1, 4, 9, 16, 25, 36, 49, 64, 81, 100]\n",
      "[1, 4, 9, 16, 25, 36, 49, 64, 81, 100]\n",
      "[100, 90, 80, 70, 60]\n"
     ]
    }
   ],
   "source": [
    "# list comprehension =  a way to create a new list with less syntax\n",
    "#                       can mimic certain lambda functions, easier to read\n",
    "#                       list = [expression for item in iterable]\n",
    "#                       list = [expression for item in iterable if conditional]\n",
    "#                       list = [expression if/else for item in iterable]\n",
    "# --------------------------------------------------------------\n",
    "squares = []                # create an empty list\n",
    "for i in range(1,11):       # create a for loop\n",
    "    squares.append(i * i)    # define what each loop iteration should do\n",
    "print(squares)\n",
    "\n",
    "# create a list AND defines what each loop iteration should do\n",
    "squares = [i * i for i in range(1,11)]\n",
    "print(squares)\n",
    "\n",
    "# --------------------------------------------------------------\n",
    "students = [100,90,80,70,60,50,40,30,0]\n",
    "\n",
    "passed_students = list(filter(lambda x: x >= 60, students))\n",
    "passed_students = [i for i in students if i >= 60]\n",
    "# passed_students = [i if i >= 60 else \"FAILED\" for i in students]\n",
    "\n",
    "print(passed_students)\n",
    "\n",
    "# --------------------------------------------------------------"
   ]
  },
  {
   "cell_type": "code",
   "execution_count": 19,
   "id": "c6e50ee3",
   "metadata": {},
   "outputs": [
    {
     "name": "stdout",
     "output_type": "stream",
     "text": [
      "{'New York': 0, 'Boston': 24, 'Los Angeles': 38, 'Chicago': 10}\n"
     ]
    }
   ],
   "source": [
    "# dictionary comprehension = create dictionaries using an expression\n",
    "#                            can replace for loops and certain lambda functions\n",
    "#\n",
    "# dictionary = {key: expression for (key,value) in iterable}\n",
    "# dictionary = {key: expression for (key,value) in iterable if conditional}\n",
    "# dictionary = {key: (if/else) for (key,value) in iterable}\n",
    "# dictionary = {key: function(value) for (key,value) in iterable}\n",
    "# -------------------------------------------------------------------------\n",
    "cities_in_F = {'New York': 32, 'Boston': 75, 'Los Angeles': 100, 'Chicago': 50}\n",
    "cities_in_C = {key: round((value-32)*(5/9)) for (key,value) in cities_in_F.items()}\n",
    "print(cities_in_C)\n",
    "\n",
    "# -------------------------------------------------------------------------\n",
    "# weather = {'New York': \"snowing\", 'Boston': \"sunny\", 'Los Angeles': \"sunny\", 'Chicago': \"cloudy\"}\n",
    "# sunny_weather = {key: value for (key,value) in weather.items() if value == \"sunny\"}\n",
    "# print(sunny_weather)\n",
    "\n",
    "# -------------------------------------------------------------------------\n",
    "# cities = {'New York': 32, 'Boston': 75, 'Los Angeles': 100, 'Chicago': 50}\n",
    "# desc_cities = {key: (\"WARM\" if value >= 40 else \"COLD\") for (key,value) in cities.items()}\n",
    "# print(desc_cities)\n",
    "\n",
    "# -------------------------------------------------------------------------\n",
    "# def check_temp(value):\n",
    "    # if value >= 70:\n",
    "        # return \"HOT\"\n",
    "    # elif 69 >= value >= 40:\n",
    "        # return \"WARM\"\n",
    "    # else:\n",
    "        # return \"COLD\"\n",
    "\n",
    "\n",
    "# cities = {'New York': 32, 'Boston': 75, 'Los Angeles': 100, 'Chicago': 50}\n",
    "# desc_cities = {key: check_temp(value) for (key,value) in cities.items()}\n",
    "# print(desc_cities)\n",
    "\n",
    "# -------------------------------------------------------------------------"
   ]
  },
  {
   "cell_type": "code",
   "execution_count": 20,
   "id": "92738a6f",
   "metadata": {},
   "outputs": [
    {
     "name": "stdout",
     "output_type": "stream",
     "text": [
      "('Dude', 'p@ssword')\n",
      "('Bro', 'abc123')\n",
      "('Mister', 'guest')\n",
      "Dude : p@ssword\n",
      "Bro : abc123\n",
      "Mister : guest\n",
      "('Dude', 'p@ssword', '1/1/2021')\n",
      "('Bro', 'abc123', '1/2/2021')\n",
      "('Mister', 'guest', '1/3/2021')\n"
     ]
    }
   ],
   "source": [
    "# zip(*iterables) =  aggregate elements from two or more iterables (list, tuples, sets, etc.)\n",
    "#                    creates a zip object with paired elements stored in tuples for each element\n",
    "\n",
    "usernames = [\"Dude\", \"Bro\", \"Mister\"]\n",
    "passwords = (\"p@ssword\", \"abc123\", \"guest\")\n",
    "login_dates = [\"1/1/2021\",\"1/2/2021\",\"1/3/2021\"]\n",
    "\n",
    "# --------------------------------------\n",
    "users = list(zip(usernames,passwords))\n",
    "\n",
    "for i in users:\n",
    "    print(i)\n",
    "\n",
    "# --------------------------------------\n",
    "users = dict(zip(usernames,passwords))\n",
    "\n",
    "for key,value in users.items():\n",
    "    print(key+\" : \"+value)\n",
    "\n",
    "# --------------------------------------\n",
    "users = zip(usernames,passwords,login_dates)\n",
    "\n",
    "for i in users:\n",
    "    print(i)\n",
    "\n",
    "# --------------------------------------"
   ]
  },
  {
   "cell_type": "markdown",
   "id": "4205e0ba",
   "metadata": {},
   "source": [
    "***********************************\n",
    "if _name_ == '__main__'\n",
    "***********************************\n",
    "\n",
    "y tho?\n",
    "1. Module can be run as a standalone program\n",
    "or\n",
    "2. Module can be imported and used by other modules\n",
    "\n",
    "Python interpreter sets \"special variables\", one of which is _name_\n",
    "Python will assign the _name_ variable a value of '__main__' if it's\n",
    "the initial module being run\n",
    "\n",
    "def main():\n",
    "    print(\"Hello!\")\n",
    "\n",
    "\n",
    "if _name_ == '__main__':\n",
    "    main()\n",
    "\n",
    "***********************************"
   ]
  },
  {
   "cell_type": "code",
   "execution_count": 21,
   "id": "9bd1beab",
   "metadata": {},
   "outputs": [
    {
     "ename": "SyntaxError",
     "evalue": "invalid syntax (9700049.py, line 5)",
     "output_type": "error",
     "traceback": [
      "\u001b[1;36m  Cell \u001b[1;32mIn[21], line 5\u001b[1;36m\u001b[0m\n\u001b[1;33m    epoch = when your computer thinks time began (reference point)\u001b[0m\n\u001b[1;37m                 ^\u001b[0m\n\u001b[1;31mSyntaxError\u001b[0m\u001b[1;31m:\u001b[0m invalid syntax\n"
     ]
    }
   ],
   "source": [
    "# ***************************************************************************\n",
    "import time\n",
    "# ***************************************************************************\n",
    "print(time.ctime(0))    # convert a time expressed in seconds since epoch to a readable string\n",
    "epoch = when your computer thinks time began (reference point)\n",
    "print(time.time())      # return current seconds since epoch\n",
    "print(time.ctime(time.time())) # will get current time\n",
    "\n",
    "# ***************************************************************************\n",
    "time.strftime(format, time_object) = formats a time_object to a string\n",
    "time_object = time.localtime() # local time\n",
    "time_object = time.gmtime()  # UTC time\n",
    "local_time = time.strftime(\"%B %d %Y %H:%M:%S\", time_object)\n",
    "print(local_time)\n",
    "\n",
    "# ***************************************************************************\n",
    "time.strptime(string_string, format) = parses a string representing time/date and returns a struct_time object\n",
    "time_string = \"20 April, 2020\"\n",
    "time_object = time.strptime(time_string,\"%d %B, %Y\")\n",
    "print(time_object)\n",
    "\n",
    "# ***************************************************************************\n",
    "time.asctime(time_tuple) = accepts a time_object or a tuple up to 9 elements and returns a string\n",
    "(year, month, day, hours, minutes, secs, #day of the week, #day of the year, dst)\n",
    "time_tuple = (2020, 4, 20, 4, 20, 0, 0, 0, 0)\n",
    "time_string = time.asctime(time_tuple)\n",
    "print(time_string)\n",
    "\n",
    "# ***************************************************************************\n",
    "time.asctime(time_tuple) = accepts a time_object or a tuple up to 9 elements and return seconds since epoch\n",
    "(year, month, day, hours, minutes, secs, #day of the week, #day of the year, dst)\n",
    "time_tuple = (2020, 4, 20, 4, 20, 0, 0, 0, 0)\n",
    "time_string = time.mktime(time_tuple)\n",
    "print(time_string)\n",
    "\n",
    "# ***************************************************************************"
   ]
  },
  {
   "cell_type": "code",
   "execution_count": 22,
   "id": "b68359ca",
   "metadata": {},
   "outputs": [
    {
     "name": "stdout",
     "output_type": "stream",
     "text": [
      "You eat breakfast\n",
      "You drank coffee\n",
      "You finish studying\n",
      "6\n",
      "[<_MainThread(MainThread, started 5228)>, <Thread(IOPub, started daemon 10028)>, <Heartbeat(Heartbeat, started daemon 3104)>, <ControlThread(Control, started daemon 2108)>, <HistorySavingThread(IPythonHistorySavingThread, started 15540)>, <ParentPollerWindows(Thread-4, started daemon 17260)>]\n",
      "14044.478709\n"
     ]
    }
   ],
   "source": [
    "# ****************************************************\n",
    "# Python threading tutorial\n",
    "# ****************************************************\n",
    "# thread =  a flow of execution. Like a separate order of instructions.\n",
    "#                  However each thread takes a turn running to achieve concurrency\n",
    "#                  GIL = (global interpreter lock),\n",
    "#                  allows only one thread to hold the control of the Python interpreter at any one time\n",
    "\n",
    "# cpu bound = program/task spends most of it's time waiting for internal events (CPU intensive)\n",
    "#             use multiprocessing\n",
    "\n",
    "# io bound = program/task spends most of it's time waiting for external events (user input, web scraping)\n",
    "#            use multithreading\n",
    "\n",
    "import threading\n",
    "import time\n",
    "\n",
    "\n",
    "def eat_breakfast():\n",
    "    time.sleep(3)\n",
    "    print(\"You eat breakfast\")\n",
    "\n",
    "\n",
    "def drink_coffee():\n",
    "    time.sleep(4)\n",
    "    print(\"You drank coffee\")\n",
    "\n",
    "\n",
    "def study():\n",
    "    time.sleep(5)\n",
    "    print(\"You finish studying\")\n",
    "\n",
    "\n",
    "x = threading.Thread(target=eat_breakfast, args=())\n",
    "x.start()\n",
    "\n",
    "y = threading.Thread(target=drink_coffee, args=())\n",
    "y.start()\n",
    "\n",
    "z = threading.Thread(target=study, args=())\n",
    "z.start()\n",
    "\n",
    "x.join()\n",
    "y.join()\n",
    "z.join()\n",
    "\n",
    "print(threading.active_count())\n",
    "print(threading.enumerate())\n",
    "print(time.perf_counter())\n",
    "\n",
    "# ****************************************************"
   ]
  },
  {
   "cell_type": "code",
   "execution_count": null,
   "id": "e8bc1021",
   "metadata": {},
   "outputs": [],
   "source": [
    "# DON't RUN THIS CODE here\n",
    "\n",
    "# **********************************************************\n",
    "# Python daemon threads\n",
    "# **********************************************************\n",
    "\n",
    "# daemon thread = a thread that runs in the background, not important for program to run\n",
    "#                 your program will not wait for daemon threads to complete before exiting\n",
    "#                 non-daemon threads cannot normally be killed, stay alive until task is complete\n",
    "#\n",
    "#                 ex. background tasks, garbage collection, waiting for input, long running processes\n",
    "\n",
    "import threading\n",
    "import time\n",
    "\n",
    "\n",
    "def timer():\n",
    "    print()\n",
    "    count = 0\n",
    "    while True:\n",
    "        time.sleep(1)\n",
    "        count += 1\n",
    "        print(\"logged in for: \", count, \"seconds\")\n",
    "\n",
    "\n",
    "x = threading.Thread(target=timer, daemon=True)\n",
    "x.start()\n",
    "\n",
    "# x.setDaemon(True)\n",
    "# print(x.isDaemon())\n",
    "\n",
    "answer = input(\"Do you wish to exit?\")\n",
    "\n",
    "# **********************************************************"
   ]
  },
  {
   "cell_type": "code",
   "execution_count": null,
   "id": "8b679cd1",
   "metadata": {},
   "outputs": [],
   "source": [
    "# DON't RUN THIS CODE here\n",
    "\n",
    "# *********************************\n",
    "# Python multiprocessing\n",
    "# *********************************\n",
    "# multiprocessing = running tasks in parallel on different cpu cores, bypasses GIL used for threading\n",
    "#                   multiprocessing = better for cpu bound tasks (heavy cpu usage)\n",
    "#                   multithreading = better for io bound tasks (waiting around)\n",
    "\n",
    "from multiprocessing import Process, cpu_count\n",
    "import time\n",
    "\n",
    "\n",
    "def counter(num):\n",
    "    count = 0\n",
    "    while count < num:\n",
    "        count += 1\n",
    "\n",
    "\n",
    "def main():\n",
    "\n",
    "    print(\"cpu count:\", cpu_count())\n",
    "\n",
    "    a = Process(target=counter, args=(500000000,))\n",
    "    b = Process(target=counter, args=(500000000,))\n",
    "\n",
    "    a.start()\n",
    "    b.start()\n",
    "\n",
    "    print(\"processing...\")\n",
    "\n",
    "    a.join()\n",
    "    b.join()\n",
    "\n",
    "    print(\"Done!\")\n",
    "    print(\"finished in:\", time.perf_counter(), \"seconds\")\n",
    "\n",
    "\n",
    "if _name_ == '__main__':\n",
    "    main()\n",
    "\n",
    "# *********************************"
   ]
  }
 ],
 "metadata": {
  "kernelspec": {
   "display_name": "Python 3 (ipykernel)",
   "language": "python",
   "name": "python3"
  },
  "language_info": {
   "codemirror_mode": {
    "name": "ipython",
    "version": 3
   },
   "file_extension": ".py",
   "mimetype": "text/x-python",
   "name": "python",
   "nbconvert_exporter": "python",
   "pygments_lexer": "ipython3",
   "version": "3.11.5"
  }
 },
 "nbformat": 4,
 "nbformat_minor": 5
}
