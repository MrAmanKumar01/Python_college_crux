{
 "cells": [
  {
   "cell_type": "code",
   "execution_count": 1,
   "id": "9960a569",
   "metadata": {},
   "outputs": [
    {
     "name": "stdout",
     "output_type": "stream",
     "text": [
      "You are 21 years old\n",
      "You are 21 years old\n",
      "There are 2 players online\n",
      "You would like to buy 5 items\n"
     ]
    }
   ],
   "source": [
    "# variable = a reusable container for storing a value\n",
    "#                   a variable behaves as if it were the value it contains\n",
    "\n",
    "# INTEGER\n",
    "age = 21\n",
    "players = 2\n",
    "quantity = 5\n",
    "\n",
    "print(\"You are \" + str(age) + \" years old\")\n",
    "#Or (Use f string)\n",
    "print(f\"You are {age} years old\")\n",
    "print(f\"There are {players} players online\")\n",
    "print(f\"You would like to buy {quantity} items\")"
   ]
  },
  {
   "cell_type": "code",
   "execution_count": 2,
   "id": "f9a9d6dd",
   "metadata": {},
   "outputs": [
    {
     "name": "stdout",
     "output_type": "stream",
     "text": [
      "Your gpa is 3.2\n",
      "You ran 2.5Km\n",
      "The price is $10.99\n"
     ]
    }
   ],
   "source": [
    "# FLOAT\n",
    "gpa = 3.2\n",
    "distance = 2.5\n",
    "price = 10.99\n",
    "\n",
    "print(f\"Your gpa is {gpa}\")\n",
    "print(f\"You ran {distance}Km\")\n",
    "print(f\"The price is ${price}\")"
   ]
  },
  {
   "cell_type": "code",
   "execution_count": 3,
   "id": "35788b63",
   "metadata": {},
   "outputs": [
    {
     "name": "stdout",
     "output_type": "stream",
     "text": [
      "Hello Bro\n",
      "You like pizza\n",
      "Your email is: Bro123@gmail.com\n"
     ]
    }
   ],
   "source": [
    "# STRING\n",
    "name = \"Bro\"\n",
    "food = \"pizza\"\n",
    "email = \"Bro123@gmail.com\"\n",
    "\n",
    "print(f\"Hello {name}\")\n",
    "print(f\"You like {food}\")\n",
    "print(f\"Your email is: {email}\")"
   ]
  },
  {
   "cell_type": "code",
   "execution_count": 4,
   "id": "7981eab4",
   "metadata": {},
   "outputs": [
    {
     "name": "stdout",
     "output_type": "stream",
     "text": [
      "Are you online?: True\n",
      "Is the item for sale?: False\n",
      "Game running: False\n"
     ]
    }
   ],
   "source": [
    "# BOOLEAN\n",
    "online = True\n",
    "for_sale = False\n",
    "running = False\n",
    "\n",
    "print(f\"Are you online?: {online}\")\n",
    "print(f\"Is the item for sale?: {for_sale}\")\n",
    "print(f\"Game running: {running}\")"
   ]
  },
  {
   "cell_type": "code",
   "execution_count": 5,
   "id": "4fe95c40",
   "metadata": {},
   "outputs": [
    {
     "name": "stdout",
     "output_type": "stream",
     "text": [
      "Bro\n",
      "21\n",
      "True\n"
     ]
    }
   ],
   "source": [
    "# multiple assignment = allows us to assign multiple variables at the same time in one line of code\n",
    "\n",
    "name = \"Bro\"\n",
    "age = 21\n",
    "attractive = True\n",
    "\n",
    "name, age, attractive = \"Bro\", 21, True\n",
    "\n",
    "print(name)\n",
    "print(age)\n",
    "print(attractive)"
   ]
  },
  {
   "cell_type": "code",
   "execution_count": 6,
   "id": "22c9b244",
   "metadata": {},
   "outputs": [
    {
     "name": "stdout",
     "output_type": "stream",
     "text": [
      "30\n",
      "30\n",
      "30\n",
      "30\n"
     ]
    }
   ],
   "source": [
    "# another example of multiple assignment\n",
    "\n",
    "Spongebob = 30\n",
    "Patrick = 30\n",
    "Sandy = 30\n",
    "Squidward = 30\n",
    "\n",
    "Spongebob = Patrick = Sandy = Squidward = 30\n",
    "\n",
    "print(Spongebob)\n",
    "print(Patrick)\n",
    "print(Sandy)\n",
    "print(Squidward)"
   ]
  },
  {
   "cell_type": "code",
   "execution_count": 7,
   "id": "9c46e87e",
   "metadata": {},
   "outputs": [
    {
     "name": "stdout",
     "output_type": "stream",
     "text": [
      "<class 'str'>\n",
      "<class 'int'>\n",
      "<class 'float'>\n",
      "<class 'bool'>\n",
      "21.0\n",
      "1\n",
      "True\n",
      "True\n"
     ]
    }
   ],
   "source": [
    "# type casting = The process of converting a value of one data type to another\n",
    "#                          (string, integer, float, boolean)\n",
    "#                          Explicit vs Implicit\n",
    "\n",
    "name = \"Bro\"\n",
    "age = 21\n",
    "gpa = 1.9\n",
    "student = True\n",
    "\n",
    "print(type(name))\n",
    "print(type(age))\n",
    "print(type(gpa))\n",
    "print(type(student)) \n",
    "\n",
    "age = float(age)\n",
    "print(age)\n",
    "\n",
    "gpa = int(gpa)\n",
    "print(gpa)\n",
    "\n",
    "student = str(student)\n",
    "print(student)\n",
    "\n",
    "name = bool(name)\n",
    "print(name)"
   ]
  },
  {
   "cell_type": "code",
   "execution_count": 8,
   "id": "89cf8c09",
   "metadata": {},
   "outputs": [
    {
     "name": "stdout",
     "output_type": "stream",
     "text": [
      "What is your name?: Aman Kumar\n",
      "How old are you?: 24\n",
      "How tall are you?: 275.54\n",
      "Hello Aman Kumar\n",
      "You are 24 years old\n",
      "You are 275.54cm tall\n"
     ]
    }
   ],
   "source": [
    "# taking User input in Python\n",
    "\n",
    "name = input(\"What is your name?: \")\n",
    "age = int(input(\"How old are you?: \"))\n",
    "height = float(input(\"How tall are you?: \"))\n",
    "\n",
    "print(\"Hello \"+name)\n",
    "print(\"You are \"+str(age)+\" years old\")\n",
    "print(\"You are \"+str(height)+\"cm tall\")"
   ]
  },
  {
   "cell_type": "code",
   "execution_count": 10,
   "id": "ca16b058",
   "metadata": {},
   "outputs": [
    {
     "name": "stdout",
     "output_type": "stream",
     "text": [
      "Enter an adjective: large\n",
      "Enter a noun: Lion\n",
      "Enter an adjective: big\n",
      "Enter a verb: fight\n",
      "Enter an adjective: astonished\n",
      "Today I went to a large zoo.\n",
      "In an exhibit, I saw Lion.\n",
      "Lion was big and fighting.\n",
      "I was astonished!\n"
     ]
    }
   ],
   "source": [
    "# ------------------------------------------------\n",
    "# EXERCISE 1 MAD LIBS\n",
    "# ------------------------------------------------\n",
    "adjective1 = input(\"Enter an adjective: \")\n",
    "noun = input(\"Enter a noun: \")\n",
    "adjective2 = input(\"Enter an adjective: \")\n",
    "verb = input(\"Enter a verb: \")\n",
    "adjective3 = input(\"Enter an adjective: \")\n",
    "\n",
    "print(f\"Today I went to a {adjective1} zoo.\")\n",
    "print(f\"In an exhibit, I saw {noun}.\")\n",
    "print(f\"{noun} was {adjective2} and {verb}ing.\")\n",
    "print(f\"I was {adjective3}!\")"
   ]
  },
  {
   "cell_type": "code",
   "execution_count": 12,
   "id": "42fcd7d8",
   "metadata": {},
   "outputs": [
    {
     "name": "stdout",
     "output_type": "stream",
     "text": [
      "Enter the length: 9.5\n",
      "Enter the width: 4.2\n",
      "The area is: 39.9cm^2\n"
     ]
    }
   ],
   "source": [
    "# ------------------------------------------------\n",
    "# EXERCISE 2 AREA CALC\n",
    "# ------------------------------------------------\n",
    "length = float(input(\"Enter the length: \"))\n",
    "width = float(input(\"Enter the width: \"))\n",
    "\n",
    "area = length * width\n",
    "print(f\"The area is: {area}cm^2\")"
   ]
  },
  {
   "cell_type": "code",
   "execution_count": 13,
   "id": "7c5aea71",
   "metadata": {},
   "outputs": [
    {
     "name": "stdout",
     "output_type": "stream",
     "text": [
      "What item would you like to buy?: Lassi\n",
      "What is the price?: 20\n",
      "How many would you like?: 6\n",
      "You have bought 6 x Lassi/s\n",
      "Your total is: $120.0\n"
     ]
    }
   ],
   "source": [
    "# ------------------------------------------------\n",
    "# EXERCISE 3 SHOPPING CART\n",
    "# ------------------------------------------------\n",
    "item = input(\"What item would you like to buy?: \")\n",
    "price = float(input(\"What is the price?: \"))\n",
    "quantity = int(input(\"How many would you like?: \"))\n",
    "\n",
    "total = price * quantity\n",
    "\n",
    "print(f\"You have bought {quantity} x {item}/s\")\n",
    "print(f\"Your total is: ${round(total, 2)}\")"
   ]
  },
  {
   "cell_type": "code",
   "execution_count": 14,
   "id": "6109ec0b",
   "metadata": {},
   "outputs": [
    {
     "name": "stdout",
     "output_type": "stream",
     "text": [
      "10\n",
      "1\n",
      "Aman kumar\n",
      "AMAN KUMAR\n",
      "aman kumar\n",
      "False True\n",
      "False\n",
      "2\n",
      "Anand Kumar\n",
      "Aman KumarAman KumarAman Kumar\n"
     ]
    }
   ],
   "source": [
    "# string functions\n",
    "\n",
    "name = \"Aman Kumar\"\n",
    "numbers = \"123456789\"\n",
    "\n",
    "# get the length of a string\n",
    "print(len(name))\n",
    "print( name.find(\"man\"))\n",
    "# make first character capital and the rest lower case.\n",
    "print( name.capitalize() )\n",
    "print( name.upper() )\n",
    "print( name.lower() )\n",
    "print( name.isdigit(), numbers.isdigit() )\n",
    "# to check if your string contains only alphabetical letters.\n",
    "print( name.isalpha())\n",
    "# count how many a character is in our string\n",
    "print( name.count('a') )\n",
    "# replace the characters in our string\n",
    "print( name.replace('man', \"nand\"))\n",
    "# display the string multiple times by multiplying that string by given number\n",
    "print( name * 3 )"
   ]
  },
  {
   "cell_type": "code",
   "execution_count": 15,
   "id": "559a50ed",
   "metadata": {},
   "outputs": [
    {
     "name": "stdout",
     "output_type": "stream",
     "text": [
      "Aman\n",
      "Kumar\n",
      "Aa ua\n",
      "ramuK namA\n",
      "Aman\n",
      "ramuK\n"
     ]
    },
    {
     "data": {
      "text/plain": [
       "'\\n# way 2\\nwebsite1 = \"http://google.com\"\\nwebsite2 = \"http://wikipedia.com\"\\n# the negative index gets the position from the end.\\nslice = slice(7, -4)\\nprint(website1[slice])\\nprint(website2[slice])\\n'"
      ]
     },
     "execution_count": 15,
     "metadata": {},
     "output_type": "execute_result"
    }
   ],
   "source": [
    "# slice the string\n",
    "# [first:stop:step] including the first character\n",
    "\n",
    "# way 1\n",
    "name = \"Aman Kumar\"\n",
    "first_name = name[0:4]\n",
    "last_name = name[5:]\n",
    "new_name = name[::2]\n",
    "reversed_name = name[::-1]\n",
    "reversed_name2 = name[:-6:]\n",
    "reversed_name3 = name[:-6:-1]\n",
    "print(first_name)   \n",
    "print(last_name)\n",
    "print(new_name)\n",
    "print(reversed_name)\n",
    "print(reversed_name2)\n",
    "print(reversed_name3)\n",
    "\n",
    "\"\"\"\n",
    "# way 2\n",
    "website1 = \"http://google.com\"\n",
    "website2 = \"http://wikipedia.com\"\n",
    "# the negative index gets the position from the end.\n",
    "slice = slice(7, -4)\n",
    "print(website1[slice])\n",
    "print(website2[slice])\n",
    "\"\"\""
   ]
  },
  {
   "cell_type": "code",
   "execution_count": 16,
   "id": "ed424e62",
   "metadata": {},
   "outputs": [
    {
     "name": "stdout",
     "output_type": "stream",
     "text": [
      "The cow jumped over the moon\n",
      "The moon jumped over the cow\n",
      "The moon jumped over the moon\n",
      "The cow jumped over the moon\n",
      "Hello, my name is Bro\n",
      "Hello, my name is Bro       ，1111\n",
      "Hello, my name is Bro       ，1111\n",
      "Hello, my name is        Bro，1111\n",
      "Hello, my name is    Bro    ，1111\n"
     ]
    }
   ],
   "source": [
    "# str.format() = optional method that gives users more control when displaying output\n",
    "\n",
    "print(\"The {} jumped over the {}\".format(\"cow\",\"moon\"))\n",
    "# positional argument\n",
    "print(\"The {1} jumped over the {0}\".format(\"cow\",\"moon\"))\n",
    "print(\"The {1} jumped over the {1}\".format(\"cow\",\"moon\"))\n",
    "\n",
    "# keyword argument\n",
    "print(\"The {animal} jumped over the {item}\".format(animal=\"cow\", item=\"moon\"))\n",
    "\n",
    "name = \"Bro\"\n",
    "\n",
    "print(\"Hello, my name is {}\".format(name))\n",
    "# add padding to a value\n",
    "print(\"Hello, my name is {0:10}，1111\".format(name))\n",
    "# align your value\n",
    "print(\"Hello, my name is {name:<10}，1111\".format(name=name))\n",
    "print(\"Hello, my name is {:>10}，1111\".format(name))\n",
    "print(\"Hello, my name is {:^10}，1111\".format(name))"
   ]
  },
  {
   "cell_type": "code",
   "execution_count": 17,
   "id": "cdde3d01",
   "metadata": {},
   "outputs": [
    {
     "name": "stdout",
     "output_type": "stream",
     "text": [
      "The number pi is 3.14\n",
      "The number pi is 1,000\n",
      "The number pi is 1111101000\n",
      "The number pi is 1750\n",
      "The number pi is 3e8\n",
      "The number pi is 1.000000e+03\n"
     ]
    }
   ],
   "source": [
    "# format some numbers\n",
    "number1 = 3.1415926\n",
    "number2 = 1000\n",
    "\n",
    "# use two decimal places\n",
    "print(\"The number pi is {:.2f}\".format(number1))\n",
    "# insert a comma to the number\n",
    "print(\"The number pi is {:,}\".format(number2))\n",
    "# display your number as binary\n",
    "print(\"The number pi is {:b}\".format(number2))\n",
    "# display your number as octal number\n",
    "print(\"The number pi is {:o}\".format(number2))\n",
    "# display your number as hexadecimal number\n",
    "print(\"The number pi is {:x}\".format(number2))\n",
    "# display the number in scientific notation\n",
    "print(\"The number pi is {:e}\".format(number2))"
   ]
  },
  {
   "cell_type": "code",
   "execution_count": 18,
   "id": "8cacdc40",
   "metadata": {},
   "outputs": [
    {
     "name": "stdout",
     "output_type": "stream",
     "text": [
      "3\n",
      "4\n",
      "3\n",
      "3.14\n",
      "9.8596\n",
      "1.772004514666935\n",
      "3\n",
      "1\n"
     ]
    }
   ],
   "source": [
    "import math\n",
    "\n",
    "pi = 3.14\n",
    "x = 1\n",
    "y = 2\n",
    "z = 3\n",
    "\n",
    "print(round(pi))\n",
    "print(math.ceil(pi))\n",
    "print(math.floor(pi))\n",
    "print(abs(pi))\n",
    "print(pow(pi,2))\n",
    "print(math.sqrt(pi))\n",
    "print(max(x,y,z))\n",
    "print(min(x,y,z))"
   ]
  },
  {
   "cell_type": "code",
   "execution_count": 19,
   "id": "94f6ad96",
   "metadata": {},
   "outputs": [
    {
     "name": "stdout",
     "output_type": "stream",
     "text": [
      "How old are you?: 24\n",
      "You are an adult!\n"
     ]
    }
   ],
   "source": [
    "# if statement = a block of code that will execute if it's condition is true\n",
    "\n",
    "age = int(input(\"How old are you?: \"))\n",
    "\n",
    "if age == 100:\n",
    "    print(\"You are a century old!\")\n",
    "elif age >= 18:\n",
    "    print(\"You are an adult!\")\n",
    "elif age < 0:\n",
    "    print(\"You haven't been born yet!\")\n",
    "else:\n",
    "    print(\"You are a child!\")"
   ]
  },
  {
   "cell_type": "code",
   "execution_count": 20,
   "id": "648ffa9c",
   "metadata": {},
   "outputs": [
    {
     "name": "stdout",
     "output_type": "stream",
     "text": [
      "What is the temperature outside?: 32\n",
      "the temperature is bad today!\n",
      "stay inside!\n",
      "\n",
      "False\n"
     ]
    }
   ],
   "source": [
    "# logical operators (and,or,not) = used to check if two or more conditional statements is true\n",
    "\n",
    "temp = int(input(\"What is the temperature outside?: \"))\n",
    "\n",
    "if temp >= 0 and temp <= 30:\n",
    "    print(\"the temperature is good today!\")\n",
    "    print(\"go outside!\")\n",
    "elif temp < 0 or temp > 30:\n",
    "    print(\"the temperature is bad today!\")\n",
    "    print(\"stay inside!\")\n",
    "\n",
    "#-------------------------------------------------------------------\n",
    "print()\n",
    "x = True\n",
    "print(not x) #True will be False now"
   ]
  },
  {
   "cell_type": "code",
   "execution_count": 21,
   "id": "eaeea2be",
   "metadata": {},
   "outputs": [
    {
     "name": "stdout",
     "output_type": "stream",
     "text": [
      "Enter your name: Aman Kumar\n",
      "Hello Aman Kumar\n"
     ]
    }
   ],
   "source": [
    "# while loop =  a statement that will execute it's block of code,\n",
    "#                        as long as it's condition remains true\n",
    "\n",
    "name = \"\"\n",
    "\n",
    "while len(name) == 0:\n",
    "    name = input(\"Enter your name: \")\n",
    "\n",
    "print(\"Hello \"+name)"
   ]
  },
  {
   "cell_type": "code",
   "execution_count": 22,
   "id": "1826f7b1",
   "metadata": {},
   "outputs": [
    {
     "name": "stdout",
     "output_type": "stream",
     "text": [
      "10\n",
      "9\n",
      "8\n",
      "7\n",
      "6\n",
      "5\n",
      "4\n",
      "3\n",
      "2\n",
      "1\n",
      "Happy New Year!\n"
     ]
    }
   ],
   "source": [
    "# for loop =    a statement that will execute it's block of code\n",
    "#                      a limited amount of times\n",
    "#\n",
    "#                     while loop = unlimited\n",
    "#                     for loop = limited\n",
    "\n",
    "# Countdown program for Happy New Year wish 😎\n",
    "import time\n",
    "\n",
    "#for i in range(10):\n",
    "    #print(i+1)\n",
    "\n",
    "#for i in range(50,100+1,2):\n",
    "    #print(i)\n",
    "\n",
    "#for i in \"Bro Code\":\n",
    "    #print(i)\n",
    "\n",
    "for seconds in range(10,0,-1):\n",
    "    print(seconds)\n",
    "    time.sleep(1)\n",
    "print(\"Happy New Year!\")"
   ]
  },
  {
   "cell_type": "code",
   "execution_count": 23,
   "id": "b6e0d7ec",
   "metadata": {},
   "outputs": [
    {
     "name": "stdout",
     "output_type": "stream",
     "text": [
      "How many rows?: 5\n",
      "How many columns?: 9\n",
      "Enter a symbol to use: 🕉\n",
      "🕉🕉🕉🕉🕉🕉🕉🕉🕉\n",
      "🕉🕉🕉🕉🕉🕉🕉🕉🕉\n",
      "🕉🕉🕉🕉🕉🕉🕉🕉🕉\n",
      "🕉🕉🕉🕉🕉🕉🕉🕉🕉\n",
      "🕉🕉🕉🕉🕉🕉🕉🕉🕉\n"
     ]
    }
   ],
   "source": [
    "# nested loops =    The \"inner loop\" will finish all of it's iterations before\n",
    "#                               finishing one iteration of the \"outer loop\"\n",
    "\n",
    "rows = int(input(\"How many rows?: \"))\n",
    "columns = int(input(\"How many columns?: \"))\n",
    "symbol = input(\"Enter a symbol to use: \")\n",
    "\n",
    "for i in range(rows):\n",
    "    for j in range(columns):\n",
    "        print(symbol, end=\"\")  # end=\"\" --> prevents print() from printing new line\n",
    "    print()"
   ]
  },
  {
   "cell_type": "code",
   "execution_count": 24,
   "id": "da5f6ce3",
   "metadata": {},
   "outputs": [
    {
     "name": "stdout",
     "output_type": "stream",
     "text": [
      "Enter your name: Aman Kumar\n",
      "12345678901\n",
      "2\n",
      "3\n",
      "4\n",
      "5\n",
      "6\n",
      "7\n",
      "8\n",
      "9\n",
      "10\n",
      "11\n",
      "12\n",
      "14\n",
      "15\n",
      "16\n",
      "17\n",
      "18\n",
      "19\n",
      "20\n"
     ]
    }
   ],
   "source": [
    "# Loop Control Statements = change a loops execution from its normal sequence\n",
    "\n",
    "# break =       used to terminate the loop entirely\n",
    "# continue =    skips to the next iteration of the loop.\n",
    "# pass =        does nothing, acts as a placeholder\n",
    "\n",
    "while True:\n",
    "    name = input(\"Enter your name: \")\n",
    "    if name != \"\":\n",
    "        break\n",
    "\n",
    "phone_number = \"123-456-7890\"\n",
    "\n",
    "for i in phone_number:\n",
    "    if i == \"-\":\n",
    "        continue\n",
    "    print(i, end=\"\")\n",
    "\n",
    "for i in range(1,21):\n",
    "    if i == 13:\n",
    "        pass\n",
    "    else:\n",
    "        print(i)"
   ]
  },
  {
   "cell_type": "code",
   "execution_count": 25,
   "id": "0b78159f",
   "metadata": {},
   "outputs": [
    {
     "name": "stdout",
     "output_type": "stream",
     "text": [
      "sushi\n",
      "momos\n",
      "hotdog\n",
      "spaghetti\n",
      "pudding\n"
     ]
    }
   ],
   "source": [
    "# list = used to store multiple items in a single variable\n",
    "\n",
    "food = [\"pizza\",\"momos\",\"hotdog\",\"spaghetti\",\"pudding\"]\n",
    "\n",
    "food[0] = \"sushi\"\n",
    "\n",
    "#food.append(\"ice cream\")\n",
    "#food.remove(\"hotdog\")\n",
    "#food.pop()\n",
    "#food.insert(0,\"cake\")\n",
    "#food.sort()\n",
    "#food.clear()\n",
    "\n",
    "for x in food:\n",
    "    print(x)"
   ]
  },
  {
   "cell_type": "code",
   "execution_count": 26,
   "id": "41668b8c",
   "metadata": {},
   "outputs": [
    {
     "name": "stdout",
     "output_type": "stream",
     "text": [
      "coffee\n",
      "hotdog\n"
     ]
    },
    {
     "ename": "IndexError",
     "evalue": "list index out of range",
     "output_type": "error",
     "traceback": [
      "\u001b[1;31m---------------------------------------------------------------------------\u001b[0m",
      "\u001b[1;31mIndexError\u001b[0m                                Traceback (most recent call last)",
      "Cell \u001b[1;32mIn[26], line 11\u001b[0m\n\u001b[0;32m      9\u001b[0m \u001b[38;5;28mprint\u001b[39m(food[\u001b[38;5;241m0\u001b[39m][\u001b[38;5;241m0\u001b[39m])\n\u001b[0;32m     10\u001b[0m \u001b[38;5;28mprint\u001b[39m(food[\u001b[38;5;241m1\u001b[39m][\u001b[38;5;241m2\u001b[39m])\n\u001b[1;32m---> 11\u001b[0m \u001b[38;5;28mprint\u001b[39m(food[\u001b[38;5;241m2\u001b[39m][\u001b[38;5;241m2\u001b[39m])\n",
      "\u001b[1;31mIndexError\u001b[0m: list index out of range"
     ]
    }
   ],
   "source": [
    "# 2D lists = a list of lists\n",
    "\n",
    "drinks = [\"coffee\",\"soda\",\"tea\"]\n",
    "dinner = [\"pizza\",\"momos\",\"hotdog\"]\n",
    "dessert = [\"cake\",\"ice cream\"]\n",
    "\n",
    "food = [drinks,dinner,dessert]\n",
    "\n",
    "print(food[0][0])\n",
    "print(food[1][2])\n",
    "print(food[2][2])"
   ]
  },
  {
   "cell_type": "code",
   "execution_count": 27,
   "id": "f862f1a5",
   "metadata": {},
   "outputs": [
    {
     "name": "stdout",
     "output_type": "stream",
     "text": [
      "1\n",
      "2\n",
      "Bro\n",
      "21\n",
      "male\n",
      "Bro is here!\n"
     ]
    }
   ],
   "source": [
    "# tuple =   collection which is ordered and unchangeable\n",
    "#                used to group together related data\n",
    "\n",
    "student = (\"Bro\",21,\"male\")\n",
    "\n",
    "print(student.count(\"Bro\"))\n",
    "print(student.index(\"male\"))\n",
    "\n",
    "for x in student:\n",
    "    print(x)\n",
    "\n",
    "if \"Bro\" in student:\n",
    "    print(\"Bro is here!\")"
   ]
  },
  {
   "cell_type": "code",
   "execution_count": 28,
   "id": "ae189515",
   "metadata": {},
   "outputs": [
    {
     "name": "stdout",
     "output_type": "stream",
     "text": [
      "fork\n",
      "knife\n",
      "spoon\n"
     ]
    }
   ],
   "source": [
    "# set = collection which is unordered, unindexed. No duplicate values\n",
    "\n",
    "utensils = {\"fork\",\"spoon\",\"knife\"}\n",
    "dishes = {\"bowl\",\"plate\",\"cup\",\"knife\"}\n",
    "\n",
    "#utensils.add(\"napkin\")\n",
    "#utensils.remove(\"fork\")\n",
    "#utensils.clear()\n",
    "#dishes.update(utensils)\n",
    "#dinner_table = utensils.union(dishes)\n",
    "\n",
    "#print(dishes.difference(utensils))\n",
    "#print(utensils.intersection(dishes))\n",
    "\n",
    "for x in utensils:\n",
    "    print(x)"
   ]
  },
  {
   "cell_type": "code",
   "execution_count": 29,
   "id": "9e9fa1c7",
   "metadata": {},
   "outputs": [
    {
     "name": "stdout",
     "output_type": "stream",
     "text": [
      "USA Washington DC\n",
      "India New Delhi\n",
      "China Beijing\n",
      "Russia Moscow\n"
     ]
    }
   ],
   "source": [
    "# dictionary =  A changeable, *ordered collection of unique key:value pairs\n",
    "#                        Fast because they use hashing, allow us to access a value quickly\n",
    "#                       *dictionaries are now ordered as of Python version 3.7\n",
    "\n",
    "capitals = {'USA':'Washington DC',\n",
    "            'India':'New Delhi',\n",
    "            'China':'Beijing',\n",
    "            'Russia':'Moscow'}\n",
    "\n",
    "# capitals.update({'Germany':'Berlin'})\n",
    "# capitals.update({'USA':'Las Vegas'})\n",
    "# capitals.pop('China')\n",
    "# capitals.clear()\n",
    "\n",
    "# print(capitals['Germany'])\n",
    "# print(capitals.get('Germany'))\n",
    "# print(capitals.keys())\n",
    "# print(capitals.values())\n",
    "# print(capitals.items())\n",
    "\n",
    "for key,value in capitals.items():\n",
    "    print(key, value)"
   ]
  },
  {
   "cell_type": "code",
   "execution_count": 30,
   "id": "5dec7f9e",
   "metadata": {},
   "outputs": [
    {
     "name": "stdout",
     "output_type": "stream",
     "text": [
      "Aman kumar\n",
      "BRO\n",
      "code!\n",
      "!\n"
     ]
    }
   ],
   "source": [
    "# index operator [] = gives access to a sequence’s element (str,list,tuples)\n",
    "\n",
    "my_name = \"aman Kumar\"\n",
    "\n",
    "if(my_name[0].islower()):\n",
    "    my_name = my_name.capitalize() # K is capital but capitalize() will change eveything to lower case & 0th index to upper case\n",
    "    print(my_name)\n",
    "\n",
    "name = \"bro Code!\"\n",
    "  \n",
    "first_name = name[:3].upper()\n",
    "last_name = name[4:].lower()\n",
    "last_character = name[-1]\n",
    "\n",
    "print(first_name)\n",
    "print(last_name)\n",
    "print(last_character)"
   ]
  },
  {
   "cell_type": "code",
   "execution_count": 31,
   "id": "e9ecd73a",
   "metadata": {},
   "outputs": [
    {
     "name": "stdout",
     "output_type": "stream",
     "text": [
      "hello Bro Code\n",
      "You are 21 years old\n",
      "Have a nice day!\n"
     ]
    }
   ],
   "source": [
    "# function = a block of code which is executed only when it is called.\n",
    "# use def keyword for creating a function\n",
    "\n",
    "def hello(first_name,last_name,age):\n",
    "    print(\"hello \"+first_name+\" \"+last_name)\n",
    "    print(\"You are \"+str(age)+\" years old\")\n",
    "    print(\"Have a nice day!\")\n",
    "\n",
    "hello(\"Bro\",\"Code\",21)"
   ]
  },
  {
   "cell_type": "code",
   "execution_count": 32,
   "id": "12992904",
   "metadata": {},
   "outputs": [
    {
     "name": "stdout",
     "output_type": "stream",
     "text": [
      "48\n"
     ]
    }
   ],
   "source": [
    "# return statement = Functions send Python values/objects back to the caller.\n",
    "#                    These values/objects are known as the function’s return value\n",
    "\n",
    "def multiply(number1,number2):\n",
    "    return number1 * number2\n",
    "\n",
    "x = multiply(6,8)\n",
    "\n",
    "print(x)"
   ]
  },
  {
   "cell_type": "code",
   "execution_count": 33,
   "id": "46ac48d3",
   "metadata": {},
   "outputs": [
    {
     "name": "stdout",
     "output_type": "stream",
     "text": [
      "Hello Bro Dude Code\n"
     ]
    }
   ],
   "source": [
    "# keyword arguments =   arguments preceded by an identifier when we pass them to a function\n",
    "#                       The order of the arguments doesn't matter, unlike positional arguments\n",
    "#                       Python knows the names of the arguments that a function receives\n",
    "\n",
    "def hello(first,middle,last):\n",
    "    print(\"Hello \"+first+\" \"+middle+\" \"+last)\n",
    "\n",
    "\n",
    "hello(last=\"Code\",middle=\"Dude\",first=\"Bro\")"
   ]
  },
  {
   "cell_type": "code",
   "execution_count": 34,
   "id": "079a24e8",
   "metadata": {},
   "outputs": [
    {
     "name": "stdout",
     "output_type": "stream",
     "text": [
      "Enter a whole positive number: -3.14\n",
      "3\n"
     ]
    }
   ],
   "source": [
    "# nested functions calls =  function calls inside other function calls\n",
    "#                           innermost function calls are resolved first\n",
    "#                           returned value is used as argument for the next outer function\n",
    "\n",
    "# num = input(\"Enter a whole positive number: \")\n",
    "# num = float(num)\n",
    "# num = abs(num)\n",
    "# num = round(num)\n",
    "# print(num)\n",
    "\n",
    "print(round(abs(float(input(\"Enter a whole positive number: \")))))"
   ]
  },
  {
   "cell_type": "code",
   "execution_count": 35,
   "id": "b9e9e37a",
   "metadata": {},
   "outputs": [
    {
     "name": "stdout",
     "output_type": "stream",
     "text": [
      "Code\n",
      "Bro\n"
     ]
    }
   ],
   "source": [
    "# scope = The region that a variable is recognized\n",
    "#         A variable is only available from inside the region it is created.\n",
    "#         A global and locally scoped version of a variable can be created\n",
    "\n",
    "\"\"\"\n",
    "python priority sequence:\n",
    "L: Local\n",
    "E: Enclosing\n",
    "G: Global\n",
    "B: Built-in\n",
    "\n",
    "\"\"\"\n",
    "\n",
    "name = \"Bro\" # global scope (available inside & outside functions)\n",
    "\n",
    "def display_name():\n",
    "    name = \"Code\"    # local scope (available only inside this function)\n",
    "    print(name)\n",
    "\n",
    "\n",
    "display_name()\n",
    "print(name)"
   ]
  },
  {
   "cell_type": "code",
   "execution_count": 36,
   "id": "90900da0",
   "metadata": {},
   "outputs": [
    {
     "name": "stdout",
     "output_type": "stream",
     "text": [
      "36\n"
     ]
    }
   ],
   "source": [
    "# *args =   parameter that will pack all arguments into a tuple\n",
    "#                useful so that a function can accept a varying amount of arguments\n",
    "\n",
    "def add(*args):\n",
    "    sum = 0\n",
    "    for i in args:\n",
    "        sum += i\n",
    "    return sum\n",
    "\n",
    "\n",
    "print(add(1,2,3,4,5,6,7,8))"
   ]
  },
  {
   "cell_type": "code",
   "execution_count": 37,
   "id": "dabaa355",
   "metadata": {},
   "outputs": [
    {
     "name": "stdout",
     "output_type": "stream",
     "text": [
      "Hello Mr. Bro Dude Code "
     ]
    }
   ],
   "source": [
    "# **kwargs =   parameter that will pack all arguments into a dictionary\n",
    "#                       useful so that a function can accept a varying amount of keyword arguments\n",
    "\n",
    "def hello(**kwargs):\n",
    "    #print(\"Hello \" + kwargs['first'] + \" \" + kwargs['last'])\n",
    "    print(\"Hello\",end=\" \")\n",
    "    for key,value in kwargs.items():\n",
    "        print(value,end=\" \")\n",
    "\n",
    "\n",
    "hello(title=\"Mr.\",first=\"Bro\",middle=\"Dude\",last=\"Code\")"
   ]
  },
  {
   "cell_type": "code",
   "execution_count": 38,
   "id": "a0557e14",
   "metadata": {},
   "outputs": [
    {
     "name": "stdout",
     "output_type": "stream",
     "text": [
      "['J', 2, 4, 'A', 'Q', 8, 'K', 9, 1, 7, 3, 6, 5]\n"
     ]
    }
   ],
   "source": [
    "import random\n",
    "\n",
    "x = random.randint(1,6)\n",
    "y = random.random()\n",
    "\n",
    "myList = ['rock','paper','scissors']\n",
    "z = random.choice(myList)\n",
    "\n",
    "cards = [1,2,3,4,5,6,7,8,9,\"J\",\"Q\",\"K\",\"A\"]\n",
    "\n",
    "random.shuffle(cards)\n",
    "\n",
    "print(cards)"
   ]
  },
  {
   "cell_type": "code",
   "execution_count": 39,
   "id": "75d412dd",
   "metadata": {},
   "outputs": [
    {
     "name": "stdout",
     "output_type": "stream",
     "text": [
      "Enter a number to divide: 5\n",
      "Enter a number to divide by: 0\n",
      "division by zero\n",
      "You can't divide by zero! idiot!\n",
      "This will always execute\n"
     ]
    }
   ],
   "source": [
    "# exception =   events detected during execution that interrupt the flow of a program\n",
    "\n",
    "try:\n",
    "    numerator = int(input(\"Enter a number to divide: \"))\n",
    "    denominator = int(input(\"Enter a number to divide by: \"))\n",
    "    result = numerator / denominator\n",
    "except ZeroDivisionError as e:\n",
    "    print(e)\n",
    "    print(\"You can't divide by zero! idiot!\")\n",
    "except ValueError as e:\n",
    "    print(e)\n",
    "    print(\"Enter only numbers plz\")\n",
    "except Exception as e:\n",
    "    print(e)\n",
    "    print(\"something went wrong :(\")\n",
    "else:\n",
    "    print(result)\n",
    "finally:\n",
    "    print(\"This will always execute\")"
   ]
  },
  {
   "cell_type": "code",
   "execution_count": 40,
   "id": "6802d1df",
   "metadata": {},
   "outputs": [
    {
     "name": "stdout",
     "output_type": "stream",
     "text": [
      "That location doesn't exist!\n"
     ]
    }
   ],
   "source": [
    "import os\n",
    "\n",
    "path = \"C:\\\\Users\\\\User\\\\Desktop\\\\test.txt\"\n",
    "\n",
    "if os.path.exists(path):\n",
    "    print(\"That location exists!\")\n",
    "    if os.path.isfile(path):\n",
    "        print(\"That is a file\")\n",
    "    elif os.path.isdir(path):\n",
    "        print(\"That is a directory\")\n",
    "else:\n",
    "    print(\"That location doesn't exist!\")"
   ]
  },
  {
   "cell_type": "code",
   "execution_count": 41,
   "id": "4468a525",
   "metadata": {},
   "outputs": [
    {
     "name": "stdout",
     "output_type": "stream",
     "text": [
      "That file was not found :(\n"
     ]
    }
   ],
   "source": [
    "# read file\n",
    "\n",
    "try:\n",
    "    with open('test.txt') as file:\n",
    "        print(file.read())\n",
    "except FileNotFoundError:\n",
    "    print(\"That file was not found :(\")"
   ]
  },
  {
   "cell_type": "code",
   "execution_count": 42,
   "id": "ce3c2f9d",
   "metadata": {},
   "outputs": [],
   "source": [
    "# write file\n",
    "\n",
    "text = \"Yooooooooo\\nThis is some text\\nHave a good one!\\n\"\n",
    "\n",
    "with open('test.txt','w') as file:\n",
    "    file.write(text)"
   ]
  },
  {
   "cell_type": "code",
   "execution_count": 43,
   "id": "652edf9d",
   "metadata": {},
   "outputs": [
    {
     "data": {
      "text/plain": [
       "'copy.txt'"
      ]
     },
     "execution_count": 43,
     "metadata": {},
     "output_type": "execute_result"
    }
   ],
   "source": [
    "# copy file using shutil module, there are following 3 methods\n",
    "\n",
    "# copyfile() =  copies contents of a file\n",
    "# copy() =       copyfile() + permission mode + destination can be a directory\n",
    "# copy2() =     copy() + copies metadata (file’s creation and modification times)\n",
    "\n",
    "import shutil\n",
    "\n",
    "shutil.copyfile('test.txt','copy.txt') #src,dst"
   ]
  },
  {
   "cell_type": "code",
   "execution_count": 44,
   "id": "c42d1fa2",
   "metadata": {},
   "outputs": [
    {
     "name": "stdout",
     "output_type": "stream",
     "text": [
      "C:\\Users\\User\\Desktop\\source.txt was not found\n"
     ]
    }
   ],
   "source": [
    "# move file\n",
    "\n",
    "import os\n",
    "\n",
    "source = \"C:\\\\Users\\\\User\\\\Desktop\\\\source.txt\"\n",
    "destination = \"C:\\\\Users\\\\User\\\\Desktop\\\\destination.txt\"\n",
    "\n",
    "try:\n",
    "    if os.path.exists(destination):\n",
    "        print(\"There is already a file there\")\n",
    "    else:\n",
    "        os.replace(source,destination)\n",
    "        print(source+\" was moved\")\n",
    "except FileNotFoundError:\n",
    "    print(source+\" was not found\")"
   ]
  },
  {
   "cell_type": "code",
   "execution_count": 45,
   "id": "e69820f1",
   "metadata": {},
   "outputs": [
    {
     "name": "stdout",
     "output_type": "stream",
     "text": [
      "test.txt was deleted\n"
     ]
    }
   ],
   "source": [
    "# delete file\n",
    "\n",
    "import os\n",
    "import shutil\n",
    "\n",
    "path = \"test.txt\"\n",
    "\n",
    "try:\n",
    "    os.remove(path)    #delete a file\n",
    "    #os.rmdir(path)     #delete an empty directory\n",
    "    #shutil.rmtree(path)#delete a directory containing files\n",
    "except FileNotFoundError:\n",
    "    print(\"That file was not found\")\n",
    "except PermissionError:\n",
    "    print(\"You do not have permission to delete that\")\n",
    "except OSError:\n",
    "    print(\"You cannot delete that using that function\")\n",
    "else:\n",
    "    print(path+\" was deleted\")"
   ]
  },
  {
   "cell_type": "code",
   "execution_count": 46,
   "id": "c0f59b9d",
   "metadata": {},
   "outputs": [
    {
     "data": {
      "text/plain": [
       "'\\n--------- example.py ---------\\n\\npi = 3.14159\\n\\ndef square(x):\\n   return x ** 2\\n\\ndef cube(x):\\n   return x ** 3\\n\\ndef circumference(radius):\\n   return 2 * pi * radius\\n\\ndef area(radius):\\n   return pi * radius ** 2\\n\\n'"
      ]
     },
     "execution_count": 46,
     "metadata": {},
     "output_type": "execute_result"
    }
   ],
   "source": [
    "\"\"\"\n",
    "--------- example.py ---------\n",
    "\n",
    "pi = 3.14159\n",
    "\n",
    "def square(x):\n",
    "   return x ** 2\n",
    "\n",
    "def cube(x):\n",
    "   return x ** 3\n",
    "\n",
    "def circumference(radius):\n",
    "   return 2 * pi * radius\n",
    "\n",
    "def area(radius):\n",
    "   return pi * radius ** 2\n",
    "\n",
    "\"\"\""
   ]
  },
  {
   "cell_type": "code",
   "execution_count": 47,
   "id": "0265ae88",
   "metadata": {},
   "outputs": [
    {
     "name": "stdout",
     "output_type": "stream",
     "text": [
      "28.27431\n"
     ]
    }
   ],
   "source": [
    "import example #example.py to be present in current directory\n",
    "\n",
    "result = example.pi\n",
    "result = example.square(3)\n",
    "result = example.cube(3)\n",
    "result = example.circumference(3)\n",
    "result = example.area(3)\n",
    "\n",
    "print(result)"
   ]
  }
 ],
 "metadata": {
  "kernelspec": {
   "display_name": "Python 3 (ipykernel)",
   "language": "python",
   "name": "python3"
  },
  "language_info": {
   "codemirror_mode": {
    "name": "ipython",
    "version": 3
   },
   "file_extension": ".py",
   "mimetype": "text/x-python",
   "name": "python",
   "nbconvert_exporter": "python",
   "pygments_lexer": "ipython3",
   "version": "3.11.5"
  }
 },
 "nbformat": 4,
 "nbformat_minor": 5
}
